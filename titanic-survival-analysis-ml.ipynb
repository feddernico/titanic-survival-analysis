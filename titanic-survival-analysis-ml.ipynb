{
 "cells": [
  {
   "cell_type": "markdown",
   "id": "9ccb93c5",
   "metadata": {
    "_cell_guid": "24a75052-eb48-4159-be26-f9ee0fa36a5b",
    "_uuid": "60094baf-053f-4986-8a8d-c2dec55b2060",
    "papermill": {
     "duration": 0.010236,
     "end_time": "2022-12-28T13:52:44.217698",
     "exception": false,
     "start_time": "2022-12-28T13:52:44.207462",
     "status": "completed"
    },
    "tags": []
   },
   "source": [
    "# Titanic - Survival Analysis"
   ]
  },
  {
   "cell_type": "markdown",
   "id": "937dcc1b",
   "metadata": {
    "_cell_guid": "e8259b3d-2b70-45da-9f02-a2146a17a57e",
    "_uuid": "f7bf6c41-b3ba-4eb0-9600-bd68e8d3d240",
    "papermill": {
     "duration": 0.007355,
     "end_time": "2022-12-28T13:52:44.233158",
     "exception": false,
     "start_time": "2022-12-28T13:52:44.225803",
     "status": "completed"
    },
    "tags": []
   },
   "source": [
    "# Libraries and Utilities"
   ]
  },
  {
   "cell_type": "code",
   "execution_count": 1,
   "id": "89f2bd57",
   "metadata": {
    "execution": {
     "iopub.execute_input": "2022-12-28T13:52:44.251456Z",
     "iopub.status.busy": "2022-12-28T13:52:44.250333Z",
     "iopub.status.idle": "2022-12-28T13:54:53.830647Z",
     "shell.execute_reply": "2022-12-28T13:54:53.829104Z"
    },
    "papermill": {
     "duration": 129.593167,
     "end_time": "2022-12-28T13:54:53.833980",
     "exception": false,
     "start_time": "2022-12-28T13:52:44.240813",
     "status": "completed"
    },
    "scrolled": true,
    "tags": []
   },
   "outputs": [
    {
     "name": "stdout",
     "output_type": "stream",
     "text": [
      "Collecting fast-ml==3.68\r\n",
      "  Downloading fast_ml-3.68-py3-none-any.whl (42 kB)\r\n",
      "\u001b[2K     \u001b[90m━━━━━━━━━━━━━━━━━━━━━━━━━━━━━━━━━━━━━━━\u001b[0m \u001b[32m42.1/42.1 kB\u001b[0m \u001b[31m181.5 kB/s\u001b[0m eta \u001b[36m0:00:00\u001b[0m\r\n",
      "\u001b[?25hInstalling collected packages: fast-ml\r\n",
      "Successfully installed fast-ml-3.68\r\n",
      "\u001b[33mWARNING: Running pip as the 'root' user can result in broken permissions and conflicting behaviour with the system package manager. It is recommended to use a virtual environment instead: https://pip.pypa.io/warnings/venv\u001b[0m\u001b[33m\r\n",
      "\u001b[0mCollecting verstack==3.6.0\r\n",
      "  Downloading verstack-3.6.0.tar.gz (9.7 MB)\r\n",
      "\u001b[2K     \u001b[90m━━━━━━━━━━━━━━━━━━━━━━━━━━━━━━━━━━━━━━━━\u001b[0m \u001b[32m9.7/9.7 MB\u001b[0m \u001b[31m6.3 MB/s\u001b[0m eta \u001b[36m0:00:00\u001b[0m\r\n",
      "\u001b[?25h  Preparing metadata (setup.py) ... \u001b[?25l-\b \bdone\r\n",
      "\u001b[?25hRequirement already satisfied: pandas in /opt/conda/lib/python3.7/site-packages (from verstack==3.6.0) (1.3.5)\r\n",
      "Requirement already satisfied: numpy in /opt/conda/lib/python3.7/site-packages (from verstack==3.6.0) (1.21.6)\r\n",
      "Requirement already satisfied: xgboost in /opt/conda/lib/python3.7/site-packages (from verstack==3.6.0) (1.6.2)\r\n",
      "Requirement already satisfied: scikit-learn<=1.1.3,>=0.23.2 in /opt/conda/lib/python3.7/site-packages (from verstack==3.6.0) (1.0.2)\r\n",
      "Requirement already satisfied: lightgbm<=3.3.2,>=3.3.0 in /opt/conda/lib/python3.7/site-packages (from verstack==3.6.0) (3.3.2)\r\n",
      "Requirement already satisfied: optuna<=3.0.4,>=2.10.0 in /opt/conda/lib/python3.7/site-packages (from verstack==3.6.0) (3.0.3)\r\n",
      "Requirement already satisfied: plotly<=5.11.0,>=5.3.1 in /opt/conda/lib/python3.7/site-packages (from verstack==3.6.0) (5.10.0)\r\n",
      "Requirement already satisfied: matplotlib in /opt/conda/lib/python3.7/site-packages (from verstack==3.6.0) (3.5.3)\r\n",
      "Requirement already satisfied: python-dateutil<=2.8.2,>=2.8.1 in /opt/conda/lib/python3.7/site-packages (from verstack==3.6.0) (2.8.2)\r\n",
      "Collecting holidays==0.11.3.1\r\n",
      "  Downloading holidays-0.11.3.1-py3-none-any.whl (155 kB)\r\n",
      "\u001b[2K     \u001b[90m━━━━━━━━━━━━━━━━━━━━━━━━━━━━━━━━━━━━━━\u001b[0m \u001b[32m155.7/155.7 kB\u001b[0m \u001b[31m10.3 MB/s\u001b[0m eta \u001b[36m0:00:00\u001b[0m\r\n",
      "\u001b[?25hRequirement already satisfied: mlxtend in /opt/conda/lib/python3.7/site-packages (from verstack==3.6.0) (0.21.0)\r\n",
      "Collecting tensorflow<=2.11.0,>=2.7.0\r\n",
      "  Downloading tensorflow-2.11.0-cp37-cp37m-manylinux_2_17_x86_64.manylinux2014_x86_64.whl (588.3 MB)\r\n",
      "\u001b[2K     \u001b[90m━━━━━━━━━━━━━━━━━━━━━━━━━━━━━━━━━━━━━\u001b[0m \u001b[32m588.3/588.3 MB\u001b[0m \u001b[31m969.4 kB/s\u001b[0m eta \u001b[36m0:00:00\u001b[0m\r\n",
      "\u001b[?25hCollecting keras<=2.11.0,>=2.7.0\r\n",
      "  Downloading keras-2.11.0-py2.py3-none-any.whl (1.7 MB)\r\n",
      "\u001b[2K     \u001b[90m━━━━━━━━━━━━━━━━━━━━━━━━━━━━━━━━━━━━━━━━\u001b[0m \u001b[32m1.7/1.7 MB\u001b[0m \u001b[31m45.6 MB/s\u001b[0m eta \u001b[36m0:00:00\u001b[0m\r\n",
      "\u001b[?25hCollecting category_encoders<=2.5.1,>=2.4.0\r\n",
      "  Downloading category_encoders-2.5.1-py2.py3-none-any.whl (71 kB)\r\n",
      "\u001b[2K     \u001b[90m━━━━━━━━━━━━━━━━━━━━━━━━━━━━━━━━━━━━━━━━\u001b[0m \u001b[32m71.3/71.3 kB\u001b[0m \u001b[31m5.1 MB/s\u001b[0m eta \u001b[36m0:00:00\u001b[0m\r\n",
      "\u001b[?25hRequirement already satisfied: convertdate>=2.3.0 in /opt/conda/lib/python3.7/site-packages (from holidays==0.11.3.1->verstack==3.6.0) (2.4.0)\r\n",
      "Requirement already satisfied: korean-lunar-calendar in /opt/conda/lib/python3.7/site-packages (from holidays==0.11.3.1->verstack==3.6.0) (0.3.1)\r\n",
      "Requirement already satisfied: hijri-converter in /opt/conda/lib/python3.7/site-packages (from holidays==0.11.3.1->verstack==3.6.0) (2.2.4)\r\n",
      "Requirement already satisfied: patsy>=0.5.1 in /opt/conda/lib/python3.7/site-packages (from category_encoders<=2.5.1,>=2.4.0->verstack==3.6.0) (0.5.2)\r\n",
      "Requirement already satisfied: statsmodels>=0.9.0 in /opt/conda/lib/python3.7/site-packages (from category_encoders<=2.5.1,>=2.4.0->verstack==3.6.0) (0.13.2)\r\n",
      "Requirement already satisfied: scipy>=1.0.0 in /opt/conda/lib/python3.7/site-packages (from category_encoders<=2.5.1,>=2.4.0->verstack==3.6.0) (1.7.3)\r\n",
      "Requirement already satisfied: wheel in /opt/conda/lib/python3.7/site-packages (from lightgbm<=3.3.2,>=3.3.0->verstack==3.6.0) (0.37.1)\r\n",
      "Requirement already satisfied: packaging>=20.0 in /opt/conda/lib/python3.7/site-packages (from optuna<=3.0.4,>=2.10.0->verstack==3.6.0) (21.3)\r\n",
      "Requirement already satisfied: tqdm in /opt/conda/lib/python3.7/site-packages (from optuna<=3.0.4,>=2.10.0->verstack==3.6.0) (4.64.0)\r\n",
      "Requirement already satisfied: sqlalchemy>=1.3.0 in /opt/conda/lib/python3.7/site-packages (from optuna<=3.0.4,>=2.10.0->verstack==3.6.0) (1.4.39)\r\n",
      "Requirement already satisfied: cliff in /opt/conda/lib/python3.7/site-packages (from optuna<=3.0.4,>=2.10.0->verstack==3.6.0) (3.10.1)\r\n",
      "Requirement already satisfied: colorlog in /opt/conda/lib/python3.7/site-packages (from optuna<=3.0.4,>=2.10.0->verstack==3.6.0) (6.7.0)\r\n",
      "Requirement already satisfied: PyYAML in /opt/conda/lib/python3.7/site-packages (from optuna<=3.0.4,>=2.10.0->verstack==3.6.0) (6.0)\r\n",
      "Requirement already satisfied: alembic>=1.5.0 in /opt/conda/lib/python3.7/site-packages (from optuna<=3.0.4,>=2.10.0->verstack==3.6.0) (1.8.1)\r\n",
      "Requirement already satisfied: cmaes>=0.8.2 in /opt/conda/lib/python3.7/site-packages (from optuna<=3.0.4,>=2.10.0->verstack==3.6.0) (0.8.2)\r\n",
      "Requirement already satisfied: importlib-metadata<5.0.0 in /opt/conda/lib/python3.7/site-packages (from optuna<=3.0.4,>=2.10.0->verstack==3.6.0) (4.13.0)\r\n",
      "Requirement already satisfied: pytz>=2017.3 in /opt/conda/lib/python3.7/site-packages (from pandas->verstack==3.6.0) (2022.1)\r\n",
      "Requirement already satisfied: tenacity>=6.2.0 in /opt/conda/lib/python3.7/site-packages (from plotly<=5.11.0,>=5.3.1->verstack==3.6.0) (8.0.1)\r\n",
      "Requirement already satisfied: six>=1.5 in /opt/conda/lib/python3.7/site-packages (from python-dateutil<=2.8.2,>=2.8.1->verstack==3.6.0) (1.15.0)\r\n",
      "Requirement already satisfied: threadpoolctl>=2.0.0 in /opt/conda/lib/python3.7/site-packages (from scikit-learn<=1.1.3,>=0.23.2->verstack==3.6.0) (3.1.0)\r\n",
      "Requirement already satisfied: joblib>=0.11 in /opt/conda/lib/python3.7/site-packages (from scikit-learn<=1.1.3,>=0.23.2->verstack==3.6.0) (1.0.1)\r\n",
      "Requirement already satisfied: astunparse>=1.6.0 in /opt/conda/lib/python3.7/site-packages (from tensorflow<=2.11.0,>=2.7.0->verstack==3.6.0) (1.6.3)\r\n",
      "Collecting absl-py>=1.0.0\r\n",
      "  Downloading absl_py-1.3.0-py3-none-any.whl (124 kB)\r\n",
      "\u001b[2K     \u001b[90m━━━━━━━━━━━━━━━━━━━━━━━━━━━━━━━━━━━━━━━\u001b[0m \u001b[32m124.6/124.6 kB\u001b[0m \u001b[31m4.0 MB/s\u001b[0m eta \u001b[36m0:00:00\u001b[0m\r\n",
      "\u001b[?25hRequirement already satisfied: protobuf<3.20,>=3.9.2 in /opt/conda/lib/python3.7/site-packages (from tensorflow<=2.11.0,>=2.7.0->verstack==3.6.0) (3.19.4)\r\n",
      "Requirement already satisfied: h5py>=2.9.0 in /opt/conda/lib/python3.7/site-packages (from tensorflow<=2.11.0,>=2.7.0->verstack==3.6.0) (3.7.0)\r\n",
      "Requirement already satisfied: gast<=0.4.0,>=0.2.1 in /opt/conda/lib/python3.7/site-packages (from tensorflow<=2.11.0,>=2.7.0->verstack==3.6.0) (0.4.0)\r\n",
      "Requirement already satisfied: grpcio<2.0,>=1.24.3 in /opt/conda/lib/python3.7/site-packages (from tensorflow<=2.11.0,>=2.7.0->verstack==3.6.0) (1.43.0)\r\n",
      "Requirement already satisfied: setuptools in /opt/conda/lib/python3.7/site-packages (from tensorflow<=2.11.0,>=2.7.0->verstack==3.6.0) (59.8.0)\r\n",
      "Requirement already satisfied: wrapt>=1.11.0 in /opt/conda/lib/python3.7/site-packages (from tensorflow<=2.11.0,>=2.7.0->verstack==3.6.0) (1.12.1)\r\n",
      "Requirement already satisfied: termcolor>=1.1.0 in /opt/conda/lib/python3.7/site-packages (from tensorflow<=2.11.0,>=2.7.0->verstack==3.6.0) (1.1.0)\r\n",
      "Requirement already satisfied: google-pasta>=0.1.1 in /opt/conda/lib/python3.7/site-packages (from tensorflow<=2.11.0,>=2.7.0->verstack==3.6.0) (0.2.0)\r\n",
      "Requirement already satisfied: opt-einsum>=2.3.2 in /opt/conda/lib/python3.7/site-packages (from tensorflow<=2.11.0,>=2.7.0->verstack==3.6.0) (3.3.0)\r\n",
      "Collecting tensorboard<2.12,>=2.11\r\n",
      "  Downloading tensorboard-2.11.0-py3-none-any.whl (6.0 MB)\r\n",
      "\u001b[2K     \u001b[90m━━━━━━━━━━━━━━━━━━━━━━━━━━━━━━━━━━━━━━━━\u001b[0m \u001b[32m6.0/6.0 MB\u001b[0m \u001b[31m23.5 MB/s\u001b[0m eta \u001b[36m0:00:00\u001b[0m\r\n",
      "\u001b[?25hCollecting libclang>=13.0.0\r\n",
      "  Downloading libclang-14.0.6-py2.py3-none-manylinux2010_x86_64.whl (14.1 MB)\r\n",
      "\u001b[2K     \u001b[90m━━━━━━━━━━━━━━━━━━━━━━━━━━━━━━━━━━━━━━━━\u001b[0m \u001b[32m14.1/14.1 MB\u001b[0m \u001b[31m16.1 MB/s\u001b[0m eta \u001b[36m0:00:00\u001b[0m\r\n",
      "\u001b[?25hCollecting tensorflow-estimator<2.12,>=2.11.0\r\n",
      "  Downloading tensorflow_estimator-2.11.0-py2.py3-none-any.whl (439 kB)\r\n",
      "\u001b[2K     \u001b[90m━━━━━━━━━━━━━━━━━━━━━━━━━━━━━━━━━━━━━━\u001b[0m \u001b[32m439.2/439.2 kB\u001b[0m \u001b[31m26.0 MB/s\u001b[0m eta \u001b[36m0:00:00\u001b[0m\r\n",
      "\u001b[?25hRequirement already satisfied: typing-extensions>=3.6.6 in /opt/conda/lib/python3.7/site-packages (from tensorflow<=2.11.0,>=2.7.0->verstack==3.6.0) (4.4.0)\r\n",
      "Collecting tensorflow-io-gcs-filesystem>=0.23.1\r\n",
      "  Downloading tensorflow_io_gcs_filesystem-0.29.0-cp37-cp37m-manylinux_2_12_x86_64.manylinux2010_x86_64.whl (2.4 MB)\r\n",
      "\u001b[2K     \u001b[90m━━━━━━━━━━━━━━━━━━━━━━━━━━━━━━━━━━━━━━━━\u001b[0m \u001b[32m2.4/2.4 MB\u001b[0m \u001b[31m47.2 MB/s\u001b[0m eta \u001b[36m0:00:00\u001b[0m\r\n",
      "\u001b[?25hCollecting flatbuffers>=2.0\r\n",
      "  Downloading flatbuffers-22.12.6-py2.py3-none-any.whl (26 kB)\r\n",
      "Requirement already satisfied: kiwisolver>=1.0.1 in /opt/conda/lib/python3.7/site-packages (from matplotlib->verstack==3.6.0) (1.4.3)\r\n",
      "Requirement already satisfied: pillow>=6.2.0 in /opt/conda/lib/python3.7/site-packages (from matplotlib->verstack==3.6.0) (9.1.1)\r\n",
      "Requirement already satisfied: pyparsing>=2.2.1 in /opt/conda/lib/python3.7/site-packages (from matplotlib->verstack==3.6.0) (3.0.9)\r\n",
      "Requirement already satisfied: cycler>=0.10 in /opt/conda/lib/python3.7/site-packages (from matplotlib->verstack==3.6.0) (0.11.0)\r\n",
      "Requirement already satisfied: fonttools>=4.22.0 in /opt/conda/lib/python3.7/site-packages (from matplotlib->verstack==3.6.0) (4.33.3)\r\n",
      "Requirement already satisfied: importlib-resources in /opt/conda/lib/python3.7/site-packages (from alembic>=1.5.0->optuna<=3.0.4,>=2.10.0->verstack==3.6.0) (5.8.0)\r\n",
      "Requirement already satisfied: Mako in /opt/conda/lib/python3.7/site-packages (from alembic>=1.5.0->optuna<=3.0.4,>=2.10.0->verstack==3.6.0) (1.2.3)\r\n",
      "Requirement already satisfied: pymeeus<=1,>=0.3.13 in /opt/conda/lib/python3.7/site-packages (from convertdate>=2.3.0->holidays==0.11.3.1->verstack==3.6.0) (0.5.11)\r\n",
      "Requirement already satisfied: zipp>=0.5 in /opt/conda/lib/python3.7/site-packages (from importlib-metadata<5.0.0->optuna<=3.0.4,>=2.10.0->verstack==3.6.0) (3.8.0)\r\n",
      "Requirement already satisfied: greenlet!=0.4.17 in /opt/conda/lib/python3.7/site-packages (from sqlalchemy>=1.3.0->optuna<=3.0.4,>=2.10.0->verstack==3.6.0) (1.1.2)\r\n",
      "Requirement already satisfied: markdown>=2.6.8 in /opt/conda/lib/python3.7/site-packages (from tensorboard<2.12,>=2.11->tensorflow<=2.11.0,>=2.7.0->verstack==3.6.0) (3.3.7)\r\n",
      "Requirement already satisfied: tensorboard-data-server<0.7.0,>=0.6.0 in /opt/conda/lib/python3.7/site-packages (from tensorboard<2.12,>=2.11->tensorflow<=2.11.0,>=2.7.0->verstack==3.6.0) (0.6.1)\r\n",
      "Requirement already satisfied: google-auth-oauthlib<0.5,>=0.4.1 in /opt/conda/lib/python3.7/site-packages (from tensorboard<2.12,>=2.11->tensorflow<=2.11.0,>=2.7.0->verstack==3.6.0) (0.4.6)\r\n",
      "Requirement already satisfied: requests<3,>=2.21.0 in /opt/conda/lib/python3.7/site-packages (from tensorboard<2.12,>=2.11->tensorflow<=2.11.0,>=2.7.0->verstack==3.6.0) (2.28.1)\r\n",
      "Requirement already satisfied: tensorboard-plugin-wit>=1.6.0 in /opt/conda/lib/python3.7/site-packages (from tensorboard<2.12,>=2.11->tensorflow<=2.11.0,>=2.7.0->verstack==3.6.0) (1.8.1)\r\n",
      "Requirement already satisfied: werkzeug>=1.0.1 in /opt/conda/lib/python3.7/site-packages (from tensorboard<2.12,>=2.11->tensorflow<=2.11.0,>=2.7.0->verstack==3.6.0) (2.2.2)\r\n",
      "Requirement already satisfied: google-auth<3,>=1.6.3 in /opt/conda/lib/python3.7/site-packages (from tensorboard<2.12,>=2.11->tensorflow<=2.11.0,>=2.7.0->verstack==3.6.0) (1.35.0)\r\n",
      "Requirement already satisfied: PrettyTable>=0.7.2 in /opt/conda/lib/python3.7/site-packages (from cliff->optuna<=3.0.4,>=2.10.0->verstack==3.6.0) (3.3.0)\r\n",
      "Requirement already satisfied: autopage>=0.4.0 in /opt/conda/lib/python3.7/site-packages (from cliff->optuna<=3.0.4,>=2.10.0->verstack==3.6.0) (0.5.1)\r\n",
      "Requirement already satisfied: pbr!=2.1.0,>=2.0.0 in /opt/conda/lib/python3.7/site-packages (from cliff->optuna<=3.0.4,>=2.10.0->verstack==3.6.0) (5.10.0)\r\n",
      "Requirement already satisfied: stevedore>=2.0.1 in /opt/conda/lib/python3.7/site-packages (from cliff->optuna<=3.0.4,>=2.10.0->verstack==3.6.0) (3.5.1)\r\n",
      "Requirement already satisfied: cmd2>=1.0.0 in /opt/conda/lib/python3.7/site-packages (from cliff->optuna<=3.0.4,>=2.10.0->verstack==3.6.0) (2.4.2)\r\n",
      "Requirement already satisfied: attrs>=16.3.0 in /opt/conda/lib/python3.7/site-packages (from cmd2>=1.0.0->cliff->optuna<=3.0.4,>=2.10.0->verstack==3.6.0) (21.4.0)\r\n",
      "Requirement already satisfied: wcwidth>=0.1.7 in /opt/conda/lib/python3.7/site-packages (from cmd2>=1.0.0->cliff->optuna<=3.0.4,>=2.10.0->verstack==3.6.0) (0.2.5)\r\n",
      "Requirement already satisfied: pyperclip>=1.6 in /opt/conda/lib/python3.7/site-packages (from cmd2>=1.0.0->cliff->optuna<=3.0.4,>=2.10.0->verstack==3.6.0) (1.8.2)\r\n",
      "Requirement already satisfied: rsa<5,>=3.1.4 in /opt/conda/lib/python3.7/site-packages (from google-auth<3,>=1.6.3->tensorboard<2.12,>=2.11->tensorflow<=2.11.0,>=2.7.0->verstack==3.6.0) (4.8)\r\n",
      "Requirement already satisfied: cachetools<5.0,>=2.0.0 in /opt/conda/lib/python3.7/site-packages (from google-auth<3,>=1.6.3->tensorboard<2.12,>=2.11->tensorflow<=2.11.0,>=2.7.0->verstack==3.6.0) (4.2.4)\r\n",
      "Requirement already satisfied: pyasn1-modules>=0.2.1 in /opt/conda/lib/python3.7/site-packages (from google-auth<3,>=1.6.3->tensorboard<2.12,>=2.11->tensorflow<=2.11.0,>=2.7.0->verstack==3.6.0) (0.2.7)\r\n",
      "Requirement already satisfied: requests-oauthlib>=0.7.0 in /opt/conda/lib/python3.7/site-packages (from google-auth-oauthlib<0.5,>=0.4.1->tensorboard<2.12,>=2.11->tensorflow<=2.11.0,>=2.7.0->verstack==3.6.0) (1.3.1)\r\n",
      "Requirement already satisfied: certifi>=2017.4.17 in /opt/conda/lib/python3.7/site-packages (from requests<3,>=2.21.0->tensorboard<2.12,>=2.11->tensorflow<=2.11.0,>=2.7.0->verstack==3.6.0) (2022.9.24)\r\n",
      "Requirement already satisfied: idna<4,>=2.5 in /opt/conda/lib/python3.7/site-packages (from requests<3,>=2.21.0->tensorboard<2.12,>=2.11->tensorflow<=2.11.0,>=2.7.0->verstack==3.6.0) (3.3)\r\n",
      "Requirement already satisfied: urllib3<1.27,>=1.21.1 in /opt/conda/lib/python3.7/site-packages (from requests<3,>=2.21.0->tensorboard<2.12,>=2.11->tensorflow<=2.11.0,>=2.7.0->verstack==3.6.0) (1.26.12)\r\n",
      "Requirement already satisfied: charset-normalizer<3,>=2 in /opt/conda/lib/python3.7/site-packages (from requests<3,>=2.21.0->tensorboard<2.12,>=2.11->tensorflow<=2.11.0,>=2.7.0->verstack==3.6.0) (2.1.0)\r\n",
      "Requirement already satisfied: MarkupSafe>=2.1.1 in /opt/conda/lib/python3.7/site-packages (from werkzeug>=1.0.1->tensorboard<2.12,>=2.11->tensorflow<=2.11.0,>=2.7.0->verstack==3.6.0) (2.1.1)\r\n",
      "Requirement already satisfied: pyasn1<0.5.0,>=0.4.6 in /opt/conda/lib/python3.7/site-packages (from pyasn1-modules>=0.2.1->google-auth<3,>=1.6.3->tensorboard<2.12,>=2.11->tensorflow<=2.11.0,>=2.7.0->verstack==3.6.0) (0.4.8)\r\n",
      "Requirement already satisfied: oauthlib>=3.0.0 in /opt/conda/lib/python3.7/site-packages (from requests-oauthlib>=0.7.0->google-auth-oauthlib<0.5,>=0.4.1->tensorboard<2.12,>=2.11->tensorflow<=2.11.0,>=2.7.0->verstack==3.6.0) (3.2.0)\r\n",
      "Building wheels for collected packages: verstack\r\n",
      "  Building wheel for verstack (setup.py) ... \u001b[?25l-\b \b\\\b \b|\b \bdone\r\n",
      "\u001b[?25h  Created wheel for verstack: filename=verstack-3.6.0-py3-none-any.whl size=94660 sha256=c670cf4aa4f50bd1157ceb281771cbc9fc56217b758e42b66df4eeba26bab00a\r\n",
      "  Stored in directory: /root/.cache/pip/wheels/b8/84/ff/390d485cde7ef3787c91376d2d27ba377e0aa7f66da52f1c59\r\n",
      "Successfully built verstack\r\n",
      "Installing collected packages: libclang, flatbuffers, tensorflow-io-gcs-filesystem, tensorflow-estimator, keras, absl-py, holidays, tensorboard, category_encoders, tensorflow, verstack\r\n",
      "  Attempting uninstall: flatbuffers\r\n",
      "    Found existing installation: flatbuffers 1.12\r\n",
      "    Uninstalling flatbuffers-1.12:\r\n",
      "      Successfully uninstalled flatbuffers-1.12\r\n",
      "  Attempting uninstall: tensorflow-estimator\r\n",
      "    Found existing installation: tensorflow-estimator 2.6.0\r\n",
      "    Uninstalling tensorflow-estimator-2.6.0:\r\n",
      "      Successfully uninstalled tensorflow-estimator-2.6.0\r\n",
      "  Attempting uninstall: keras\r\n",
      "    Found existing installation: keras 2.6.0\r\n",
      "    Uninstalling keras-2.6.0:\r\n",
      "      Successfully uninstalled keras-2.6.0\r\n",
      "  Attempting uninstall: absl-py\r\n",
      "    Found existing installation: absl-py 0.15.0\r\n",
      "    Uninstalling absl-py-0.15.0:\r\n",
      "      Successfully uninstalled absl-py-0.15.0\r\n",
      "  Attempting uninstall: holidays\r\n",
      "    Found existing installation: holidays 0.16\r\n",
      "    Uninstalling holidays-0.16:\r\n",
      "      Successfully uninstalled holidays-0.16\r\n",
      "  Attempting uninstall: tensorboard\r\n",
      "    Found existing installation: tensorboard 2.10.1\r\n",
      "    Uninstalling tensorboard-2.10.1:\r\n",
      "      Successfully uninstalled tensorboard-2.10.1\r\n",
      "  Attempting uninstall: category_encoders\r\n",
      "    Found existing installation: category-encoders 2.5.1.post0\r\n",
      "    Uninstalling category-encoders-2.5.1.post0:\r\n",
      "      Successfully uninstalled category-encoders-2.5.1.post0\r\n",
      "  Attempting uninstall: tensorflow\r\n",
      "    Found existing installation: tensorflow 2.6.4\r\n",
      "    Uninstalling tensorflow-2.6.4:\r\n",
      "      Successfully uninstalled tensorflow-2.6.4\r\n",
      "\u001b[31mERROR: pip's dependency resolver does not currently take into account all the packages that are installed. This behaviour is the source of the following dependency conflicts.\r\n",
      "tfx-bsl 1.9.0 requires pyarrow<6,>=1, but you have pyarrow 8.0.0 which is incompatible.\r\n",
      "tensorflow-transform 1.9.0 requires pyarrow<6,>=1, but you have pyarrow 8.0.0 which is incompatible.\r\n",
      "tensorflow-transform 1.9.0 requires tensorflow!=2.0.*,!=2.1.*,!=2.2.*,!=2.3.*,!=2.4.*,!=2.5.*,!=2.6.*,!=2.7.*,!=2.8.*,<2.10,>=1.15.5, but you have tensorflow 2.11.0 which is incompatible.\r\n",
      "tensorflow-io 0.21.0 requires tensorflow<2.7.0,>=2.6.0, but you have tensorflow 2.11.0 which is incompatible.\r\n",
      "tensorflow-io 0.21.0 requires tensorflow-io-gcs-filesystem==0.21.0, but you have tensorflow-io-gcs-filesystem 0.29.0 which is incompatible.\r\n",
      "prophet 1.1.1 requires holidays>=0.14.2, but you have holidays 0.11.3.1 which is incompatible.\r\n",
      "featuretools 1.11.1 requires holidays>=0.13, but you have holidays 0.11.3.1 which is incompatible.\u001b[0m\u001b[31m\r\n",
      "\u001b[0mSuccessfully installed absl-py-1.3.0 category_encoders-2.5.1 flatbuffers-22.12.6 holidays-0.11.3.1 keras-2.11.0 libclang-14.0.6 tensorboard-2.11.0 tensorflow-2.11.0 tensorflow-estimator-2.11.0 tensorflow-io-gcs-filesystem-0.29.0 verstack-3.6.0\r\n",
      "\u001b[33mWARNING: Running pip as the 'root' user can result in broken permissions and conflicting behaviour with the system package manager. It is recommended to use a virtual environment instead: https://pip.pypa.io/warnings/venv\u001b[0m\u001b[33m\r\n",
      "\u001b[0m"
     ]
    }
   ],
   "source": [
    "# install required libraries\n",
    "!pip install fast-ml==3.68\n",
    "!pip install verstack==3.6.0"
   ]
  },
  {
   "cell_type": "code",
   "execution_count": 2,
   "id": "f70d06e2",
   "metadata": {
    "execution": {
     "iopub.execute_input": "2022-12-28T13:54:53.973387Z",
     "iopub.status.busy": "2022-12-28T13:54:53.972979Z",
     "iopub.status.idle": "2022-12-28T13:54:55.012431Z",
     "shell.execute_reply": "2022-12-28T13:54:55.010733Z"
    },
    "papermill": {
     "duration": 1.114282,
     "end_time": "2022-12-28T13:54:55.015740",
     "exception": false,
     "start_time": "2022-12-28T13:54:53.901458",
     "status": "completed"
    },
    "tags": []
   },
   "outputs": [],
   "source": [
    "!mkdir models"
   ]
  },
  {
   "cell_type": "code",
   "execution_count": 3,
   "id": "f2a794e3",
   "metadata": {
    "execution": {
     "iopub.execute_input": "2022-12-28T13:54:55.156699Z",
     "iopub.status.busy": "2022-12-28T13:54:55.156185Z",
     "iopub.status.idle": "2022-12-28T13:54:56.183140Z",
     "shell.execute_reply": "2022-12-28T13:54:56.181500Z"
    },
    "papermill": {
     "duration": 1.101283,
     "end_time": "2022-12-28T13:54:56.186291",
     "exception": false,
     "start_time": "2022-12-28T13:54:55.085008",
     "status": "completed"
    },
    "tags": []
   },
   "outputs": [],
   "source": [
    "!mkdir output"
   ]
  },
  {
   "cell_type": "code",
   "execution_count": 4,
   "id": "fbd76d92",
   "metadata": {
    "_cell_guid": "75829816-6cab-48ba-bf0f-dbd42f2718a7",
    "_uuid": "f73beca1-71bd-447d-81ea-c42556b53fe0",
    "collapsed": false,
    "execution": {
     "iopub.execute_input": "2022-12-28T13:54:56.324889Z",
     "iopub.status.busy": "2022-12-28T13:54:56.323330Z",
     "iopub.status.idle": "2022-12-28T13:55:05.245947Z",
     "shell.execute_reply": "2022-12-28T13:55:05.244199Z"
    },
    "jupyter": {
     "outputs_hidden": false
    },
    "papermill": {
     "duration": 8.996049,
     "end_time": "2022-12-28T13:55:05.249813",
     "exception": false,
     "start_time": "2022-12-28T13:54:56.253764",
     "status": "completed"
    },
    "tags": []
   },
   "outputs": [
    {
     "data": {
      "text/html": [
       "<style type='text/css'>\n",
       ".datatable table.frame { margin-bottom: 0; }\n",
       ".datatable table.frame thead { border-bottom: none; }\n",
       ".datatable table.frame tr.coltypes td {  color: #FFFFFF;  line-height: 6px;  padding: 0 0.5em;}\n",
       ".datatable .bool    { background: #DDDD99; }\n",
       ".datatable .object  { background: #565656; }\n",
       ".datatable .int     { background: #5D9E5D; }\n",
       ".datatable .float   { background: #4040CC; }\n",
       ".datatable .str     { background: #CC4040; }\n",
       ".datatable .time    { background: #40CC40; }\n",
       ".datatable .row_index {  background: var(--jp-border-color3);  border-right: 1px solid var(--jp-border-color0);  color: var(--jp-ui-font-color3);  font-size: 9px;}\n",
       ".datatable .frame tbody td { text-align: left; }\n",
       ".datatable .frame tr.coltypes .row_index {  background: var(--jp-border-color0);}\n",
       ".datatable th:nth-child(2) { padding-left: 12px; }\n",
       ".datatable .hellipsis {  color: var(--jp-cell-editor-border-color);}\n",
       ".datatable .vellipsis {  background: var(--jp-layout-color0);  color: var(--jp-cell-editor-border-color);}\n",
       ".datatable .na {  color: var(--jp-cell-editor-border-color);  font-size: 80%;}\n",
       ".datatable .sp {  opacity: 0.25;}\n",
       ".datatable .footer { font-size: 9px; }\n",
       ".datatable .frame_dimensions {  background: var(--jp-border-color3);  border-top: 1px solid var(--jp-border-color0);  color: var(--jp-ui-font-color3);  display: inline-block;  opacity: 0.6;  padding: 1px 10px 1px 5px;}\n",
       ".datatable .frame thead tr.colnames {  background-image: url('data:image/png;base64,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');  background-repeat: repeat-x;  background-size: 14px;  height: 28px;}\n",
       "</style>\n"
      ],
      "text/plain": [
       "<IPython.core.display.HTML object>"
      ]
     },
     "metadata": {},
     "output_type": "display_data"
    },
    {
     "name": "stderr",
     "output_type": "stream",
     "text": [
      "2022-12-28 13:54:59.848643: I tensorflow/core/platform/cpu_feature_guard.cc:193] This TensorFlow binary is optimized with oneAPI Deep Neural Network Library (oneDNN) to use the following CPU instructions in performance-critical operations:  AVX2 FMA\n",
      "To enable them in other operations, rebuild TensorFlow with the appropriate compiler flags.\n",
      "2022-12-28 13:55:00.021677: W tensorflow/compiler/xla/stream_executor/platform/default/dso_loader.cc:64] Could not load dynamic library 'libcudart.so.11.0'; dlerror: libcudart.so.11.0: cannot open shared object file: No such file or directory; LD_LIBRARY_PATH: /usr/local/cuda/lib64:/usr/local/cuda/lib:/usr/local/lib/x86_64-linux-gnu:/usr/local/nvidia/lib:/usr/local/nvidia/lib64:\n",
      "2022-12-28 13:55:00.021735: I tensorflow/compiler/xla/stream_executor/cuda/cudart_stub.cc:29] Ignore above cudart dlerror if you do not have a GPU set up on your machine.\n",
      "2022-12-28 13:55:01.612901: W tensorflow/compiler/xla/stream_executor/platform/default/dso_loader.cc:64] Could not load dynamic library 'libnvinfer.so.7'; dlerror: libnvinfer.so.7: cannot open shared object file: No such file or directory; LD_LIBRARY_PATH: /usr/local/cuda/lib64:/usr/local/cuda/lib:/usr/local/lib/x86_64-linux-gnu:/usr/local/nvidia/lib:/usr/local/nvidia/lib64:\n",
      "2022-12-28 13:55:01.613305: W tensorflow/compiler/xla/stream_executor/platform/default/dso_loader.cc:64] Could not load dynamic library 'libnvinfer_plugin.so.7'; dlerror: libnvinfer_plugin.so.7: cannot open shared object file: No such file or directory; LD_LIBRARY_PATH: /usr/local/cuda/lib64:/usr/local/cuda/lib:/usr/local/lib/x86_64-linux-gnu:/usr/local/nvidia/lib:/usr/local/nvidia/lib64:\n",
      "2022-12-28 13:55:01.613344: W tensorflow/compiler/tf2tensorrt/utils/py_utils.cc:38] TF-TRT Warning: Cannot dlopen some TensorRT libraries. If you would like to use Nvidia GPU with TensorRT, please make sure the missing libraries mentioned above are installed properly.\n"
     ]
    },
    {
     "name": "stdout",
     "output_type": "stream",
     "text": [
      "/kaggle/input/titanic/train.csv\n",
      "/kaggle/input/titanic/test.csv\n",
      "/kaggle/input/titanic/gender_submission.csv\n"
     ]
    }
   ],
   "source": [
    "# This Python 3 environment comes with many helpful analytics libraries installed\n",
    "# It is defined by the kaggle/python Docker image: https://github.com/kaggle/docker-python\n",
    "# For example, here's several helpful packages to load\n",
    "\n",
    "import lightgbm as lgb\n",
    "import optuna\n",
    "import os\n",
    "import matplotlib.pyplot as plt\n",
    "import numpy as np # linear algebra\n",
    "import pandas as pd # data processing, CSV file I/O (e.g. pd.read_csv)\n",
    "import seaborn as sns\n",
    "\n",
    "\n",
    "\n",
    "# Input data files are available in the read-only \"../input/\" directory\n",
    "# For example, running this (by clicking run or pressing Shift+Enter) will list all files under the input directory\n",
    "\n",
    "from fast_ml.feature_selection import get_constant_features\n",
    "from fast_ml.feature_selection import get_correlated_pairs\n",
    "from gensim.models import Word2Vec\n",
    "from random import shuffle\n",
    "from sklearn.metrics import classification_report\n",
    "from sklearn.metrics import roc_auc_score,precision_score, confusion_matrix, accuracy_score, roc_curve, f1_score # Several useful metrics\n",
    "from sklearn.model_selection import train_test_split\n",
    "from sklearn.model_selection import RepeatedKFold\n",
    "from tabulate import tabulate\n",
    "from verstack import NaNImputer\n",
    "\n",
    "# set the random seed\n",
    "random_seed = 1234\n",
    "\n",
    "# target variable name\n",
    "TARGET = 'Survived'\n",
    "\n",
    "for dirname, _, filenames in os.walk('/kaggle/input'):\n",
    "    for filename in filenames:\n",
    "        print(os.path.join(dirname, filename))\n",
    "\n",
    "# You can write up to 20GB to the current directory (/kaggle/working/) that gets preserved as output when you create a version using \"Save & Run All\" \n",
    "# You can also write temporary files to /kaggle/temp/, but they won't be saved outside of the current session"
   ]
  },
  {
   "cell_type": "code",
   "execution_count": 5,
   "id": "a8762c6e",
   "metadata": {
    "execution": {
     "iopub.execute_input": "2022-12-28T13:55:05.409141Z",
     "iopub.status.busy": "2022-12-28T13:55:05.407788Z",
     "iopub.status.idle": "2022-12-28T13:55:05.431340Z",
     "shell.execute_reply": "2022-12-28T13:55:05.429897Z"
    },
    "papermill": {
     "duration": 0.097911,
     "end_time": "2022-12-28T13:55:05.434332",
     "exception": false,
     "start_time": "2022-12-28T13:55:05.336421",
     "status": "completed"
    },
    "tags": []
   },
   "outputs": [],
   "source": [
    "def apply_w2v(sentences, model, num_features):\n",
    "    \"\"\"\"\"\"\n",
    "    def _average_word_vectors(words, model, vocabulary, num_features):\n",
    "        feature_vector = np.zeros((num_features,), dtype=\"float64\")\n",
    "        n_words = 0.\n",
    "        for word in words:\n",
    "            if word in vocabulary: \n",
    "                n_words = n_words + 1.\n",
    "                feature_vector = np.add(feature_vector, model.wv[word])\n",
    "\n",
    "        if n_words:\n",
    "            feature_vector = np.divide(feature_vector, n_words)\n",
    "        return feature_vector\n",
    "    \n",
    "    vocab = set(model.wv.index_to_key)\n",
    "    feats = [_average_word_vectors(s, model, vocab, num_features) for s in sentences]\n",
    "    \n",
    "    return np.array(feats)\n",
    "\n",
    "\n",
    "def gen_cat2vec_sentences(df):\n",
    "    \"\"\"\"\"\"\n",
    "    X_w2v = df.copy(deep=True)\n",
    "    names = list(X_w2v.columns.values)\n",
    "    for c in names:\n",
    "        X_w2v[c] = X_w2v[c].fillna('unknow').astype('category')\n",
    "        X_w2v[c].cat.categories = [\"%s %s\" % (c,g) for g in X_w2v[c].cat.categories]\n",
    "    X_w2v = X_w2v.values.tolist()\n",
    "    \n",
    "    return X_w2v\n",
    "\n",
    "\n",
    "def fit_cat2vec_model(df, n_cat2vec_features, n_cat2vec_window):\n",
    "    \"\"\"\"\"\"\n",
    "    X_w2v = gen_cat2vec_sentences(df.sample(frac=0.6))\n",
    "    for i in X_w2v:\n",
    "        shuffle(i)    \n",
    "    model = Word2Vec(X_w2v, vector_size=n_cat2vec_features, window=n_cat2vec_window)\n",
    "    \n",
    "    return model\n",
    "\n",
    "\n",
    "def na_feats_report(df, verbose=True):\n",
    "\n",
    "    cols = df.columns.tolist()\n",
    "    nas_list = []\n",
    "    nas_perc_list = []\n",
    "\n",
    "    # missing features\n",
    "    for col in cols:\n",
    "        nas = df[col].isna().sum()\n",
    "        nas_list.append(nas)\n",
    "        nas_perc = nas / df.shape[0]\n",
    "        nas_perc_list.append(nas_perc)\n",
    "        if verbose:\n",
    "            print(col, '-', nas, '/', np.round(nas_perc, 3))\n",
    "\n",
    "    nas_df = pd.DataFrame([cols, nas_list, nas_perc_list]).T\n",
    "    nas_df.columns = ['feature', 'nas', 'nas_perc']\n",
    "    \n",
    "    return nas_df\n",
    "\n",
    "\n",
    "def iqr_range_detection(df, col):\n",
    "    quantiles = df[col].quantile([.25, .75]).values\n",
    "    Q1 = quantiles[0]\n",
    "    Q3 = quantiles[1]\n",
    "    IQR = Q3 - Q1\n",
    "    \n",
    "    lower_limit = Q3 - (1.5 * IQR)\n",
    "    upper_limit = Q3 + (1.5 * IQR)\n",
    "    \n",
    "    return lower_limit, upper_limit\n",
    "\n",
    "\n",
    "def iqr_range_clip(df, cols):\n",
    "    clipped_cols = []\n",
    "    \n",
    "    for col in cols:\n",
    "        if df[col].nunique() > 10:\n",
    "            try:\n",
    "                lower_limit, upper_limit = iqr_range_detection(df, col)\n",
    "                if (lower_limit != upper_limit\n",
    "                    and (df.loc[(df[col] > upper_limit) | (df[col] < lower_limit)].shape[0] > 0)):\n",
    "                    print(f'{col} has {df[col].nunique()} unique values: clipping values outside [{lower_limit}, {upper_limit}]')\n",
    "                    df[f'{col}'] = df[col].clip(lower=lower_limit, upper=upper_limit)\n",
    "            except Exception as e:\n",
    "                print(f'Exception raised by {col}: {e}')"
   ]
  },
  {
   "cell_type": "code",
   "execution_count": 6,
   "id": "fd57a0a9",
   "metadata": {
    "_cell_guid": "71a9dc3d-7e9a-4a0f-bfd1-c4a075c64ff8",
    "_uuid": "b2279e07-6c12-4891-b1c1-e9cde91e1098",
    "collapsed": false,
    "execution": {
     "iopub.execute_input": "2022-12-28T13:55:05.577543Z",
     "iopub.status.busy": "2022-12-28T13:55:05.576564Z",
     "iopub.status.idle": "2022-12-28T13:55:05.623129Z",
     "shell.execute_reply": "2022-12-28T13:55:05.621712Z"
    },
    "jupyter": {
     "outputs_hidden": false
    },
    "papermill": {
     "duration": 0.121808,
     "end_time": "2022-12-28T13:55:05.626352",
     "exception": false,
     "start_time": "2022-12-28T13:55:05.504544",
     "status": "completed"
    },
    "tags": []
   },
   "outputs": [],
   "source": [
    "# get the data sources and set the indexes according using the passanger ids\n",
    "df = pd.read_csv('/kaggle/input/titanic/train.csv')\n",
    "df.set_index('PassengerId', inplace=True)\n",
    "test_df = pd.read_csv('/kaggle/input/titanic/test.csv')\n",
    "test_df.set_index('PassengerId', inplace=True)\n",
    "\n",
    "# split the initial train dataframe into train and evaluation set\n",
    "train_df, valid_df = train_test_split(df, test_size=0.3, random_state=random_seed)"
   ]
  },
  {
   "cell_type": "code",
   "execution_count": 7,
   "id": "f22e8663",
   "metadata": {
    "_cell_guid": "8ff20c6a-1f25-470a-8663-a85bbdd982af",
    "_uuid": "b07ddfd5-040e-4b22-b222-a28507a4aece",
    "collapsed": false,
    "execution": {
     "iopub.execute_input": "2022-12-28T13:55:05.778476Z",
     "iopub.status.busy": "2022-12-28T13:55:05.777294Z",
     "iopub.status.idle": "2022-12-28T13:55:05.799410Z",
     "shell.execute_reply": "2022-12-28T13:55:05.797980Z"
    },
    "jupyter": {
     "outputs_hidden": false
    },
    "papermill": {
     "duration": 0.09769,
     "end_time": "2022-12-28T13:55:05.802429",
     "exception": false,
     "start_time": "2022-12-28T13:55:05.704739",
     "status": "completed"
    },
    "tags": []
   },
   "outputs": [],
   "source": [
    "# check if there are any duplicated passengers\n",
    "assert len([train_idx\n",
    "            for train_idx in df.index.tolist() \n",
    "            if train_idx in test_df.index.tolist()]) == 0"
   ]
  },
  {
   "cell_type": "code",
   "execution_count": 8,
   "id": "5149a450",
   "metadata": {
    "execution": {
     "iopub.execute_input": "2022-12-28T13:55:05.969058Z",
     "iopub.status.busy": "2022-12-28T13:55:05.968261Z",
     "iopub.status.idle": "2022-12-28T13:55:05.994628Z",
     "shell.execute_reply": "2022-12-28T13:55:05.993198Z"
    },
    "papermill": {
     "duration": 0.11259,
     "end_time": "2022-12-28T13:55:05.997853",
     "exception": false,
     "start_time": "2022-12-28T13:55:05.885263",
     "status": "completed"
    },
    "tags": []
   },
   "outputs": [],
   "source": [
    "def preprocess(df, train=True):\n",
    "\n",
    "    # initial features to drop after being transformed\n",
    "    to_drop = []\n",
    "\n",
    "    # Categorical variable treatment\n",
    "    # decompose the name\n",
    "    title_pattern = '(Mr\\.|Mrs\\.|Miss\\.|Col\\.|Capt\\.|Don\\.|Master\\.|Rev\\.|Jonkheer\\.|Major\\.|Dr\\.|Mlle\\.|Mme\\.|Dona\\.|Miss\\.)'\n",
    "    df['Title'] = df['Name'].str.extract(title_pattern)\n",
    "    # regex to extract the surname from name \n",
    "    df['Surname'] = df['Name'].str.extract(\"(^\\w+\\s*\\'*\\-*\\w+,|^\\w+\\s*y\\s*\\w+,)\")\n",
    "    # regex to extract the spouse name (it's surrounded by parenthesis)\n",
    "    df['SpouseName'] = df['Name'].str.extract('(\\(\\\"*\\w*\\s*\\\"*\\w*\\.*\\\"*\\s*\\w*\\s*\\w*\\s*\\w*\\s*\\\"*\\))')\n",
    "    # remove the extracted surname, title and spouse values from the initial name column\n",
    "    df['NameOnly'] = df.apply(lambda x: (str(x['Name'])\n",
    "                                         .replace(str(x['Surname']), '')\n",
    "                                         .replace(str(x['Title']), '')\n",
    "                                         .replace(str(x['SpouseName']), '')).strip(),\n",
    "                              axis=1)\n",
    "    df['Surname'] = df['Surname'].str.replace(',', '', regex=False)\n",
    "    df['SpouseName'] = df['SpouseName'].str.replace('(', '')\n",
    "    df['SpouseName'] = df['SpouseName'].str.replace(')', '')\n",
    "    df['SpouseName'] = df['SpouseName'].str.strip()\n",
    "    df['SpouseSurname'] = df['SpouseName'].str.extract('(\\w+$)')\n",
    "    df['SpouseName'] = df.apply(lambda x: (str(x['SpouseName'])\n",
    "                                           .replace(str(x['SpouseSurname']), '')).strip(),\n",
    "                                axis=1)\n",
    "    df['SpouseSurname'].fillna('NA', inplace=True)\n",
    "    df.loc[df['SpouseSurname'] == 'NA', 'SpouseName'] = 'NA'\n",
    "\n",
    "    # add the initial feature to the TO DROP list\n",
    "    to_drop.append('Name')\n",
    "\n",
    "    # ticket and cabin information\n",
    "    df['Deck'] = df['Cabin'].str.extract('(\\w)')\n",
    "    df['Cabin'] = df['Cabin'].str.replace(r'[A-Z]', '', regex=True)\n",
    "    df['TicketNumber'] = df['Ticket'].str.extract('([0-9]+$)')\n",
    "    df['TicketNumber'] = df['TicketNumber'].str.strip()\n",
    "    # extract the ticket code information\n",
    "    df['TicketCode'] = df.apply(lambda x: x['Ticket'].replace(str(x['TicketNumber']), '').strip(), axis=1)\n",
    "    df['TicketCode'] = df['TicketCode'].str.replace('.', '', regex=False)\n",
    "    df['TicketCode'] = df['TicketCode'].str.upper()\n",
    "    df['TicketCode'] = df['TicketCode'].str.replace('\\s', '', regex=True)\n",
    "    df['TicketCode'] = df['TicketCode'].str.replace('A/5', 'A5', regex=False)\n",
    "    df['TicketCode'] = df['TicketCode'].str.replace('A/4', 'A4', regex=False)\n",
    "\n",
    "    to_drop.append('Ticket')\n",
    "\n",
    "    # impute missing values \n",
    "    # Arbitrary caegory imputation: Let's set the missing values of these features to UNKNOWN\n",
    "    df['Cabin'].fillna('UNKNOWN', inplace=True)\n",
    "    df['Deck'].fillna('UNKNOWN', inplace=True)\n",
    "    df['TicketNumber'].fillna('UNKNOWN', inplace=True)\n",
    "\n",
    "    imputer = NaNImputer()\n",
    "    imputed_df = imputer.impute(df)\n",
    "\n",
    "    na_feats_report(imputed_df)\n",
    "\n",
    "    # divide features into numerical and categorical\n",
    "    cat_cols = imputed_df.select_dtypes(include=['O']).columns.tolist()\n",
    "    num_cols = imputed_df.select_dtypes(exclude=['O']).columns.tolist()\n",
    "\n",
    "    n_cat2vec_features = len(cat_cols) # define the cat2vecs dimentions\n",
    "    n_cat2vec_window = len(cat_cols) * 2 # define the w2v window size\n",
    "\n",
    "    if train:\n",
    "        c2v_model = fit_cat2vec_model(imputed_df.loc[:, cat_cols], n_cat2vec_features, n_cat2vec_window)\n",
    "        c2v_model.save('models/c2v_model.w2v')\n",
    "    else:\n",
    "        c2v_model = Word2Vec.load('models/c2v_model.w2v')\n",
    "\n",
    "    # training\n",
    "    tr_c2v_matrix = apply_w2v(gen_cat2vec_sentences(imputed_df.loc[:, cat_cols]),\n",
    "                              c2v_model, n_cat2vec_features)\n",
    "\n",
    "    # add the cat2vec matrix to the corresponding columns \n",
    "    imputed_df.loc[:, cat_cols] = tr_c2v_matrix\n",
    "    \n",
    "    # remove constant features\n",
    "    constant_feats = get_constant_features(imputed_df)\n",
    "    print(tabulate(constant_feats, headers='keys', tablefmt='psql'))\n",
    "\n",
    "    to_drop += constant_feats['Var'].values.tolist()\n",
    "    \n",
    "    # remove correlated pairs     \n",
    "    temp_to_drop = [1]\n",
    "    to_drop = []\n",
    "    i = 1\n",
    "\n",
    "    while len(temp_to_drop):\n",
    "        print(f'running round number {i}')\n",
    "        corr_pairs = get_correlated_pairs(\n",
    "            imputed_df.drop(columns=to_drop, axis=1)\n",
    "            .select_dtypes(include=['number'])\n",
    "        )\n",
    "        print(tabulate(corr_pairs, headers='keys', tablefmt='psql'))\n",
    "        temp_to_drop = corr_pairs['feature1'].unique().tolist()\n",
    "\n",
    "        temp_to_drop = [col for col in temp_to_drop if TARGET not in col]\n",
    "\n",
    "        print()\n",
    "        print(f'features to drop: {temp_to_drop}')\n",
    "        # make sure not to remove the TARGET\n",
    "        temp_to_drop = list(set(temp_to_drop) - set(TARGET))\n",
    "        to_drop += temp_to_drop\n",
    "\n",
    "        i += 1\n",
    "    \n",
    "    imputed_df['Age'] = np.round(imputed_df['Age'], 0).astype('int32')\n",
    "    iqr_range_clip(imputed_df, num_cols)\n",
    "\n",
    "    if train:\n",
    "        imputed_df.drop(columns=to_drop, axis=1, inplace=True)\n",
    "    \n",
    "    return imputed_df, to_drop\n",
    "    "
   ]
  },
  {
   "cell_type": "code",
   "execution_count": 9,
   "id": "798035b6",
   "metadata": {
    "execution": {
     "iopub.execute_input": "2022-12-28T13:55:06.169177Z",
     "iopub.status.busy": "2022-12-28T13:55:06.168022Z",
     "iopub.status.idle": "2022-12-28T13:55:07.399064Z",
     "shell.execute_reply": "2022-12-28T13:55:07.397663Z"
    },
    "papermill": {
     "duration": 1.319576,
     "end_time": "2022-12-28T13:55:07.401880",
     "exception": false,
     "start_time": "2022-12-28T13:55:06.082304",
     "status": "completed"
    },
    "scrolled": true,
    "tags": []
   },
   "outputs": [
    {
     "name": "stdout",
     "output_type": "stream",
     "text": [
      "\n",
      " * Initiating NaNImputer.impute\n",
      "     . Dataset dimensions:\n",
      "     .. rows:         623\n",
      "     .. columns:      19\n",
      "     .. mb in memory: 0.1\n",
      "     .. NaN cols num: 2\n",
      "\n",
      "   - Drop hopeless NaN cols\n",
      "\n",
      "   - Processing whole data for imputation\n",
      "     . Processed 10 cols; 4 to go\n",
      "\n",
      "   - Imputing single core 2 cols\n",
      "     . Imputed (regression) - 122      NaN in Age\n",
      "     . Imputed (multiclass) - 1        NaN in Embarked\n",
      "\n",
      "   - Missing values after imputation: 0\n",
      "\n",
      "Time elapsed for impute execution: 0.97447 seconds\n",
      "Survived - 0 / 0.0\n",
      "Pclass - 0 / 0.0\n",
      "Name - 0 / 0.0\n",
      "Sex - 0 / 0.0\n",
      "Age - 0 / 0.0\n",
      "SibSp - 0 / 0.0\n",
      "Parch - 0 / 0.0\n",
      "Ticket - 0 / 0.0\n",
      "Fare - 0 / 0.0\n",
      "Cabin - 0 / 0.0\n",
      "Embarked - 0 / 0.0\n",
      "Title - 0 / 0.0\n",
      "Surname - 0 / 0.0\n",
      "SpouseName - 0 / 0.0\n",
      "NameOnly - 0 / 0.0\n",
      "SpouseSurname - 0 / 0.0\n",
      "Deck - 0 / 0.0\n",
      "TicketNumber - 0 / 0.0\n",
      "TicketCode - 0 / 0.0\n",
      "+--------+-------+---------+--------+\n",
      "| Desc   | Var   | Value   | Perc   |\n",
      "|--------+-------+---------+--------|\n",
      "+--------+-------+---------+--------+\n",
      "running round number 1\n",
      "+--------------+------------+------------+--------+------------+\n",
      "| corr_group   | feature1   | feature2   | corr   | abs_corr   |\n",
      "|--------------+------------+------------+--------+------------|\n",
      "+--------------+------------+------------+--------+------------+\n",
      "\n",
      "features to drop: []\n",
      "Age has 70 unique values: clipping values outside [12.5, 63.5]\n",
      "Fare has 210 unique values: clipping values outside [-3.6343999999999994, 65.6344]\n"
     ]
    }
   ],
   "source": [
    "train_imputed_df, to_drop_train = preprocess(train_df, train=True)"
   ]
  },
  {
   "cell_type": "code",
   "execution_count": 10,
   "id": "75a496e3",
   "metadata": {
    "execution": {
     "iopub.execute_input": "2022-12-28T13:55:07.546816Z",
     "iopub.status.busy": "2022-12-28T13:55:07.546346Z",
     "iopub.status.idle": "2022-12-28T13:55:08.936088Z",
     "shell.execute_reply": "2022-12-28T13:55:08.933951Z"
    },
    "papermill": {
     "duration": 1.464878,
     "end_time": "2022-12-28T13:55:08.939132",
     "exception": false,
     "start_time": "2022-12-28T13:55:07.474254",
     "status": "completed"
    },
    "scrolled": true,
    "tags": []
   },
   "outputs": [
    {
     "name": "stdout",
     "output_type": "stream",
     "text": [
      "\n",
      " * Initiating NaNImputer.impute\n",
      "     . Dataset dimensions:\n",
      "     .. rows:         268\n",
      "     .. columns:      19\n",
      "     .. mb in memory: 0.04\n",
      "     .. NaN cols num: 4\n",
      "\n",
      "   - Drop hopeless NaN cols\n",
      "     . Missing values in Surname replaced by \"Missing_data\" string\n",
      "\n",
      "   - Processing whole data for imputation\n",
      "     . Processed 10 cols; 4 to go\n",
      "\n",
      "   - Imputing single core 3 cols\n",
      "     . Imputed (regression) - 55       NaN in Age\n",
      "     . Imputed (multiclass) - 1        NaN in Embarked\n",
      "     . Imputed (multiclass) - 4        NaN in Title\n",
      "\n",
      "   - Missing values after imputation: 0\n",
      "\n",
      "Time elapsed for impute execution: 1.23694 seconds\n",
      "Survived - 0 / 0.0\n",
      "Pclass - 0 / 0.0\n",
      "Name - 0 / 0.0\n",
      "Sex - 0 / 0.0\n",
      "Age - 0 / 0.0\n",
      "SibSp - 0 / 0.0\n",
      "Parch - 0 / 0.0\n",
      "Ticket - 0 / 0.0\n",
      "Fare - 0 / 0.0\n",
      "Cabin - 0 / 0.0\n",
      "Embarked - 0 / 0.0\n",
      "Title - 0 / 0.0\n",
      "Surname - 0 / 0.0\n",
      "SpouseName - 0 / 0.0\n",
      "NameOnly - 0 / 0.0\n",
      "SpouseSurname - 0 / 0.0\n",
      "Deck - 0 / 0.0\n",
      "TicketNumber - 0 / 0.0\n",
      "TicketCode - 0 / 0.0\n",
      "+--------+-------+---------+--------+\n",
      "| Desc   | Var   | Value   | Perc   |\n",
      "|--------+-------+---------+--------|\n",
      "+--------+-------+---------+--------+\n",
      "running round number 1\n",
      "+--------------+------------+------------+--------+------------+\n",
      "| corr_group   | feature1   | feature2   | corr   | abs_corr   |\n",
      "|--------------+------------+------------+--------+------------|\n",
      "+--------------+------------+------------+--------+------------+\n",
      "\n",
      "features to drop: []\n",
      "Age has 59 unique values: clipping values outside [15.0, 57.0]\n",
      "Fare has 135 unique values: clipping values outside [-3.6859499999999983, 65.93594999999999]\n"
     ]
    }
   ],
   "source": [
    "valid_imputed_df, to_drop_valid = preprocess(valid_df, train=False)\n",
    "valid_imputed_df.drop(columns=to_drop_train, axis=1, inplace=True)"
   ]
  },
  {
   "cell_type": "code",
   "execution_count": 11,
   "id": "f0e5069b",
   "metadata": {
    "execution": {
     "iopub.execute_input": "2022-12-28T13:55:09.092694Z",
     "iopub.status.busy": "2022-12-28T13:55:09.092174Z",
     "iopub.status.idle": "2022-12-28T13:55:10.558237Z",
     "shell.execute_reply": "2022-12-28T13:55:10.556692Z"
    },
    "papermill": {
     "duration": 1.544412,
     "end_time": "2022-12-28T13:55:10.561879",
     "exception": false,
     "start_time": "2022-12-28T13:55:09.017467",
     "status": "completed"
    },
    "tags": []
   },
   "outputs": [
    {
     "name": "stdout",
     "output_type": "stream",
     "text": [
      "\n",
      " * Initiating NaNImputer.impute\n",
      "     . Dataset dimensions:\n",
      "     .. rows:         418\n",
      "     .. columns:      18\n",
      "     .. mb in memory: 0.06\n",
      "     .. NaN cols num: 3\n",
      "\n",
      "   - Drop hopeless NaN cols\n",
      "\n",
      "   - Processing whole data for imputation\n",
      "     . Processed 10 cols; 5 to go\n",
      "\n",
      "   - Imputing single core 3 cols\n",
      "     . Imputed (regression) - 86       NaN in Age\n",
      "     . Imputed (regression) - 1        NaN in Fare\n",
      "     . Imputed (multiclass) - 1        NaN in Title\n",
      "\n",
      "   - Missing values after imputation: 0\n",
      "\n",
      "Time elapsed for impute execution: 1.30048 seconds\n",
      "Pclass - 0 / 0.0\n",
      "Name - 0 / 0.0\n",
      "Sex - 0 / 0.0\n",
      "Age - 0 / 0.0\n",
      "SibSp - 0 / 0.0\n",
      "Parch - 0 / 0.0\n",
      "Ticket - 0 / 0.0\n",
      "Fare - 0 / 0.0\n",
      "Cabin - 0 / 0.0\n",
      "Embarked - 0 / 0.0\n",
      "Title - 0 / 0.0\n",
      "Surname - 0 / 0.0\n",
      "SpouseName - 0 / 0.0\n",
      "NameOnly - 0 / 0.0\n",
      "SpouseSurname - 0 / 0.0\n",
      "Deck - 0 / 0.0\n",
      "TicketNumber - 0 / 0.0\n",
      "TicketCode - 0 / 0.0\n",
      "+--------+-------+---------+--------+\n",
      "| Desc   | Var   | Value   | Perc   |\n",
      "|--------+-------+---------+--------|\n",
      "+--------+-------+---------+--------+\n",
      "running round number 1\n",
      "+--------------+------------+------------+--------+------------+\n",
      "| corr_group   | feature1   | feature2   | corr   | abs_corr   |\n",
      "|--------------+------------+------------+--------+------------|\n",
      "+--------------+------------+------------+--------+------------+\n",
      "\n",
      "features to drop: []\n",
      "Age has 64 unique values: clipping values outside [15.0, 57.0]\n",
      "Fare has 170 unique values: clipping values outside [-3.8922374999999967, 66.8359875]\n"
     ]
    }
   ],
   "source": [
    "test_imputed_df, to_drop_test = preprocess(test_df, train=False)\n",
    "test_imputed_df.drop(columns=to_drop_train, axis=1, inplace=True)"
   ]
  },
  {
   "cell_type": "code",
   "execution_count": 12,
   "id": "9105cd06",
   "metadata": {
    "execution": {
     "iopub.execute_input": "2022-12-28T13:55:10.731640Z",
     "iopub.status.busy": "2022-12-28T13:55:10.730395Z",
     "iopub.status.idle": "2022-12-28T13:55:10.741021Z",
     "shell.execute_reply": "2022-12-28T13:55:10.739559Z"
    },
    "papermill": {
     "duration": 0.097861,
     "end_time": "2022-12-28T13:55:10.743992",
     "exception": false,
     "start_time": "2022-12-28T13:55:10.646131",
     "status": "completed"
    },
    "tags": []
   },
   "outputs": [],
   "source": [
    "X_train = train_imputed_df.drop(columns=[TARGET], axis=1)\n",
    "y_train = train_imputed_df[[TARGET]]\n",
    "\n",
    "X_valid = valid_imputed_df.drop(columns=[TARGET], axis=1)\n",
    "y_valid = valid_imputed_df[[TARGET]]\n",
    "\n",
    "X_test = test_imputed_df.copy(deep=True)"
   ]
  },
  {
   "cell_type": "code",
   "execution_count": 13,
   "id": "ea186dc5",
   "metadata": {
    "execution": {
     "iopub.execute_input": "2022-12-28T13:55:10.890011Z",
     "iopub.status.busy": "2022-12-28T13:55:10.888658Z",
     "iopub.status.idle": "2022-12-28T13:55:10.975736Z",
     "shell.execute_reply": "2022-12-28T13:55:10.973905Z"
    },
    "papermill": {
     "duration": 0.161781,
     "end_time": "2022-12-28T13:55:10.978662",
     "exception": false,
     "start_time": "2022-12-28T13:55:10.816881",
     "status": "completed"
    },
    "scrolled": true,
    "tags": []
   },
   "outputs": [
    {
     "name": "stdout",
     "output_type": "stream",
     "text": [
      "Starting training...\n",
      "[LightGBM] [Info] Number of positive: 240, number of negative: 383\n",
      "[LightGBM] [Warning] Auto-choosing col-wise multi-threading, the overhead of testing was 0.000472 seconds.\n",
      "You can set `force_col_wise=true` to remove the overhead.\n",
      "[LightGBM] [Info] Total Bins 1014\n",
      "[LightGBM] [Info] Number of data points in the train set: 623, number of used features: 18\n",
      "[LightGBM] [Info] [binary:BoostFromScore]: pavg=0.385233 -> initscore=-0.467396\n",
      "[LightGBM] [Info] Start training from score -0.467396\n",
      "[LightGBM] [Warning] No further splits with positive gain, best gain: -inf\n",
      "Training until validation scores don't improve for 5 rounds\n",
      "[LightGBM] [Warning] No further splits with positive gain, best gain: -inf\n",
      "[LightGBM] [Warning] No further splits with positive gain, best gain: -inf\n",
      "[LightGBM] [Warning] No further splits with positive gain, best gain: -inf\n",
      "[LightGBM] [Warning] No further splits with positive gain, best gain: -inf\n",
      "[LightGBM] [Warning] No further splits with positive gain, best gain: -inf\n",
      "[LightGBM] [Warning] No further splits with positive gain, best gain: -inf\n",
      "[LightGBM] [Warning] No further splits with positive gain, best gain: -inf\n",
      "[LightGBM] [Warning] No further splits with positive gain, best gain: -inf\n",
      "[LightGBM] [Warning] No further splits with positive gain, best gain: -inf\n",
      "[LightGBM] [Warning] No further splits with positive gain, best gain: -inf\n",
      "[LightGBM] [Warning] No further splits with positive gain, best gain: -inf\n",
      "[LightGBM] [Warning] No further splits with positive gain, best gain: -inf\n",
      "[LightGBM] [Warning] No further splits with positive gain, best gain: -inf\n",
      "[LightGBM] [Warning] No further splits with positive gain, best gain: -inf\n",
      "[LightGBM] [Warning] No further splits with positive gain, best gain: -inf\n",
      "[LightGBM] [Warning] No further splits with positive gain, best gain: -inf\n",
      "[LightGBM] [Warning] No further splits with positive gain, best gain: -inf\n",
      "[LightGBM] [Warning] No further splits with positive gain, best gain: -inf\n",
      "Early stopping, best iteration is:\n",
      "[14]\tvalid_0's auc: 0.877451\n",
      "Saving model...\n",
      "Starting predicting...\n"
     ]
    }
   ],
   "source": [
    "# create dataset for lightgbm\n",
    "dtrain = lgb.Dataset(X_train, y_train)\n",
    "dvalid = lgb.Dataset(X_valid, y_valid)\n",
    "\n",
    "# specify your configurations as a dict\n",
    "\n",
    "params = {\n",
    "    'boosting_type': 'gbdt',\n",
    "    'objective': 'binary',\n",
    "    'metric': 'auc',\n",
    "    'feature_pre_filter': False,\n",
    "    \n",
    "    \n",
    "    'lambda_l1': 2.0613308284770256e-08, \n",
    "    'lambda_l2': 1.2501186755034501e-06,\n",
    "    'num_leaves': 124,\n",
    "    'feature_fraction': 0.8671073372934706,\n",
    "    'bagging_fraction': 0.9418378329425231,\n",
    "    'bagging_freq': 6,\n",
    "    'min_child_samples': 17\n",
    "    \n",
    "}\n",
    "\n",
    "print('Starting training...')\n",
    "# train\n",
    "clf = lgb.train(params,\n",
    "                dtrain,\n",
    "                num_boost_round=20,\n",
    "                valid_sets=dvalid,\n",
    "                callbacks=[lgb.early_stopping(stopping_rounds=5)])\n",
    "\n",
    "print('Saving model...')\n",
    "# save model to file\n",
    "clf.save_model('model.txt')\n",
    "\n",
    "print('Starting predicting...')\n",
    "# predict\n",
    "y_train_pred = clf.predict(X_train, num_iteration=clf.best_iteration)\n",
    "y_valid_pred = clf.predict(X_valid, num_iteration=clf.best_iteration)\n",
    "y_test_pred = clf.predict(X_test, num_iteration=clf.best_iteration)\n",
    "\n",
    "# compute the predicted labels\n",
    "# train set\n",
    "y_train_pred_class = y_train_pred > 0.5\n",
    "y_train_pred_class = y_train_pred_class.astype(int)\n",
    "# validation set\n",
    "y_valid_pred_class = y_valid_pred > 0.5\n",
    "y_valid_pred_class = y_valid_pred_class.astype(int)\n",
    "# test set\n",
    "y_test_pred_class = y_test_pred > 0.5\n",
    "y_test_pred_class = y_test_pred_class.astype(int)"
   ]
  },
  {
   "cell_type": "code",
   "execution_count": 14,
   "id": "83c12796",
   "metadata": {
    "execution": {
     "iopub.execute_input": "2022-12-28T13:55:11.123998Z",
     "iopub.status.busy": "2022-12-28T13:55:11.123268Z",
     "iopub.status.idle": "2022-12-28T13:55:11.138363Z",
     "shell.execute_reply": "2022-12-28T13:55:11.136734Z"
    },
    "papermill": {
     "duration": 0.092053,
     "end_time": "2022-12-28T13:55:11.141228",
     "exception": false,
     "start_time": "2022-12-28T13:55:11.049175",
     "status": "completed"
    },
    "tags": []
   },
   "outputs": [],
   "source": [
    "scoring_df = X_test.copy(deep=True)\n",
    "scoring_df['Survived'] = y_test_pred_class\n",
    "scoring_df.reset_index(inplace=True)\n",
    "scoring_df = scoring_df[['PassengerId', 'Survived']]\n",
    "\n",
    "scoring_df.to_csv('output/scoring.csv', index=False)"
   ]
  },
  {
   "cell_type": "code",
   "execution_count": 15,
   "id": "ecb8ed24",
   "metadata": {
    "execution": {
     "iopub.execute_input": "2022-12-28T13:55:11.286344Z",
     "iopub.status.busy": "2022-12-28T13:55:11.285530Z",
     "iopub.status.idle": "2022-12-28T13:55:11.293575Z",
     "shell.execute_reply": "2022-12-28T13:55:11.292247Z"
    },
    "papermill": {
     "duration": 0.083432,
     "end_time": "2022-12-28T13:55:11.296211",
     "exception": false,
     "start_time": "2022-12-28T13:55:11.212779",
     "status": "completed"
    },
    "tags": []
   },
   "outputs": [],
   "source": [
    "rkf = RepeatedKFold(n_splits=5, n_repeats=10, random_state=random_seed)\n",
    "tmp_best_params = {\n",
    "    \"objective\": \"binary\",\n",
    "    \"metric\": \"binary_error\",\n",
    "    \"verbosity\": -1,\n",
    "    \"boosting_type\": \"gbdt\",                \n",
    "    \"seed\": random_seed,\n",
    "    'feature_pre_filter': False,\n",
    "    \n",
    "    \n",
    "    'lambda_l1': 0.012277548072934017,\n",
    "    'lambda_l2': 0.12761375962313365,\n",
    "    'num_leaves': 191,\n",
    "    'feature_fraction': 0.612083319277447,\n",
    "    'bagging_fraction': 0.6956054006849886,\n",
    "    'bagging_freq': 0,\n",
    "    'min_child_samples': 19\n",
    "}\n",
    "\n",
    "best_score = 0.0"
   ]
  },
  {
   "cell_type": "code",
   "execution_count": 16,
   "id": "427243d7",
   "metadata": {
    "execution": {
     "iopub.execute_input": "2022-12-28T13:55:11.440316Z",
     "iopub.status.busy": "2022-12-28T13:55:11.439478Z",
     "iopub.status.idle": "2022-12-28T13:58:03.871684Z",
     "shell.execute_reply": "2022-12-28T13:58:03.869280Z"
    },
    "papermill": {
     "duration": 172.511063,
     "end_time": "2022-12-28T13:58:03.877279",
     "exception": false,
     "start_time": "2022-12-28T13:55:11.366216",
     "status": "completed"
    },
    "scrolled": true,
    "tags": []
   },
   "outputs": [],
   "source": [
    "# Declare how we evaluate how good a set of hyperparameters are, i.e.\n",
    "# declare an objective function.\n",
    "def objective(trial):\n",
    "    # Specify a search space using distributions across plausible values of hyperparameters.\n",
    "    param = {\n",
    "        \"objective\": \"binary\",\n",
    "        \"metric\": \"binary_error\",\n",
    "        \"verbosity\": -1,\n",
    "        \"boosting_type\": \"gbdt\",                \n",
    "        \"seed\": random_seed,\n",
    "        'feature_pre_filter': False,\n",
    "        \n",
    "        'lambda_l1': trial.suggest_loguniform('lambda_l1', 1e-8, 10.0),\n",
    "        'lambda_l2': trial.suggest_loguniform('lambda_l2', 1e-8, 10.0),\n",
    "        'num_leaves': trial.suggest_int('num_leaves', 2, 512),\n",
    "        'feature_fraction': trial.suggest_uniform('feature_fraction', 0.1, 1.0),\n",
    "        'bagging_fraction': trial.suggest_uniform('bagging_fraction', 0.1, 1.0),\n",
    "        'bagging_freq': trial.suggest_int('bagging_freq', 0, 15),\n",
    "        'min_child_samples': trial.suggest_int('min_child_samples', 1, 100),\n",
    "    }\n",
    "    \n",
    "    # Run LightGBM for the hyperparameter values\n",
    "    lgbcv = lgb.cv(param,\n",
    "                   dtrain,\n",
    "#                    categorical_feature=ids_of_categorical,\n",
    "                   folds=rkf,\n",
    "                   verbose_eval=False,                   \n",
    "                   early_stopping_rounds=250,                   \n",
    "                   num_boost_round=10000,                    \n",
    "                   callbacks=[lgb.reset_parameter(learning_rate = [0.005]*200 + [0.001]*9800) ]\n",
    "                  )\n",
    "    \n",
    "    cv_score = lgbcv['binary_error-mean'][-1] + lgbcv['binary_error-stdv'][-1]\n",
    "    if cv_score < best_score:\n",
    "        training_rounds = len( list(lgbcv.values())[0] )\n",
    "    \n",
    "    # Return metric of interest\n",
    "    return cv_score\n",
    "\n",
    "# Suppress information only outputs - otherwise optuna is \n",
    "# quite verbose, which can be nice, but takes up a lot of space\n",
    "optuna.logging.set_verbosity(optuna.logging.WARNING) \n",
    "\n",
    "# We search for another 4 hours (3600 s are an hours, so timeout=14400).\n",
    "# We could instead do e.g. n_trials=1000, to try 1000 hyperparameters chosen \n",
    "# by optuna or set neither timeout or n_trials so that we keep going until \n",
    "# the user interrupts (\"Cancel run\").\n",
    "study = optuna.create_study(direction='minimize')  \n",
    "study.enqueue_trial(tmp_best_params)\n",
    "study.optimize(objective, n_trials=10, timeout=14400) "
   ]
  },
  {
   "cell_type": "code",
   "execution_count": 17,
   "id": "abf8ab3e",
   "metadata": {
    "execution": {
     "iopub.execute_input": "2022-12-28T13:58:04.025865Z",
     "iopub.status.busy": "2022-12-28T13:58:04.025199Z",
     "iopub.status.idle": "2022-12-28T13:58:04.342936Z",
     "shell.execute_reply": "2022-12-28T13:58:04.341568Z"
    },
    "papermill": {
     "duration": 0.392642,
     "end_time": "2022-12-28T13:58:04.345937",
     "exception": false,
     "start_time": "2022-12-28T13:58:03.953295",
     "status": "completed"
    },
    "tags": []
   },
   "outputs": [
    {
     "data": {
      "text/html": [
       "        <script type=\"text/javascript\">\n",
       "        window.PlotlyConfig = {MathJaxConfig: 'local'};\n",
       "        if (window.MathJax && window.MathJax.Hub && window.MathJax.Hub.Config) {window.MathJax.Hub.Config({SVG: {font: \"STIX-Web\"}});}\n",
       "        if (typeof require !== 'undefined') {\n",
       "        require.undef(\"plotly\");\n",
       "        requirejs.config({\n",
       "            paths: {\n",
       "                'plotly': ['https://cdn.plot.ly/plotly-2.14.0.min']\n",
       "            }\n",
       "        });\n",
       "        require(['plotly'], function(Plotly) {\n",
       "            window._Plotly = Plotly;\n",
       "        });\n",
       "        }\n",
       "        </script>\n",
       "        "
      ]
     },
     "metadata": {},
     "output_type": "display_data"
    },
    {
     "data": {
      "text/html": [
       "<div>                            <div id=\"2722d675-2707-48cd-b0b3-cd4b03d50dde\" class=\"plotly-graph-div\" style=\"height:525px; width:100%;\"></div>            <script type=\"text/javascript\">                require([\"plotly\"], function(Plotly) {                    window.PLOTLYENV=window.PLOTLYENV || {};                                    if (document.getElementById(\"2722d675-2707-48cd-b0b3-cd4b03d50dde\")) {                    Plotly.newPlot(                        \"2722d675-2707-48cd-b0b3-cd4b03d50dde\",                        [{\"mode\":\"markers\",\"name\":\"Objective Value\",\"x\":[0,1,2,3,4,5,6,7,8,9],\"y\":[0.22904226126100838,0.42898802421941057,0.23944917741906693,0.2651550545193767,0.26269924114851184,0.42898802421941057,0.42898802421941057,0.2297679103373017,0.23693505871777645,0.24183447840588762],\"type\":\"scatter\"},{\"name\":\"Best Value\",\"x\":[0,1,2,3,4,5,6,7,8,9],\"y\":[0.22904226126100838,0.22904226126100838,0.22904226126100838,0.22904226126100838,0.22904226126100838,0.22904226126100838,0.22904226126100838,0.22904226126100838,0.22904226126100838,0.22904226126100838],\"type\":\"scatter\"}],                        {\"title\":{\"text\":\"Optimization History Plot\"},\"xaxis\":{\"title\":{\"text\":\"Trial\"}},\"yaxis\":{\"title\":{\"text\":\"Objective Value\"}},\"template\":{\"data\":{\"histogram2dcontour\":[{\"type\":\"histogram2dcontour\",\"colorbar\":{\"outlinewidth\":0,\"ticks\":\"\"},\"colorscale\":[[0.0,\"#0d0887\"],[0.1111111111111111,\"#46039f\"],[0.2222222222222222,\"#7201a8\"],[0.3333333333333333,\"#9c179e\"],[0.4444444444444444,\"#bd3786\"],[0.5555555555555556,\"#d8576b\"],[0.6666666666666666,\"#ed7953\"],[0.7777777777777778,\"#fb9f3a\"],[0.8888888888888888,\"#fdca26\"],[1.0,\"#f0f921\"]]}],\"choropleth\":[{\"type\":\"choropleth\",\"colorbar\":{\"outlinewidth\":0,\"ticks\":\"\"}}],\"histogram2d\":[{\"type\":\"histogram2d\",\"colorbar\":{\"outlinewidth\":0,\"ticks\":\"\"},\"colorscale\":[[0.0,\"#0d0887\"],[0.1111111111111111,\"#46039f\"],[0.2222222222222222,\"#7201a8\"],[0.3333333333333333,\"#9c179e\"],[0.4444444444444444,\"#bd3786\"],[0.5555555555555556,\"#d8576b\"],[0.6666666666666666,\"#ed7953\"],[0.7777777777777778,\"#fb9f3a\"],[0.8888888888888888,\"#fdca26\"],[1.0,\"#f0f921\"]]}],\"heatmap\":[{\"type\":\"heatmap\",\"colorbar\":{\"outlinewidth\":0,\"ticks\":\"\"},\"colorscale\":[[0.0,\"#0d0887\"],[0.1111111111111111,\"#46039f\"],[0.2222222222222222,\"#7201a8\"],[0.3333333333333333,\"#9c179e\"],[0.4444444444444444,\"#bd3786\"],[0.5555555555555556,\"#d8576b\"],[0.6666666666666666,\"#ed7953\"],[0.7777777777777778,\"#fb9f3a\"],[0.8888888888888888,\"#fdca26\"],[1.0,\"#f0f921\"]]}],\"heatmapgl\":[{\"type\":\"heatmapgl\",\"colorbar\":{\"outlinewidth\":0,\"ticks\":\"\"},\"colorscale\":[[0.0,\"#0d0887\"],[0.1111111111111111,\"#46039f\"],[0.2222222222222222,\"#7201a8\"],[0.3333333333333333,\"#9c179e\"],[0.4444444444444444,\"#bd3786\"],[0.5555555555555556,\"#d8576b\"],[0.6666666666666666,\"#ed7953\"],[0.7777777777777778,\"#fb9f3a\"],[0.8888888888888888,\"#fdca26\"],[1.0,\"#f0f921\"]]}],\"contourcarpet\":[{\"type\":\"contourcarpet\",\"colorbar\":{\"outlinewidth\":0,\"ticks\":\"\"}}],\"contour\":[{\"type\":\"contour\",\"colorbar\":{\"outlinewidth\":0,\"ticks\":\"\"},\"colorscale\":[[0.0,\"#0d0887\"],[0.1111111111111111,\"#46039f\"],[0.2222222222222222,\"#7201a8\"],[0.3333333333333333,\"#9c179e\"],[0.4444444444444444,\"#bd3786\"],[0.5555555555555556,\"#d8576b\"],[0.6666666666666666,\"#ed7953\"],[0.7777777777777778,\"#fb9f3a\"],[0.8888888888888888,\"#fdca26\"],[1.0,\"#f0f921\"]]}],\"surface\":[{\"type\":\"surface\",\"colorbar\":{\"outlinewidth\":0,\"ticks\":\"\"},\"colorscale\":[[0.0,\"#0d0887\"],[0.1111111111111111,\"#46039f\"],[0.2222222222222222,\"#7201a8\"],[0.3333333333333333,\"#9c179e\"],[0.4444444444444444,\"#bd3786\"],[0.5555555555555556,\"#d8576b\"],[0.6666666666666666,\"#ed7953\"],[0.7777777777777778,\"#fb9f3a\"],[0.8888888888888888,\"#fdca26\"],[1.0,\"#f0f921\"]]}],\"mesh3d\":[{\"type\":\"mesh3d\",\"colorbar\":{\"outlinewidth\":0,\"ticks\":\"\"}}],\"scatter\":[{\"fillpattern\":{\"fillmode\":\"overlay\",\"size\":10,\"solidity\":0.2},\"type\":\"scatter\"}],\"parcoords\":[{\"type\":\"parcoords\",\"line\":{\"colorbar\":{\"outlinewidth\":0,\"ticks\":\"\"}}}],\"scatterpolargl\":[{\"type\":\"scatterpolargl\",\"marker\":{\"colorbar\":{\"outlinewidth\":0,\"ticks\":\"\"}}}],\"bar\":[{\"error_x\":{\"color\":\"#2a3f5f\"},\"error_y\":{\"color\":\"#2a3f5f\"},\"marker\":{\"line\":{\"color\":\"#E5ECF6\",\"width\":0.5},\"pattern\":{\"fillmode\":\"overlay\",\"size\":10,\"solidity\":0.2}},\"type\":\"bar\"}],\"scattergeo\":[{\"type\":\"scattergeo\",\"marker\":{\"colorbar\":{\"outlinewidth\":0,\"ticks\":\"\"}}}],\"scatterpolar\":[{\"type\":\"scatterpolar\",\"marker\":{\"colorbar\":{\"outlinewidth\":0,\"ticks\":\"\"}}}],\"histogram\":[{\"marker\":{\"pattern\":{\"fillmode\":\"overlay\",\"size\":10,\"solidity\":0.2}},\"type\":\"histogram\"}],\"scattergl\":[{\"type\":\"scattergl\",\"marker\":{\"colorbar\":{\"outlinewidth\":0,\"ticks\":\"\"}}}],\"scatter3d\":[{\"type\":\"scatter3d\",\"line\":{\"colorbar\":{\"outlinewidth\":0,\"ticks\":\"\"}},\"marker\":{\"colorbar\":{\"outlinewidth\":0,\"ticks\":\"\"}}}],\"scattermapbox\":[{\"type\":\"scattermapbox\",\"marker\":{\"colorbar\":{\"outlinewidth\":0,\"ticks\":\"\"}}}],\"scatterternary\":[{\"type\":\"scatterternary\",\"marker\":{\"colorbar\":{\"outlinewidth\":0,\"ticks\":\"\"}}}],\"scattercarpet\":[{\"type\":\"scattercarpet\",\"marker\":{\"colorbar\":{\"outlinewidth\":0,\"ticks\":\"\"}}}],\"carpet\":[{\"aaxis\":{\"endlinecolor\":\"#2a3f5f\",\"gridcolor\":\"white\",\"linecolor\":\"white\",\"minorgridcolor\":\"white\",\"startlinecolor\":\"#2a3f5f\"},\"baxis\":{\"endlinecolor\":\"#2a3f5f\",\"gridcolor\":\"white\",\"linecolor\":\"white\",\"minorgridcolor\":\"white\",\"startlinecolor\":\"#2a3f5f\"},\"type\":\"carpet\"}],\"table\":[{\"cells\":{\"fill\":{\"color\":\"#EBF0F8\"},\"line\":{\"color\":\"white\"}},\"header\":{\"fill\":{\"color\":\"#C8D4E3\"},\"line\":{\"color\":\"white\"}},\"type\":\"table\"}],\"barpolar\":[{\"marker\":{\"line\":{\"color\":\"#E5ECF6\",\"width\":0.5},\"pattern\":{\"fillmode\":\"overlay\",\"size\":10,\"solidity\":0.2}},\"type\":\"barpolar\"}],\"pie\":[{\"automargin\":true,\"type\":\"pie\"}]},\"layout\":{\"autotypenumbers\":\"strict\",\"colorway\":[\"#636efa\",\"#EF553B\",\"#00cc96\",\"#ab63fa\",\"#FFA15A\",\"#19d3f3\",\"#FF6692\",\"#B6E880\",\"#FF97FF\",\"#FECB52\"],\"font\":{\"color\":\"#2a3f5f\"},\"hovermode\":\"closest\",\"hoverlabel\":{\"align\":\"left\"},\"paper_bgcolor\":\"white\",\"plot_bgcolor\":\"#E5ECF6\",\"polar\":{\"bgcolor\":\"#E5ECF6\",\"angularaxis\":{\"gridcolor\":\"white\",\"linecolor\":\"white\",\"ticks\":\"\"},\"radialaxis\":{\"gridcolor\":\"white\",\"linecolor\":\"white\",\"ticks\":\"\"}},\"ternary\":{\"bgcolor\":\"#E5ECF6\",\"aaxis\":{\"gridcolor\":\"white\",\"linecolor\":\"white\",\"ticks\":\"\"},\"baxis\":{\"gridcolor\":\"white\",\"linecolor\":\"white\",\"ticks\":\"\"},\"caxis\":{\"gridcolor\":\"white\",\"linecolor\":\"white\",\"ticks\":\"\"}},\"coloraxis\":{\"colorbar\":{\"outlinewidth\":0,\"ticks\":\"\"}},\"colorscale\":{\"sequential\":[[0.0,\"#0d0887\"],[0.1111111111111111,\"#46039f\"],[0.2222222222222222,\"#7201a8\"],[0.3333333333333333,\"#9c179e\"],[0.4444444444444444,\"#bd3786\"],[0.5555555555555556,\"#d8576b\"],[0.6666666666666666,\"#ed7953\"],[0.7777777777777778,\"#fb9f3a\"],[0.8888888888888888,\"#fdca26\"],[1.0,\"#f0f921\"]],\"sequentialminus\":[[0.0,\"#0d0887\"],[0.1111111111111111,\"#46039f\"],[0.2222222222222222,\"#7201a8\"],[0.3333333333333333,\"#9c179e\"],[0.4444444444444444,\"#bd3786\"],[0.5555555555555556,\"#d8576b\"],[0.6666666666666666,\"#ed7953\"],[0.7777777777777778,\"#fb9f3a\"],[0.8888888888888888,\"#fdca26\"],[1.0,\"#f0f921\"]],\"diverging\":[[0,\"#8e0152\"],[0.1,\"#c51b7d\"],[0.2,\"#de77ae\"],[0.3,\"#f1b6da\"],[0.4,\"#fde0ef\"],[0.5,\"#f7f7f7\"],[0.6,\"#e6f5d0\"],[0.7,\"#b8e186\"],[0.8,\"#7fbc41\"],[0.9,\"#4d9221\"],[1,\"#276419\"]]},\"xaxis\":{\"gridcolor\":\"white\",\"linecolor\":\"white\",\"ticks\":\"\",\"title\":{\"standoff\":15},\"zerolinecolor\":\"white\",\"automargin\":true,\"zerolinewidth\":2},\"yaxis\":{\"gridcolor\":\"white\",\"linecolor\":\"white\",\"ticks\":\"\",\"title\":{\"standoff\":15},\"zerolinecolor\":\"white\",\"automargin\":true,\"zerolinewidth\":2},\"scene\":{\"xaxis\":{\"backgroundcolor\":\"#E5ECF6\",\"gridcolor\":\"white\",\"linecolor\":\"white\",\"showbackground\":true,\"ticks\":\"\",\"zerolinecolor\":\"white\",\"gridwidth\":2},\"yaxis\":{\"backgroundcolor\":\"#E5ECF6\",\"gridcolor\":\"white\",\"linecolor\":\"white\",\"showbackground\":true,\"ticks\":\"\",\"zerolinecolor\":\"white\",\"gridwidth\":2},\"zaxis\":{\"backgroundcolor\":\"#E5ECF6\",\"gridcolor\":\"white\",\"linecolor\":\"white\",\"showbackground\":true,\"ticks\":\"\",\"zerolinecolor\":\"white\",\"gridwidth\":2}},\"shapedefaults\":{\"line\":{\"color\":\"#2a3f5f\"}},\"annotationdefaults\":{\"arrowcolor\":\"#2a3f5f\",\"arrowhead\":0,\"arrowwidth\":1},\"geo\":{\"bgcolor\":\"white\",\"landcolor\":\"#E5ECF6\",\"subunitcolor\":\"white\",\"showland\":true,\"showlakes\":true,\"lakecolor\":\"white\"},\"title\":{\"x\":0.05},\"mapbox\":{\"style\":\"light\"}}}},                        {\"responsive\": true}                    ).then(function(){\n",
       "                            \n",
       "var gd = document.getElementById('2722d675-2707-48cd-b0b3-cd4b03d50dde');\n",
       "var x = new MutationObserver(function (mutations, observer) {{\n",
       "        var display = window.getComputedStyle(gd).display;\n",
       "        if (!display || display === 'none') {{\n",
       "            console.log([gd, 'removed!']);\n",
       "            Plotly.purge(gd);\n",
       "            observer.disconnect();\n",
       "        }}\n",
       "}});\n",
       "\n",
       "// Listen for the removal of the full notebook cells\n",
       "var notebookContainer = gd.closest('#notebook-container');\n",
       "if (notebookContainer) {{\n",
       "    x.observe(notebookContainer, {childList: true});\n",
       "}}\n",
       "\n",
       "// Listen for the clearing of the current output cell\n",
       "var outputEl = gd.closest('.output');\n",
       "if (outputEl) {{\n",
       "    x.observe(outputEl, {childList: true});\n",
       "}}\n",
       "\n",
       "                        })                };                });            </script>        </div>"
      ]
     },
     "metadata": {},
     "output_type": "display_data"
    }
   ],
   "source": [
    "optuna.visualization.plot_optimization_history(study)"
   ]
  },
  {
   "cell_type": "code",
   "execution_count": 18,
   "id": "882dcdeb",
   "metadata": {
    "execution": {
     "iopub.execute_input": "2022-12-28T13:58:04.489480Z",
     "iopub.status.busy": "2022-12-28T13:58:04.488763Z",
     "iopub.status.idle": "2022-12-28T13:58:04.803356Z",
     "shell.execute_reply": "2022-12-28T13:58:04.802291Z"
    },
    "papermill": {
     "duration": 0.389815,
     "end_time": "2022-12-28T13:58:04.806111",
     "exception": false,
     "start_time": "2022-12-28T13:58:04.416296",
     "status": "completed"
    },
    "tags": []
   },
   "outputs": [
    {
     "data": {
      "text/html": [
       "<div>                            <div id=\"a0647b33-381f-40fe-8cad-7966343cf959\" class=\"plotly-graph-div\" style=\"height:525px; width:100%;\"></div>            <script type=\"text/javascript\">                require([\"plotly\"], function(Plotly) {                    window.PLOTLYENV=window.PLOTLYENV || {};                                    if (document.getElementById(\"a0647b33-381f-40fe-8cad-7966343cf959\")) {                    Plotly.newPlot(                        \"a0647b33-381f-40fe-8cad-7966343cf959\",                        [{\"cliponaxis\":false,\"hovertemplate\":[\"lambda_l1 (FloatDistribution): 0.003890295874656211<extra></extra>\",\"lambda_l2 (FloatDistribution): 0.039238040043186595<extra></extra>\",\"feature_fraction (FloatDistribution): 0.05545826368167664<extra></extra>\",\"num_leaves (IntDistribution): 0.10382288395698708<extra></extra>\",\"bagging_freq (IntDistribution): 0.13464478741116878<extra></extra>\",\"min_child_samples (IntDistribution): 0.19605593793863846<extra></extra>\",\"bagging_fraction (FloatDistribution): 0.46688979109368645<extra></extra>\"],\"marker\":{\"color\":\"rgb(66,146,198)\"},\"orientation\":\"h\",\"text\":[\"<0.01\",\"0.04\",\"0.06\",\"0.10\",\"0.13\",\"0.20\",\"0.47\"],\"textposition\":\"outside\",\"x\":[0.003890295874656211,0.039238040043186595,0.05545826368167664,0.10382288395698708,0.13464478741116878,0.19605593793863846,0.46688979109368645],\"y\":[\"lambda_l1\",\"lambda_l2\",\"feature_fraction\",\"num_leaves\",\"bagging_freq\",\"min_child_samples\",\"bagging_fraction\"],\"type\":\"bar\"}],                        {\"showlegend\":false,\"title\":{\"text\":\"Hyperparameter Importances\"},\"xaxis\":{\"title\":{\"text\":\"Importance for Objective Value\"}},\"yaxis\":{\"title\":{\"text\":\"Hyperparameter\"}},\"template\":{\"data\":{\"histogram2dcontour\":[{\"type\":\"histogram2dcontour\",\"colorbar\":{\"outlinewidth\":0,\"ticks\":\"\"},\"colorscale\":[[0.0,\"#0d0887\"],[0.1111111111111111,\"#46039f\"],[0.2222222222222222,\"#7201a8\"],[0.3333333333333333,\"#9c179e\"],[0.4444444444444444,\"#bd3786\"],[0.5555555555555556,\"#d8576b\"],[0.6666666666666666,\"#ed7953\"],[0.7777777777777778,\"#fb9f3a\"],[0.8888888888888888,\"#fdca26\"],[1.0,\"#f0f921\"]]}],\"choropleth\":[{\"type\":\"choropleth\",\"colorbar\":{\"outlinewidth\":0,\"ticks\":\"\"}}],\"histogram2d\":[{\"type\":\"histogram2d\",\"colorbar\":{\"outlinewidth\":0,\"ticks\":\"\"},\"colorscale\":[[0.0,\"#0d0887\"],[0.1111111111111111,\"#46039f\"],[0.2222222222222222,\"#7201a8\"],[0.3333333333333333,\"#9c179e\"],[0.4444444444444444,\"#bd3786\"],[0.5555555555555556,\"#d8576b\"],[0.6666666666666666,\"#ed7953\"],[0.7777777777777778,\"#fb9f3a\"],[0.8888888888888888,\"#fdca26\"],[1.0,\"#f0f921\"]]}],\"heatmap\":[{\"type\":\"heatmap\",\"colorbar\":{\"outlinewidth\":0,\"ticks\":\"\"},\"colorscale\":[[0.0,\"#0d0887\"],[0.1111111111111111,\"#46039f\"],[0.2222222222222222,\"#7201a8\"],[0.3333333333333333,\"#9c179e\"],[0.4444444444444444,\"#bd3786\"],[0.5555555555555556,\"#d8576b\"],[0.6666666666666666,\"#ed7953\"],[0.7777777777777778,\"#fb9f3a\"],[0.8888888888888888,\"#fdca26\"],[1.0,\"#f0f921\"]]}],\"heatmapgl\":[{\"type\":\"heatmapgl\",\"colorbar\":{\"outlinewidth\":0,\"ticks\":\"\"},\"colorscale\":[[0.0,\"#0d0887\"],[0.1111111111111111,\"#46039f\"],[0.2222222222222222,\"#7201a8\"],[0.3333333333333333,\"#9c179e\"],[0.4444444444444444,\"#bd3786\"],[0.5555555555555556,\"#d8576b\"],[0.6666666666666666,\"#ed7953\"],[0.7777777777777778,\"#fb9f3a\"],[0.8888888888888888,\"#fdca26\"],[1.0,\"#f0f921\"]]}],\"contourcarpet\":[{\"type\":\"contourcarpet\",\"colorbar\":{\"outlinewidth\":0,\"ticks\":\"\"}}],\"contour\":[{\"type\":\"contour\",\"colorbar\":{\"outlinewidth\":0,\"ticks\":\"\"},\"colorscale\":[[0.0,\"#0d0887\"],[0.1111111111111111,\"#46039f\"],[0.2222222222222222,\"#7201a8\"],[0.3333333333333333,\"#9c179e\"],[0.4444444444444444,\"#bd3786\"],[0.5555555555555556,\"#d8576b\"],[0.6666666666666666,\"#ed7953\"],[0.7777777777777778,\"#fb9f3a\"],[0.8888888888888888,\"#fdca26\"],[1.0,\"#f0f921\"]]}],\"surface\":[{\"type\":\"surface\",\"colorbar\":{\"outlinewidth\":0,\"ticks\":\"\"},\"colorscale\":[[0.0,\"#0d0887\"],[0.1111111111111111,\"#46039f\"],[0.2222222222222222,\"#7201a8\"],[0.3333333333333333,\"#9c179e\"],[0.4444444444444444,\"#bd3786\"],[0.5555555555555556,\"#d8576b\"],[0.6666666666666666,\"#ed7953\"],[0.7777777777777778,\"#fb9f3a\"],[0.8888888888888888,\"#fdca26\"],[1.0,\"#f0f921\"]]}],\"mesh3d\":[{\"type\":\"mesh3d\",\"colorbar\":{\"outlinewidth\":0,\"ticks\":\"\"}}],\"scatter\":[{\"fillpattern\":{\"fillmode\":\"overlay\",\"size\":10,\"solidity\":0.2},\"type\":\"scatter\"}],\"parcoords\":[{\"type\":\"parcoords\",\"line\":{\"colorbar\":{\"outlinewidth\":0,\"ticks\":\"\"}}}],\"scatterpolargl\":[{\"type\":\"scatterpolargl\",\"marker\":{\"colorbar\":{\"outlinewidth\":0,\"ticks\":\"\"}}}],\"bar\":[{\"error_x\":{\"color\":\"#2a3f5f\"},\"error_y\":{\"color\":\"#2a3f5f\"},\"marker\":{\"line\":{\"color\":\"#E5ECF6\",\"width\":0.5},\"pattern\":{\"fillmode\":\"overlay\",\"size\":10,\"solidity\":0.2}},\"type\":\"bar\"}],\"scattergeo\":[{\"type\":\"scattergeo\",\"marker\":{\"colorbar\":{\"outlinewidth\":0,\"ticks\":\"\"}}}],\"scatterpolar\":[{\"type\":\"scatterpolar\",\"marker\":{\"colorbar\":{\"outlinewidth\":0,\"ticks\":\"\"}}}],\"histogram\":[{\"marker\":{\"pattern\":{\"fillmode\":\"overlay\",\"size\":10,\"solidity\":0.2}},\"type\":\"histogram\"}],\"scattergl\":[{\"type\":\"scattergl\",\"marker\":{\"colorbar\":{\"outlinewidth\":0,\"ticks\":\"\"}}}],\"scatter3d\":[{\"type\":\"scatter3d\",\"line\":{\"colorbar\":{\"outlinewidth\":0,\"ticks\":\"\"}},\"marker\":{\"colorbar\":{\"outlinewidth\":0,\"ticks\":\"\"}}}],\"scattermapbox\":[{\"type\":\"scattermapbox\",\"marker\":{\"colorbar\":{\"outlinewidth\":0,\"ticks\":\"\"}}}],\"scatterternary\":[{\"type\":\"scatterternary\",\"marker\":{\"colorbar\":{\"outlinewidth\":0,\"ticks\":\"\"}}}],\"scattercarpet\":[{\"type\":\"scattercarpet\",\"marker\":{\"colorbar\":{\"outlinewidth\":0,\"ticks\":\"\"}}}],\"carpet\":[{\"aaxis\":{\"endlinecolor\":\"#2a3f5f\",\"gridcolor\":\"white\",\"linecolor\":\"white\",\"minorgridcolor\":\"white\",\"startlinecolor\":\"#2a3f5f\"},\"baxis\":{\"endlinecolor\":\"#2a3f5f\",\"gridcolor\":\"white\",\"linecolor\":\"white\",\"minorgridcolor\":\"white\",\"startlinecolor\":\"#2a3f5f\"},\"type\":\"carpet\"}],\"table\":[{\"cells\":{\"fill\":{\"color\":\"#EBF0F8\"},\"line\":{\"color\":\"white\"}},\"header\":{\"fill\":{\"color\":\"#C8D4E3\"},\"line\":{\"color\":\"white\"}},\"type\":\"table\"}],\"barpolar\":[{\"marker\":{\"line\":{\"color\":\"#E5ECF6\",\"width\":0.5},\"pattern\":{\"fillmode\":\"overlay\",\"size\":10,\"solidity\":0.2}},\"type\":\"barpolar\"}],\"pie\":[{\"automargin\":true,\"type\":\"pie\"}]},\"layout\":{\"autotypenumbers\":\"strict\",\"colorway\":[\"#636efa\",\"#EF553B\",\"#00cc96\",\"#ab63fa\",\"#FFA15A\",\"#19d3f3\",\"#FF6692\",\"#B6E880\",\"#FF97FF\",\"#FECB52\"],\"font\":{\"color\":\"#2a3f5f\"},\"hovermode\":\"closest\",\"hoverlabel\":{\"align\":\"left\"},\"paper_bgcolor\":\"white\",\"plot_bgcolor\":\"#E5ECF6\",\"polar\":{\"bgcolor\":\"#E5ECF6\",\"angularaxis\":{\"gridcolor\":\"white\",\"linecolor\":\"white\",\"ticks\":\"\"},\"radialaxis\":{\"gridcolor\":\"white\",\"linecolor\":\"white\",\"ticks\":\"\"}},\"ternary\":{\"bgcolor\":\"#E5ECF6\",\"aaxis\":{\"gridcolor\":\"white\",\"linecolor\":\"white\",\"ticks\":\"\"},\"baxis\":{\"gridcolor\":\"white\",\"linecolor\":\"white\",\"ticks\":\"\"},\"caxis\":{\"gridcolor\":\"white\",\"linecolor\":\"white\",\"ticks\":\"\"}},\"coloraxis\":{\"colorbar\":{\"outlinewidth\":0,\"ticks\":\"\"}},\"colorscale\":{\"sequential\":[[0.0,\"#0d0887\"],[0.1111111111111111,\"#46039f\"],[0.2222222222222222,\"#7201a8\"],[0.3333333333333333,\"#9c179e\"],[0.4444444444444444,\"#bd3786\"],[0.5555555555555556,\"#d8576b\"],[0.6666666666666666,\"#ed7953\"],[0.7777777777777778,\"#fb9f3a\"],[0.8888888888888888,\"#fdca26\"],[1.0,\"#f0f921\"]],\"sequentialminus\":[[0.0,\"#0d0887\"],[0.1111111111111111,\"#46039f\"],[0.2222222222222222,\"#7201a8\"],[0.3333333333333333,\"#9c179e\"],[0.4444444444444444,\"#bd3786\"],[0.5555555555555556,\"#d8576b\"],[0.6666666666666666,\"#ed7953\"],[0.7777777777777778,\"#fb9f3a\"],[0.8888888888888888,\"#fdca26\"],[1.0,\"#f0f921\"]],\"diverging\":[[0,\"#8e0152\"],[0.1,\"#c51b7d\"],[0.2,\"#de77ae\"],[0.3,\"#f1b6da\"],[0.4,\"#fde0ef\"],[0.5,\"#f7f7f7\"],[0.6,\"#e6f5d0\"],[0.7,\"#b8e186\"],[0.8,\"#7fbc41\"],[0.9,\"#4d9221\"],[1,\"#276419\"]]},\"xaxis\":{\"gridcolor\":\"white\",\"linecolor\":\"white\",\"ticks\":\"\",\"title\":{\"standoff\":15},\"zerolinecolor\":\"white\",\"automargin\":true,\"zerolinewidth\":2},\"yaxis\":{\"gridcolor\":\"white\",\"linecolor\":\"white\",\"ticks\":\"\",\"title\":{\"standoff\":15},\"zerolinecolor\":\"white\",\"automargin\":true,\"zerolinewidth\":2},\"scene\":{\"xaxis\":{\"backgroundcolor\":\"#E5ECF6\",\"gridcolor\":\"white\",\"linecolor\":\"white\",\"showbackground\":true,\"ticks\":\"\",\"zerolinecolor\":\"white\",\"gridwidth\":2},\"yaxis\":{\"backgroundcolor\":\"#E5ECF6\",\"gridcolor\":\"white\",\"linecolor\":\"white\",\"showbackground\":true,\"ticks\":\"\",\"zerolinecolor\":\"white\",\"gridwidth\":2},\"zaxis\":{\"backgroundcolor\":\"#E5ECF6\",\"gridcolor\":\"white\",\"linecolor\":\"white\",\"showbackground\":true,\"ticks\":\"\",\"zerolinecolor\":\"white\",\"gridwidth\":2}},\"shapedefaults\":{\"line\":{\"color\":\"#2a3f5f\"}},\"annotationdefaults\":{\"arrowcolor\":\"#2a3f5f\",\"arrowhead\":0,\"arrowwidth\":1},\"geo\":{\"bgcolor\":\"white\",\"landcolor\":\"#E5ECF6\",\"subunitcolor\":\"white\",\"showland\":true,\"showlakes\":true,\"lakecolor\":\"white\"},\"title\":{\"x\":0.05},\"mapbox\":{\"style\":\"light\"}}}},                        {\"responsive\": true}                    ).then(function(){\n",
       "                            \n",
       "var gd = document.getElementById('a0647b33-381f-40fe-8cad-7966343cf959');\n",
       "var x = new MutationObserver(function (mutations, observer) {{\n",
       "        var display = window.getComputedStyle(gd).display;\n",
       "        if (!display || display === 'none') {{\n",
       "            console.log([gd, 'removed!']);\n",
       "            Plotly.purge(gd);\n",
       "            observer.disconnect();\n",
       "        }}\n",
       "}});\n",
       "\n",
       "// Listen for the removal of the full notebook cells\n",
       "var notebookContainer = gd.closest('#notebook-container');\n",
       "if (notebookContainer) {{\n",
       "    x.observe(notebookContainer, {childList: true});\n",
       "}}\n",
       "\n",
       "// Listen for the clearing of the current output cell\n",
       "var outputEl = gd.closest('.output');\n",
       "if (outputEl) {{\n",
       "    x.observe(outputEl, {childList: true});\n",
       "}}\n",
       "\n",
       "                        })                };                });            </script>        </div>"
      ]
     },
     "metadata": {},
     "output_type": "display_data"
    }
   ],
   "source": [
    "optuna.visualization.plot_param_importances(study)"
   ]
  },
  {
   "cell_type": "code",
   "execution_count": 19,
   "id": "d38d8be2",
   "metadata": {
    "execution": {
     "iopub.execute_input": "2022-12-28T13:58:04.949983Z",
     "iopub.status.busy": "2022-12-28T13:58:04.949200Z",
     "iopub.status.idle": "2022-12-28T13:58:04.955666Z",
     "shell.execute_reply": "2022-12-28T13:58:04.954250Z"
    },
    "papermill": {
     "duration": 0.081148,
     "end_time": "2022-12-28T13:58:04.958558",
     "exception": false,
     "start_time": "2022-12-28T13:58:04.877410",
     "status": "completed"
    },
    "tags": []
   },
   "outputs": [
    {
     "name": "stdout",
     "output_type": "stream",
     "text": [
      "{'lambda_l1': 0.012277548072934017, 'lambda_l2': 0.12761375962313365, 'num_leaves': 191, 'feature_fraction': 0.612083319277447, 'bagging_fraction': 0.6956054006849886, 'bagging_freq': 0, 'min_child_samples': 19}\n"
     ]
    }
   ],
   "source": [
    "print(study.best_params)"
   ]
  },
  {
   "cell_type": "code",
   "execution_count": 20,
   "id": "ebaa3928",
   "metadata": {
    "execution": {
     "iopub.execute_input": "2022-12-28T13:58:05.105908Z",
     "iopub.status.busy": "2022-12-28T13:58:05.105085Z",
     "iopub.status.idle": "2022-12-28T13:58:05.111791Z",
     "shell.execute_reply": "2022-12-28T13:58:05.110699Z"
    },
    "papermill": {
     "duration": 0.083092,
     "end_time": "2022-12-28T13:58:05.114468",
     "exception": false,
     "start_time": "2022-12-28T13:58:05.031376",
     "status": "completed"
    },
    "tags": []
   },
   "outputs": [],
   "source": [
    "# Function to plot ROC curve\n",
    "def plot_roc_curve(fpr, tpr):\n",
    "    plt.plot(fpr, tpr, color='orange', label='ROC')\n",
    "    plt.plot([0, 1], [0, 1], color='darkblue', linestyle='--')\n",
    "    plt.xlabel('False Positive Rate')\n",
    "    plt.ylabel('True Positive Rate')\n",
    "    plt.title('Receiver Operating Characteristic (ROC) Curve')\n",
    "    plt.legend()\n",
    "    plt.show()"
   ]
  },
  {
   "cell_type": "code",
   "execution_count": 21,
   "id": "606e3bb5",
   "metadata": {
    "execution": {
     "iopub.execute_input": "2022-12-28T13:58:05.260747Z",
     "iopub.status.busy": "2022-12-28T13:58:05.259961Z",
     "iopub.status.idle": "2022-12-28T13:58:05.531521Z",
     "shell.execute_reply": "2022-12-28T13:58:05.529831Z"
    },
    "papermill": {
     "duration": 0.347462,
     "end_time": "2022-12-28T13:58:05.534190",
     "exception": false,
     "start_time": "2022-12-28T13:58:05.186728",
     "status": "completed"
    },
    "tags": []
   },
   "outputs": [
    {
     "data": {
      "image/png": "[encoded data removed]",
      "text/plain": [
       "<Figure size 432x288 with 1 Axes>"
      ]
     },
     "metadata": {
      "needs_background": "light"
     },
     "output_type": "display_data"
    },
    {
     "name": "stdout",
     "output_type": "stream",
     "text": [
      "0.94\n"
     ]
    }
   ],
   "source": [
    "fpr, tpr, thresholds = roc_curve(y_train, y_train_pred)\n",
    "plot_roc_curve(fpr, tpr)\n",
    "\n",
    "print(np.round(roc_auc_score(y_train, y_train_pred, average=None), 2))"
   ]
  },
  {
   "cell_type": "code",
   "execution_count": 22,
   "id": "f61d411a",
   "metadata": {
    "execution": {
     "iopub.execute_input": "2022-12-28T13:58:05.824128Z",
     "iopub.status.busy": "2022-12-28T13:58:05.823289Z",
     "iopub.status.idle": "2022-12-28T13:58:06.031155Z",
     "shell.execute_reply": "2022-12-28T13:58:06.029570Z"
    },
    "papermill": {
     "duration": 0.428209,
     "end_time": "2022-12-28T13:58:06.033921",
     "exception": false,
     "start_time": "2022-12-28T13:58:05.605712",
     "status": "completed"
    },
    "tags": []
   },
   "outputs": [
    {
     "data": {
      "image/png": "[encoded data removed]",
      "text/plain": [
       "<Figure size 432x288 with 1 Axes>"
      ]
     },
     "metadata": {
      "needs_background": "light"
     },
     "output_type": "display_data"
    },
    {
     "name": "stdout",
     "output_type": "stream",
     "text": [
      "0.88\n"
     ]
    }
   ],
   "source": [
    "fpr, tpr, thresholds = roc_curve(y_valid, y_valid_pred)\n",
    "plot_roc_curve(fpr, tpr)\n",
    "\n",
    "print(np.round(roc_auc_score(y_valid, y_valid_pred, average=None), 2))"
   ]
  },
  {
   "cell_type": "code",
   "execution_count": 23,
   "id": "dcebb482",
   "metadata": {
    "execution": {
     "iopub.execute_input": "2022-12-28T13:58:06.179376Z",
     "iopub.status.busy": "2022-12-28T13:58:06.178657Z",
     "iopub.status.idle": "2022-12-28T13:58:06.190975Z",
     "shell.execute_reply": "2022-12-28T13:58:06.189530Z"
    },
    "papermill": {
     "duration": 0.088723,
     "end_time": "2022-12-28T13:58:06.194200",
     "exception": false,
     "start_time": "2022-12-28T13:58:06.105477",
     "status": "completed"
    },
    "tags": []
   },
   "outputs": [
    {
     "name": "stdout",
     "output_type": "stream",
     "text": [
      "[[155  11]\n",
      " [ 34  68]]\n",
      "Accuracy: 0.83 \n",
      "\n",
      "F1: 0.7513812154696132 \n",
      "\n"
     ]
    }
   ],
   "source": [
    "# Create Confusion Matrix\n",
    "pred_class = y_valid_pred > 0.5\n",
    "pred_class = pred_class.astype(int)\n",
    "cm = confusion_matrix(y_valid, pred_class)\n",
    "print(cm)\n",
    "\n",
    "# Get accuracy\n",
    "accuracy = round(accuracy_score(y_valid,pred_class),4)\n",
    "print(\"Accuracy: {}\".format(np.round(accuracy, 2)),\"\\n\")\n",
    "\n",
    "# Get f1 score (it is required on the Task 1 of this dataset)\n",
    "f1 = f1_score(y_valid,pred_class)\n",
    "print(\"F1: {}\".format(f1),\"\\n\")\n"
   ]
  },
  {
   "cell_type": "code",
   "execution_count": 24,
   "id": "b8c349a3",
   "metadata": {
    "execution": {
     "iopub.execute_input": "2022-12-28T13:58:06.342900Z",
     "iopub.status.busy": "2022-12-28T13:58:06.341995Z",
     "iopub.status.idle": "2022-12-28T13:58:06.353293Z",
     "shell.execute_reply": "2022-12-28T13:58:06.351854Z"
    },
    "papermill": {
     "duration": 0.088356,
     "end_time": "2022-12-28T13:58:06.356328",
     "exception": false,
     "start_time": "2022-12-28T13:58:06.267972",
     "status": "completed"
    },
    "tags": []
   },
   "outputs": [
    {
     "name": "stdout",
     "output_type": "stream",
     "text": [
      "[[155  11]\n",
      " [ 34  68]]\n",
      "Accuracy: 0.83 \n",
      "\n",
      "F1: 0.7513812154696132 \n",
      "\n"
     ]
    }
   ],
   "source": [
    "# Create Confusion Matrix\n",
    "pred_class = y_valid_pred > 0.5\n",
    "pred_class = pred_class.astype(int)\n",
    "cm = confusion_matrix(y_valid, pred_class)\n",
    "print(cm)\n",
    "\n",
    "# Get accuracy\n",
    "accuracy = round(accuracy_score(y_valid,pred_class),4)\n",
    "print(\"Accuracy: {}\".format(np.round(accuracy, 2)),\"\\n\")\n",
    "\n",
    "# Get f1 score (it is required on the Task 1 of this dataset)\n",
    "f1 = f1_score(y_valid,pred_class)\n",
    "print(\"F1: {}\".format(f1),\"\\n\")\n"
   ]
  },
  {
   "cell_type": "code",
   "execution_count": 25,
   "id": "f6e10327",
   "metadata": {
    "execution": {
     "iopub.execute_input": "2022-12-28T13:58:06.503784Z",
     "iopub.status.busy": "2022-12-28T13:58:06.502806Z",
     "iopub.status.idle": "2022-12-28T13:58:06.891090Z",
     "shell.execute_reply": "2022-12-28T13:58:06.889574Z"
    },
    "papermill": {
     "duration": 0.464289,
     "end_time": "2022-12-28T13:58:06.893689",
     "exception": false,
     "start_time": "2022-12-28T13:58:06.429400",
     "status": "completed"
    },
    "tags": []
   },
   "outputs": [
    {
     "data": {
      "image/png": "[encoded data removed]",
      "text/plain": [
       "<Figure size 1440x720 with 1 Axes>"
      ]
     },
     "metadata": {
      "needs_background": "light"
     },
     "output_type": "display_data"
    }
   ],
   "source": [
    "# See the feature importance\n",
    "importance_feature = pd.DataFrame({\n",
    "    'Value': clf.feature_importance(),\n",
    "    'Feature':clf.feature_name()\n",
    "}).sort_values(by=\"Value\", ascending=False)\n",
    "\n",
    "# Create a plot\n",
    "plt.figure(figsize=(20, 10))\n",
    "sns.barplot(x='Value', y='Feature', data=importance_feature);\n",
    "plt.title(\"Importance feature\");\n"
   ]
  },
  {
   "cell_type": "code",
   "execution_count": 26,
   "id": "564a2920",
   "metadata": {
    "_cell_guid": "088270d7-6355-4cbf-8c13-fc4ff51dcd32",
    "_uuid": "fa34b6ca-9251-4f80-bb0c-2855c3127454",
    "collapsed": false,
    "execution": {
     "iopub.execute_input": "2022-12-28T13:58:07.038102Z",
     "iopub.status.busy": "2022-12-28T13:58:07.037654Z",
     "iopub.status.idle": "2022-12-28T13:58:07.042938Z",
     "shell.execute_reply": "2022-12-28T13:58:07.041676Z"
    },
    "jupyter": {
     "outputs_hidden": false
    },
    "papermill": {
     "duration": 0.080402,
     "end_time": "2022-12-28T13:58:07.045464",
     "exception": false,
     "start_time": "2022-12-28T13:58:06.965062",
     "status": "completed"
    },
    "tags": []
   },
   "outputs": [],
   "source": [
    "# # transform categorical features into categories and add their appropiate category label\n",
    "# df['Survived'] = df['Survived'].astype('category')\n",
    "# df['Survived'] = df['Survived'].map({0: 'No', 1: 'Yes'})\n",
    "# df['Pclass'] = df['Pclass'].astype('category')\n",
    "# df['Pclass'] = df['Pclass'].map({1: '1st', 2: '2nd', 3: '3rd'})\n",
    "# df['Embarked'] = df['Embarked'].astype('category')\n",
    "# df['Embarked'] = df['Embarked'].map({'C': 'Cherbourg', 'Q': 'Queenstown', 'S': 'Southampton'})\n",
    "# df['SexCat'] = 1\n",
    "# df.loc[df['Sex'] == 'female', 'SexCat'] = 0\n",
    "# df['SexCat'] = df['SexCat'].map({0: 'Female', 1: 'Male'})\n",
    "# df['SexCat'] = df['SexCat'].astype('category')\n",
    "# df['CabinLetter'] = df['CabinLetter'].astype('category')"
   ]
  },
  {
   "cell_type": "code",
   "execution_count": 27,
   "id": "43dab0cd",
   "metadata": {
    "_cell_guid": "a6f933c8-6289-4b05-9276-db86b6c8dd67",
    "_uuid": "dcd844c3-f3f1-4d80-b568-e7eccc6dfab8",
    "collapsed": false,
    "execution": {
     "iopub.execute_input": "2022-12-28T13:58:07.193289Z",
     "iopub.status.busy": "2022-12-28T13:58:07.192076Z",
     "iopub.status.idle": "2022-12-28T13:58:07.198134Z",
     "shell.execute_reply": "2022-12-28T13:58:07.196964Z"
    },
    "jupyter": {
     "outputs_hidden": false
    },
    "papermill": {
     "duration": 0.083551,
     "end_time": "2022-12-28T13:58:07.200782",
     "exception": false,
     "start_time": "2022-12-28T13:58:07.117231",
     "status": "completed"
    },
    "tags": []
   },
   "outputs": [],
   "source": [
    "# feat_des = {\n",
    "#     \"Survived\": \"Survival\",\n",
    "#     \"pclass\": \"Ticket class\",\n",
    "#     \"sex\": \"Sex\",\n",
    "#     \"Age\": \"Age in years\",\n",
    "#     \"sibsp\": \"# of siblings / spouses aboard the Titanic\",\n",
    "#     \"parch\": \"# of parents / children aboard the Titanic\",\n",
    "#     \"ticket\": \"Ticket number\",\n",
    "#     \"fare\": \"Passenger fare\",\n",
    "#     \"cabin\": \"Cabin number\",\n",
    "#     \"embarked\": \"Port of Embarkation\",\n",
    "# }"
   ]
  }
 ],
 "metadata": {
  "kernelspec": {
   "display_name": "Python 3",
   "language": "python",
   "name": "python3"
  },
  "language_info": {
   "codemirror_mode": {
    "name": "ipython",
    "version": 3
   },
   "file_extension": ".py",
   "mimetype": "text/x-python",
   "name": "python",
   "nbconvert_exporter": "python",
   "pygments_lexer": "ipython3",
   "version": "3.7.12"
  },
  "papermill": {
   "default_parameters": {},
   "duration": 336.509292,
   "end_time": "2022-12-28T13:58:11.191466",
   "environment_variables": {},
   "exception": null,
   "input_path": "__notebook__.ipynb",
   "output_path": "__notebook__.ipynb",
   "parameters": {},
   "start_time": "2022-12-28T13:52:34.682174",
   "version": "2.3.4"
  }
 },
 "nbformat": 4,
 "nbformat_minor": 5
}
