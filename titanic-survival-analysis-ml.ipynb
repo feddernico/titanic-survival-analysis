{
 "cells": [
  {
   "cell_type": "markdown",
   "id": "6a1edf03",
   "metadata": {
    "_cell_guid": "24a75052-eb48-4159-be26-f9ee0fa36a5b",
    "_uuid": "60094baf-053f-4986-8a8d-c2dec55b2060",
    "papermill": {
     "duration": 0.010462,
     "end_time": "2022-12-28T14:17:48.385567",
     "exception": false,
     "start_time": "2022-12-28T14:17:48.375105",
     "status": "completed"
    },
    "tags": []
   },
   "source": [
    "# Titanic - Survival Analysis"
   ]
  },
  {
   "cell_type": "markdown",
   "id": "b4039d93",
   "metadata": {
    "_cell_guid": "e8259b3d-2b70-45da-9f02-a2146a17a57e",
    "_uuid": "f7bf6c41-b3ba-4eb0-9600-bd68e8d3d240",
    "papermill": {
     "duration": 0.007988,
     "end_time": "2022-12-28T14:17:48.402071",
     "exception": false,
     "start_time": "2022-12-28T14:17:48.394083",
     "status": "completed"
    },
    "tags": []
   },
   "source": [
    "# Libraries and Utilities"
   ]
  },
  {
   "cell_type": "code",
   "execution_count": 1,
   "id": "adbb2c5f",
   "metadata": {
    "execution": {
     "iopub.execute_input": "2022-12-28T14:17:48.422566Z",
     "iopub.status.busy": "2022-12-28T14:17:48.422006Z",
     "iopub.status.idle": "2022-12-28T14:19:58.221058Z",
     "shell.execute_reply": "2022-12-28T14:19:58.219932Z"
    },
    "papermill": {
     "duration": 129.813406,
     "end_time": "2022-12-28T14:19:58.224197",
     "exception": false,
     "start_time": "2022-12-28T14:17:48.410791",
     "status": "completed"
    },
    "scrolled": true,
    "tags": []
   },
   "outputs": [
    {
     "name": "stdout",
     "output_type": "stream",
     "text": [
      "Collecting fast-ml==3.68\r\n",
      "  Downloading fast_ml-3.68-py3-none-any.whl (42 kB)\r\n",
      "\u001b[2K     \u001b[90m━━━━━━━━━━━━━━━━━━━━━━━━━━━━━━━━━━━━━━━\u001b[0m \u001b[32m42.1/42.1 kB\u001b[0m \u001b[31m166.9 kB/s\u001b[0m eta \u001b[36m0:00:00\u001b[0m\r\n",
      "\u001b[?25hInstalling collected packages: fast-ml\r\n",
      "Successfully installed fast-ml-3.68\r\n",
      "\u001b[33mWARNING: Running pip as the 'root' user can result in broken permissions and conflicting behaviour with the system package manager. It is recommended to use a virtual environment instead: https://pip.pypa.io/warnings/venv\u001b[0m\u001b[33m\r\n",
      "\u001b[0mCollecting verstack==3.6.0\r\n",
      "  Downloading verstack-3.6.0.tar.gz (9.7 MB)\r\n",
      "\u001b[2K     \u001b[90m━━━━━━━━━━━━━━━━━━━━━━━━━━━━━━━━━━━━━━━━\u001b[0m \u001b[32m9.7/9.7 MB\u001b[0m \u001b[31m6.3 MB/s\u001b[0m eta \u001b[36m0:00:00\u001b[0m\r\n",
      "\u001b[?25h  Preparing metadata (setup.py) ... \u001b[?25l-\b \bdone\r\n",
      "\u001b[?25hRequirement already satisfied: pandas in /opt/conda/lib/python3.7/site-packages (from verstack==3.6.0) (1.3.5)\r\n",
      "Requirement already satisfied: numpy in /opt/conda/lib/python3.7/site-packages (from verstack==3.6.0) (1.21.6)\r\n",
      "Requirement already satisfied: xgboost in /opt/conda/lib/python3.7/site-packages (from verstack==3.6.0) (1.6.2)\r\n",
      "Requirement already satisfied: scikit-learn<=1.1.3,>=0.23.2 in /opt/conda/lib/python3.7/site-packages (from verstack==3.6.0) (1.0.2)\r\n",
      "Requirement already satisfied: lightgbm<=3.3.2,>=3.3.0 in /opt/conda/lib/python3.7/site-packages (from verstack==3.6.0) (3.3.2)\r\n",
      "Requirement already satisfied: optuna<=3.0.4,>=2.10.0 in /opt/conda/lib/python3.7/site-packages (from verstack==3.6.0) (3.0.3)\r\n",
      "Requirement already satisfied: plotly<=5.11.0,>=5.3.1 in /opt/conda/lib/python3.7/site-packages (from verstack==3.6.0) (5.10.0)\r\n",
      "Requirement already satisfied: matplotlib in /opt/conda/lib/python3.7/site-packages (from verstack==3.6.0) (3.5.3)\r\n",
      "Requirement already satisfied: python-dateutil<=2.8.2,>=2.8.1 in /opt/conda/lib/python3.7/site-packages (from verstack==3.6.0) (2.8.2)\r\n",
      "Collecting holidays==0.11.3.1\r\n",
      "  Downloading holidays-0.11.3.1-py3-none-any.whl (155 kB)\r\n",
      "\u001b[2K     \u001b[90m━━━━━━━━━━━━━━━━━━━━━━━━━━━━━━━━━━━━━━━\u001b[0m \u001b[32m155.7/155.7 kB\u001b[0m \u001b[31m9.0 MB/s\u001b[0m eta \u001b[36m0:00:00\u001b[0m\r\n",
      "\u001b[?25hRequirement already satisfied: mlxtend in /opt/conda/lib/python3.7/site-packages (from verstack==3.6.0) (0.21.0)\r\n",
      "Collecting tensorflow<=2.11.0,>=2.7.0\r\n",
      "  Downloading tensorflow-2.11.0-cp37-cp37m-manylinux_2_17_x86_64.manylinux2014_x86_64.whl (588.3 MB)\r\n",
      "\u001b[2K     \u001b[90m━━━━━━━━━━━━━━━━━━━━━━━━━━━━━━━━━━━━━━━\u001b[0m \u001b[32m588.3/588.3 MB\u001b[0m \u001b[31m1.7 MB/s\u001b[0m eta \u001b[36m0:00:00\u001b[0m\r\n",
      "\u001b[?25hCollecting keras<=2.11.0,>=2.7.0\r\n",
      "  Downloading keras-2.11.0-py2.py3-none-any.whl (1.7 MB)\r\n",
      "\u001b[2K     \u001b[90m━━━━━━━━━━━━━━━━━━━━━━━━━━━━━━━━━━━━━━━━\u001b[0m \u001b[32m1.7/1.7 MB\u001b[0m \u001b[31m37.6 MB/s\u001b[0m eta \u001b[36m0:00:00\u001b[0m\r\n",
      "\u001b[?25hCollecting category_encoders<=2.5.1,>=2.4.0\r\n",
      "  Downloading category_encoders-2.5.1-py2.py3-none-any.whl (71 kB)\r\n",
      "\u001b[2K     \u001b[90m━━━━━━━━━━━━━━━━━━━━━━━━━━━━━━━━━━━━━━━━\u001b[0m \u001b[32m71.3/71.3 kB\u001b[0m \u001b[31m5.1 MB/s\u001b[0m eta \u001b[36m0:00:00\u001b[0m\r\n",
      "\u001b[?25hRequirement already satisfied: hijri-converter in /opt/conda/lib/python3.7/site-packages (from holidays==0.11.3.1->verstack==3.6.0) (2.2.4)\r\n",
      "Requirement already satisfied: korean-lunar-calendar in /opt/conda/lib/python3.7/site-packages (from holidays==0.11.3.1->verstack==3.6.0) (0.3.1)\r\n",
      "Requirement already satisfied: convertdate>=2.3.0 in /opt/conda/lib/python3.7/site-packages (from holidays==0.11.3.1->verstack==3.6.0) (2.4.0)\r\n",
      "Requirement already satisfied: scipy>=1.0.0 in /opt/conda/lib/python3.7/site-packages (from category_encoders<=2.5.1,>=2.4.0->verstack==3.6.0) (1.7.3)\r\n",
      "Requirement already satisfied: patsy>=0.5.1 in /opt/conda/lib/python3.7/site-packages (from category_encoders<=2.5.1,>=2.4.0->verstack==3.6.0) (0.5.2)\r\n",
      "Requirement already satisfied: statsmodels>=0.9.0 in /opt/conda/lib/python3.7/site-packages (from category_encoders<=2.5.1,>=2.4.0->verstack==3.6.0) (0.13.2)\r\n",
      "Requirement already satisfied: wheel in /opt/conda/lib/python3.7/site-packages (from lightgbm<=3.3.2,>=3.3.0->verstack==3.6.0) (0.37.1)\r\n",
      "Requirement already satisfied: packaging>=20.0 in /opt/conda/lib/python3.7/site-packages (from optuna<=3.0.4,>=2.10.0->verstack==3.6.0) (21.3)\r\n",
      "Requirement already satisfied: sqlalchemy>=1.3.0 in /opt/conda/lib/python3.7/site-packages (from optuna<=3.0.4,>=2.10.0->verstack==3.6.0) (1.4.39)\r\n",
      "Requirement already satisfied: alembic>=1.5.0 in /opt/conda/lib/python3.7/site-packages (from optuna<=3.0.4,>=2.10.0->verstack==3.6.0) (1.8.1)\r\n",
      "Requirement already satisfied: tqdm in /opt/conda/lib/python3.7/site-packages (from optuna<=3.0.4,>=2.10.0->verstack==3.6.0) (4.64.0)\r\n",
      "Requirement already satisfied: PyYAML in /opt/conda/lib/python3.7/site-packages (from optuna<=3.0.4,>=2.10.0->verstack==3.6.0) (6.0)\r\n",
      "Requirement already satisfied: cmaes>=0.8.2 in /opt/conda/lib/python3.7/site-packages (from optuna<=3.0.4,>=2.10.0->verstack==3.6.0) (0.8.2)\r\n",
      "Requirement already satisfied: cliff in /opt/conda/lib/python3.7/site-packages (from optuna<=3.0.4,>=2.10.0->verstack==3.6.0) (3.10.1)\r\n",
      "Requirement already satisfied: importlib-metadata<5.0.0 in /opt/conda/lib/python3.7/site-packages (from optuna<=3.0.4,>=2.10.0->verstack==3.6.0) (4.13.0)\r\n",
      "Requirement already satisfied: colorlog in /opt/conda/lib/python3.7/site-packages (from optuna<=3.0.4,>=2.10.0->verstack==3.6.0) (6.7.0)\r\n",
      "Requirement already satisfied: pytz>=2017.3 in /opt/conda/lib/python3.7/site-packages (from pandas->verstack==3.6.0) (2022.1)\r\n",
      "Requirement already satisfied: tenacity>=6.2.0 in /opt/conda/lib/python3.7/site-packages (from plotly<=5.11.0,>=5.3.1->verstack==3.6.0) (8.0.1)\r\n",
      "Requirement already satisfied: six>=1.5 in /opt/conda/lib/python3.7/site-packages (from python-dateutil<=2.8.2,>=2.8.1->verstack==3.6.0) (1.15.0)\r\n",
      "Requirement already satisfied: joblib>=0.11 in /opt/conda/lib/python3.7/site-packages (from scikit-learn<=1.1.3,>=0.23.2->verstack==3.6.0) (1.0.1)\r\n",
      "Requirement already satisfied: threadpoolctl>=2.0.0 in /opt/conda/lib/python3.7/site-packages (from scikit-learn<=1.1.3,>=0.23.2->verstack==3.6.0) (3.1.0)\r\n",
      "Collecting tensorboard<2.12,>=2.11\r\n",
      "  Downloading tensorboard-2.11.0-py3-none-any.whl (6.0 MB)\r\n",
      "\u001b[2K     \u001b[90m━━━━━━━━━━━━━━━━━━━━━━━━━━━━━━━━━━━━━━━━\u001b[0m \u001b[32m6.0/6.0 MB\u001b[0m \u001b[31m22.7 MB/s\u001b[0m eta \u001b[36m0:00:00\u001b[0m\r\n",
      "\u001b[?25hRequirement already satisfied: setuptools in /opt/conda/lib/python3.7/site-packages (from tensorflow<=2.11.0,>=2.7.0->verstack==3.6.0) (59.8.0)\r\n",
      "Requirement already satisfied: wrapt>=1.11.0 in /opt/conda/lib/python3.7/site-packages (from tensorflow<=2.11.0,>=2.7.0->verstack==3.6.0) (1.12.1)\r\n",
      "Collecting tensorflow-io-gcs-filesystem>=0.23.1\r\n",
      "  Downloading tensorflow_io_gcs_filesystem-0.29.0-cp37-cp37m-manylinux_2_12_x86_64.manylinux2010_x86_64.whl (2.4 MB)\r\n",
      "\u001b[2K     \u001b[90m━━━━━━━━━━━━━━━━━━━━━━━━━━━━━━━━━━━━━━━━\u001b[0m \u001b[32m2.4/2.4 MB\u001b[0m \u001b[31m42.8 MB/s\u001b[0m eta \u001b[36m0:00:00\u001b[0m\r\n",
      "\u001b[?25hRequirement already satisfied: astunparse>=1.6.0 in /opt/conda/lib/python3.7/site-packages (from tensorflow<=2.11.0,>=2.7.0->verstack==3.6.0) (1.6.3)\r\n",
      "Collecting absl-py>=1.0.0\r\n",
      "  Downloading absl_py-1.3.0-py3-none-any.whl (124 kB)\r\n",
      "\u001b[2K     \u001b[90m━━━━━━━━━━━━━━━━━━━━━━━━━━━━━━━━━━━━━━━\u001b[0m \u001b[32m124.6/124.6 kB\u001b[0m \u001b[31m7.3 MB/s\u001b[0m eta \u001b[36m0:00:00\u001b[0m\r\n",
      "\u001b[?25hRequirement already satisfied: termcolor>=1.1.0 in /opt/conda/lib/python3.7/site-packages (from tensorflow<=2.11.0,>=2.7.0->verstack==3.6.0) (1.1.0)\r\n",
      "Requirement already satisfied: protobuf<3.20,>=3.9.2 in /opt/conda/lib/python3.7/site-packages (from tensorflow<=2.11.0,>=2.7.0->verstack==3.6.0) (3.19.4)\r\n",
      "Requirement already satisfied: gast<=0.4.0,>=0.2.1 in /opt/conda/lib/python3.7/site-packages (from tensorflow<=2.11.0,>=2.7.0->verstack==3.6.0) (0.4.0)\r\n",
      "Requirement already satisfied: grpcio<2.0,>=1.24.3 in /opt/conda/lib/python3.7/site-packages (from tensorflow<=2.11.0,>=2.7.0->verstack==3.6.0) (1.43.0)\r\n",
      "Requirement already satisfied: google-pasta>=0.1.1 in /opt/conda/lib/python3.7/site-packages (from tensorflow<=2.11.0,>=2.7.0->verstack==3.6.0) (0.2.0)\r\n",
      "Requirement already satisfied: opt-einsum>=2.3.2 in /opt/conda/lib/python3.7/site-packages (from tensorflow<=2.11.0,>=2.7.0->verstack==3.6.0) (3.3.0)\r\n",
      "Collecting libclang>=13.0.0\r\n",
      "  Downloading libclang-14.0.6-py2.py3-none-manylinux2010_x86_64.whl (14.1 MB)\r\n",
      "\u001b[2K     \u001b[90m━━━━━━━━━━━━━━━━━━━━━━━━━━━━━━━━━━━━━━━━\u001b[0m \u001b[32m14.1/14.1 MB\u001b[0m \u001b[31m16.0 MB/s\u001b[0m eta \u001b[36m0:00:00\u001b[0m\r\n",
      "\u001b[?25hCollecting flatbuffers>=2.0\r\n",
      "  Downloading flatbuffers-22.12.6-py2.py3-none-any.whl (26 kB)\r\n",
      "Requirement already satisfied: typing-extensions>=3.6.6 in /opt/conda/lib/python3.7/site-packages (from tensorflow<=2.11.0,>=2.7.0->verstack==3.6.0) (4.4.0)\r\n",
      "Requirement already satisfied: h5py>=2.9.0 in /opt/conda/lib/python3.7/site-packages (from tensorflow<=2.11.0,>=2.7.0->verstack==3.6.0) (3.7.0)\r\n",
      "Collecting tensorflow-estimator<2.12,>=2.11.0\r\n",
      "  Downloading tensorflow_estimator-2.11.0-py2.py3-none-any.whl (439 kB)\r\n",
      "\u001b[2K     \u001b[90m━━━━━━━━━━━━━━━━━━━━━━━━━━━━━━━━━━━━━━\u001b[0m \u001b[32m439.2/439.2 kB\u001b[0m \u001b[31m16.6 MB/s\u001b[0m eta \u001b[36m0:00:00\u001b[0m\r\n",
      "\u001b[?25hRequirement already satisfied: cycler>=0.10 in /opt/conda/lib/python3.7/site-packages (from matplotlib->verstack==3.6.0) (0.11.0)\r\n",
      "Requirement already satisfied: pyparsing>=2.2.1 in /opt/conda/lib/python3.7/site-packages (from matplotlib->verstack==3.6.0) (3.0.9)\r\n",
      "Requirement already satisfied: fonttools>=4.22.0 in /opt/conda/lib/python3.7/site-packages (from matplotlib->verstack==3.6.0) (4.33.3)\r\n",
      "Requirement already satisfied: pillow>=6.2.0 in /opt/conda/lib/python3.7/site-packages (from matplotlib->verstack==3.6.0) (9.1.1)\r\n",
      "Requirement already satisfied: kiwisolver>=1.0.1 in /opt/conda/lib/python3.7/site-packages (from matplotlib->verstack==3.6.0) (1.4.3)\r\n",
      "Requirement already satisfied: Mako in /opt/conda/lib/python3.7/site-packages (from alembic>=1.5.0->optuna<=3.0.4,>=2.10.0->verstack==3.6.0) (1.2.3)\r\n",
      "Requirement already satisfied: importlib-resources in /opt/conda/lib/python3.7/site-packages (from alembic>=1.5.0->optuna<=3.0.4,>=2.10.0->verstack==3.6.0) (5.8.0)\r\n",
      "Requirement already satisfied: pymeeus<=1,>=0.3.13 in /opt/conda/lib/python3.7/site-packages (from convertdate>=2.3.0->holidays==0.11.3.1->verstack==3.6.0) (0.5.11)\r\n",
      "Requirement already satisfied: zipp>=0.5 in /opt/conda/lib/python3.7/site-packages (from importlib-metadata<5.0.0->optuna<=3.0.4,>=2.10.0->verstack==3.6.0) (3.8.0)\r\n",
      "Requirement already satisfied: greenlet!=0.4.17 in /opt/conda/lib/python3.7/site-packages (from sqlalchemy>=1.3.0->optuna<=3.0.4,>=2.10.0->verstack==3.6.0) (1.1.2)\r\n",
      "Requirement already satisfied: werkzeug>=1.0.1 in /opt/conda/lib/python3.7/site-packages (from tensorboard<2.12,>=2.11->tensorflow<=2.11.0,>=2.7.0->verstack==3.6.0) (2.2.2)\r\n",
      "Requirement already satisfied: tensorboard-plugin-wit>=1.6.0 in /opt/conda/lib/python3.7/site-packages (from tensorboard<2.12,>=2.11->tensorflow<=2.11.0,>=2.7.0->verstack==3.6.0) (1.8.1)\r\n",
      "Requirement already satisfied: google-auth<3,>=1.6.3 in /opt/conda/lib/python3.7/site-packages (from tensorboard<2.12,>=2.11->tensorflow<=2.11.0,>=2.7.0->verstack==3.6.0) (1.35.0)\r\n",
      "Requirement already satisfied: tensorboard-data-server<0.7.0,>=0.6.0 in /opt/conda/lib/python3.7/site-packages (from tensorboard<2.12,>=2.11->tensorflow<=2.11.0,>=2.7.0->verstack==3.6.0) (0.6.1)\r\n",
      "Requirement already satisfied: google-auth-oauthlib<0.5,>=0.4.1 in /opt/conda/lib/python3.7/site-packages (from tensorboard<2.12,>=2.11->tensorflow<=2.11.0,>=2.7.0->verstack==3.6.0) (0.4.6)\r\n",
      "Requirement already satisfied: requests<3,>=2.21.0 in /opt/conda/lib/python3.7/site-packages (from tensorboard<2.12,>=2.11->tensorflow<=2.11.0,>=2.7.0->verstack==3.6.0) (2.28.1)\r\n",
      "Requirement already satisfied: markdown>=2.6.8 in /opt/conda/lib/python3.7/site-packages (from tensorboard<2.12,>=2.11->tensorflow<=2.11.0,>=2.7.0->verstack==3.6.0) (3.3.7)\r\n",
      "Requirement already satisfied: stevedore>=2.0.1 in /opt/conda/lib/python3.7/site-packages (from cliff->optuna<=3.0.4,>=2.10.0->verstack==3.6.0) (3.5.1)\r\n",
      "Requirement already satisfied: cmd2>=1.0.0 in /opt/conda/lib/python3.7/site-packages (from cliff->optuna<=3.0.4,>=2.10.0->verstack==3.6.0) (2.4.2)\r\n",
      "Requirement already satisfied: pbr!=2.1.0,>=2.0.0 in /opt/conda/lib/python3.7/site-packages (from cliff->optuna<=3.0.4,>=2.10.0->verstack==3.6.0) (5.10.0)\r\n",
      "Requirement already satisfied: PrettyTable>=0.7.2 in /opt/conda/lib/python3.7/site-packages (from cliff->optuna<=3.0.4,>=2.10.0->verstack==3.6.0) (3.3.0)\r\n",
      "Requirement already satisfied: autopage>=0.4.0 in /opt/conda/lib/python3.7/site-packages (from cliff->optuna<=3.0.4,>=2.10.0->verstack==3.6.0) (0.5.1)\r\n",
      "Requirement already satisfied: pyperclip>=1.6 in /opt/conda/lib/python3.7/site-packages (from cmd2>=1.0.0->cliff->optuna<=3.0.4,>=2.10.0->verstack==3.6.0) (1.8.2)\r\n",
      "Requirement already satisfied: attrs>=16.3.0 in /opt/conda/lib/python3.7/site-packages (from cmd2>=1.0.0->cliff->optuna<=3.0.4,>=2.10.0->verstack==3.6.0) (21.4.0)\r\n",
      "Requirement already satisfied: wcwidth>=0.1.7 in /opt/conda/lib/python3.7/site-packages (from cmd2>=1.0.0->cliff->optuna<=3.0.4,>=2.10.0->verstack==3.6.0) (0.2.5)\r\n",
      "Requirement already satisfied: cachetools<5.0,>=2.0.0 in /opt/conda/lib/python3.7/site-packages (from google-auth<3,>=1.6.3->tensorboard<2.12,>=2.11->tensorflow<=2.11.0,>=2.7.0->verstack==3.6.0) (4.2.4)\r\n",
      "Requirement already satisfied: rsa<5,>=3.1.4 in /opt/conda/lib/python3.7/site-packages (from google-auth<3,>=1.6.3->tensorboard<2.12,>=2.11->tensorflow<=2.11.0,>=2.7.0->verstack==3.6.0) (4.8)\r\n",
      "Requirement already satisfied: pyasn1-modules>=0.2.1 in /opt/conda/lib/python3.7/site-packages (from google-auth<3,>=1.6.3->tensorboard<2.12,>=2.11->tensorflow<=2.11.0,>=2.7.0->verstack==3.6.0) (0.2.7)\r\n",
      "Requirement already satisfied: requests-oauthlib>=0.7.0 in /opt/conda/lib/python3.7/site-packages (from google-auth-oauthlib<0.5,>=0.4.1->tensorboard<2.12,>=2.11->tensorflow<=2.11.0,>=2.7.0->verstack==3.6.0) (1.3.1)\r\n",
      "Requirement already satisfied: idna<4,>=2.5 in /opt/conda/lib/python3.7/site-packages (from requests<3,>=2.21.0->tensorboard<2.12,>=2.11->tensorflow<=2.11.0,>=2.7.0->verstack==3.6.0) (3.3)\r\n",
      "Requirement already satisfied: charset-normalizer<3,>=2 in /opt/conda/lib/python3.7/site-packages (from requests<3,>=2.21.0->tensorboard<2.12,>=2.11->tensorflow<=2.11.0,>=2.7.0->verstack==3.6.0) (2.1.0)\r\n",
      "Requirement already satisfied: certifi>=2017.4.17 in /opt/conda/lib/python3.7/site-packages (from requests<3,>=2.21.0->tensorboard<2.12,>=2.11->tensorflow<=2.11.0,>=2.7.0->verstack==3.6.0) (2022.9.24)\r\n",
      "Requirement already satisfied: urllib3<1.27,>=1.21.1 in /opt/conda/lib/python3.7/site-packages (from requests<3,>=2.21.0->tensorboard<2.12,>=2.11->tensorflow<=2.11.0,>=2.7.0->verstack==3.6.0) (1.26.12)\r\n",
      "Requirement already satisfied: MarkupSafe>=2.1.1 in /opt/conda/lib/python3.7/site-packages (from werkzeug>=1.0.1->tensorboard<2.12,>=2.11->tensorflow<=2.11.0,>=2.7.0->verstack==3.6.0) (2.1.1)\r\n",
      "Requirement already satisfied: pyasn1<0.5.0,>=0.4.6 in /opt/conda/lib/python3.7/site-packages (from pyasn1-modules>=0.2.1->google-auth<3,>=1.6.3->tensorboard<2.12,>=2.11->tensorflow<=2.11.0,>=2.7.0->verstack==3.6.0) (0.4.8)\r\n",
      "Requirement already satisfied: oauthlib>=3.0.0 in /opt/conda/lib/python3.7/site-packages (from requests-oauthlib>=0.7.0->google-auth-oauthlib<0.5,>=0.4.1->tensorboard<2.12,>=2.11->tensorflow<=2.11.0,>=2.7.0->verstack==3.6.0) (3.2.0)\r\n",
      "Building wheels for collected packages: verstack\r\n",
      "  Building wheel for verstack (setup.py) ... \u001b[?25l-\b \b\\\b \b|\b \bdone\r\n",
      "\u001b[?25h  Created wheel for verstack: filename=verstack-3.6.0-py3-none-any.whl size=94660 sha256=6b6c096824e9d008f2019a787013421acebb3791f94c30f64c94a7c610e99fe9\r\n",
      "  Stored in directory: /root/.cache/pip/wheels/b8/84/ff/390d485cde7ef3787c91376d2d27ba377e0aa7f66da52f1c59\r\n",
      "Successfully built verstack\r\n",
      "Installing collected packages: libclang, flatbuffers, tensorflow-io-gcs-filesystem, tensorflow-estimator, keras, absl-py, holidays, tensorboard, category_encoders, tensorflow, verstack\r\n",
      "  Attempting uninstall: flatbuffers\r\n",
      "    Found existing installation: flatbuffers 1.12\r\n",
      "    Uninstalling flatbuffers-1.12:\r\n",
      "      Successfully uninstalled flatbuffers-1.12\r\n",
      "  Attempting uninstall: tensorflow-estimator\r\n",
      "    Found existing installation: tensorflow-estimator 2.6.0\r\n",
      "    Uninstalling tensorflow-estimator-2.6.0:\r\n",
      "      Successfully uninstalled tensorflow-estimator-2.6.0\r\n",
      "  Attempting uninstall: keras\r\n",
      "    Found existing installation: keras 2.6.0\r\n",
      "    Uninstalling keras-2.6.0:\r\n",
      "      Successfully uninstalled keras-2.6.0\r\n",
      "  Attempting uninstall: absl-py\r\n",
      "    Found existing installation: absl-py 0.15.0\r\n",
      "    Uninstalling absl-py-0.15.0:\r\n",
      "      Successfully uninstalled absl-py-0.15.0\r\n",
      "  Attempting uninstall: holidays\r\n",
      "    Found existing installation: holidays 0.16\r\n",
      "    Uninstalling holidays-0.16:\r\n",
      "      Successfully uninstalled holidays-0.16\r\n",
      "  Attempting uninstall: tensorboard\r\n",
      "    Found existing installation: tensorboard 2.10.1\r\n",
      "    Uninstalling tensorboard-2.10.1:\r\n",
      "      Successfully uninstalled tensorboard-2.10.1\r\n",
      "  Attempting uninstall: category_encoders\r\n",
      "    Found existing installation: category-encoders 2.5.1.post0\r\n",
      "    Uninstalling category-encoders-2.5.1.post0:\r\n",
      "      Successfully uninstalled category-encoders-2.5.1.post0\r\n",
      "  Attempting uninstall: tensorflow\r\n",
      "    Found existing installation: tensorflow 2.6.4\r\n",
      "    Uninstalling tensorflow-2.6.4:\r\n",
      "      Successfully uninstalled tensorflow-2.6.4\r\n",
      "\u001b[31mERROR: pip's dependency resolver does not currently take into account all the packages that are installed. This behaviour is the source of the following dependency conflicts.\r\n",
      "tfx-bsl 1.9.0 requires pyarrow<6,>=1, but you have pyarrow 8.0.0 which is incompatible.\r\n",
      "tensorflow-transform 1.9.0 requires pyarrow<6,>=1, but you have pyarrow 8.0.0 which is incompatible.\r\n",
      "tensorflow-transform 1.9.0 requires tensorflow!=2.0.*,!=2.1.*,!=2.2.*,!=2.3.*,!=2.4.*,!=2.5.*,!=2.6.*,!=2.7.*,!=2.8.*,<2.10,>=1.15.5, but you have tensorflow 2.11.0 which is incompatible.\r\n",
      "tensorflow-io 0.21.0 requires tensorflow<2.7.0,>=2.6.0, but you have tensorflow 2.11.0 which is incompatible.\r\n",
      "tensorflow-io 0.21.0 requires tensorflow-io-gcs-filesystem==0.21.0, but you have tensorflow-io-gcs-filesystem 0.29.0 which is incompatible.\r\n",
      "prophet 1.1.1 requires holidays>=0.14.2, but you have holidays 0.11.3.1 which is incompatible.\r\n",
      "featuretools 1.11.1 requires holidays>=0.13, but you have holidays 0.11.3.1 which is incompatible.\u001b[0m\u001b[31m\r\n",
      "\u001b[0mSuccessfully installed absl-py-1.3.0 category_encoders-2.5.1 flatbuffers-22.12.6 holidays-0.11.3.1 keras-2.11.0 libclang-14.0.6 tensorboard-2.11.0 tensorflow-2.11.0 tensorflow-estimator-2.11.0 tensorflow-io-gcs-filesystem-0.29.0 verstack-3.6.0\r\n",
      "\u001b[33mWARNING: Running pip as the 'root' user can result in broken permissions and conflicting behaviour with the system package manager. It is recommended to use a virtual environment instead: https://pip.pypa.io/warnings/venv\u001b[0m\u001b[33m\r\n",
      "\u001b[0m"
     ]
    }
   ],
   "source": [
    "# install required libraries\n",
    "!pip install fast-ml==3.68\n",
    "!pip install verstack==3.6.0"
   ]
  },
  {
   "cell_type": "code",
   "execution_count": 2,
   "id": "6113dff7",
   "metadata": {
    "execution": {
     "iopub.execute_input": "2022-12-28T14:19:58.357938Z",
     "iopub.status.busy": "2022-12-28T14:19:58.357473Z",
     "iopub.status.idle": "2022-12-28T14:19:59.471294Z",
     "shell.execute_reply": "2022-12-28T14:19:59.469830Z"
    },
    "papermill": {
     "duration": 1.184726,
     "end_time": "2022-12-28T14:19:59.474855",
     "exception": false,
     "start_time": "2022-12-28T14:19:58.290129",
     "status": "completed"
    },
    "tags": []
   },
   "outputs": [],
   "source": [
    "!mkdir models"
   ]
  },
  {
   "cell_type": "code",
   "execution_count": 3,
   "id": "5296f8d2",
   "metadata": {
    "execution": {
     "iopub.execute_input": "2022-12-28T14:19:59.606747Z",
     "iopub.status.busy": "2022-12-28T14:19:59.606278Z",
     "iopub.status.idle": "2022-12-28T14:20:00.759982Z",
     "shell.execute_reply": "2022-12-28T14:20:00.757893Z"
    },
    "papermill": {
     "duration": 1.222839,
     "end_time": "2022-12-28T14:20:00.763425",
     "exception": false,
     "start_time": "2022-12-28T14:19:59.540586",
     "status": "completed"
    },
    "tags": []
   },
   "outputs": [],
   "source": [
    "!mkdir output"
   ]
  },
  {
   "cell_type": "code",
   "execution_count": 4,
   "id": "7bb6e073",
   "metadata": {
    "_cell_guid": "75829816-6cab-48ba-bf0f-dbd42f2718a7",
    "_uuid": "f73beca1-71bd-447d-81ea-c42556b53fe0",
    "collapsed": false,
    "execution": {
     "iopub.execute_input": "2022-12-28T14:20:00.901045Z",
     "iopub.status.busy": "2022-12-28T14:20:00.899937Z",
     "iopub.status.idle": "2022-12-28T14:20:10.164864Z",
     "shell.execute_reply": "2022-12-28T14:20:10.162127Z"
    },
    "jupyter": {
     "outputs_hidden": false
    },
    "papermill": {
     "duration": 9.336597,
     "end_time": "2022-12-28T14:20:10.168949",
     "exception": false,
     "start_time": "2022-12-28T14:20:00.832352",
     "status": "completed"
    },
    "tags": []
   },
   "outputs": [
    {
     "data": {
      "text/html": [
       "<style type='text/css'>\n",
       ".datatable table.frame { margin-bottom: 0; }\n",
       ".datatable table.frame thead { border-bottom: none; }\n",
       ".datatable table.frame tr.coltypes td {  color: #FFFFFF;  line-height: 6px;  padding: 0 0.5em;}\n",
       ".datatable .bool    { background: #DDDD99; }\n",
       ".datatable .object  { background: #565656; }\n",
       ".datatable .int     { background: #5D9E5D; }\n",
       ".datatable .float   { background: #4040CC; }\n",
       ".datatable .str     { background: #CC4040; }\n",
       ".datatable .time    { background: #40CC40; }\n",
       ".datatable .row_index {  background: var(--jp-border-color3);  border-right: 1px solid var(--jp-border-color0);  color: var(--jp-ui-font-color3);  font-size: 9px;}\n",
       ".datatable .frame tbody td { text-align: left; }\n",
       ".datatable .frame tr.coltypes .row_index {  background: var(--jp-border-color0);}\n",
       ".datatable th:nth-child(2) { padding-left: 12px; }\n",
       ".datatable .hellipsis {  color: var(--jp-cell-editor-border-color);}\n",
       ".datatable .vellipsis {  background: var(--jp-layout-color0);  color: var(--jp-cell-editor-border-color);}\n",
       ".datatable .na {  color: var(--jp-cell-editor-border-color);  font-size: 80%;}\n",
       ".datatable .sp {  opacity: 0.25;}\n",
       ".datatable .footer { font-size: 9px; }\n",
       ".datatable .frame_dimensions {  background: var(--jp-border-color3);  border-top: 1px solid var(--jp-border-color0);  color: var(--jp-ui-font-color3);  display: inline-block;  opacity: 0.6;  padding: 1px 10px 1px 5px;}\n",
       ".datatable .frame thead tr.colnames {  background-image: url('data:image/png;base64,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');  background-repeat: repeat-x;  background-size: 14px;  height: 28px;}\n",
       "</style>\n"
      ],
      "text/plain": [
       "<IPython.core.display.HTML object>"
      ]
     },
     "metadata": {},
     "output_type": "display_data"
    },
    {
     "name": "stderr",
     "output_type": "stream",
     "text": [
      "2022-12-28 14:20:05.326065: I tensorflow/core/platform/cpu_feature_guard.cc:193] This TensorFlow binary is optimized with oneAPI Deep Neural Network Library (oneDNN) to use the following CPU instructions in performance-critical operations:  AVX2 FMA\n",
      "To enable them in other operations, rebuild TensorFlow with the appropriate compiler flags.\n",
      "2022-12-28 14:20:05.524517: W tensorflow/compiler/xla/stream_executor/platform/default/dso_loader.cc:64] Could not load dynamic library 'libcudart.so.11.0'; dlerror: libcudart.so.11.0: cannot open shared object file: No such file or directory; LD_LIBRARY_PATH: /usr/local/cuda/lib64:/usr/local/cuda/lib:/usr/local/lib/x86_64-linux-gnu:/usr/local/nvidia/lib:/usr/local/nvidia/lib64:\n",
      "2022-12-28 14:20:05.524576: I tensorflow/compiler/xla/stream_executor/cuda/cudart_stub.cc:29] Ignore above cudart dlerror if you do not have a GPU set up on your machine.\n",
      "2022-12-28 14:20:06.925023: W tensorflow/compiler/xla/stream_executor/platform/default/dso_loader.cc:64] Could not load dynamic library 'libnvinfer.so.7'; dlerror: libnvinfer.so.7: cannot open shared object file: No such file or directory; LD_LIBRARY_PATH: /usr/local/cuda/lib64:/usr/local/cuda/lib:/usr/local/lib/x86_64-linux-gnu:/usr/local/nvidia/lib:/usr/local/nvidia/lib64:\n",
      "2022-12-28 14:20:06.925270: W tensorflow/compiler/xla/stream_executor/platform/default/dso_loader.cc:64] Could not load dynamic library 'libnvinfer_plugin.so.7'; dlerror: libnvinfer_plugin.so.7: cannot open shared object file: No such file or directory; LD_LIBRARY_PATH: /usr/local/cuda/lib64:/usr/local/cuda/lib:/usr/local/lib/x86_64-linux-gnu:/usr/local/nvidia/lib:/usr/local/nvidia/lib64:\n",
      "2022-12-28 14:20:06.925287: W tensorflow/compiler/tf2tensorrt/utils/py_utils.cc:38] TF-TRT Warning: Cannot dlopen some TensorRT libraries. If you would like to use Nvidia GPU with TensorRT, please make sure the missing libraries mentioned above are installed properly.\n"
     ]
    },
    {
     "name": "stdout",
     "output_type": "stream",
     "text": [
      "/kaggle/input/titanic/train.csv\n",
      "/kaggle/input/titanic/test.csv\n",
      "/kaggle/input/titanic/gender_submission.csv\n"
     ]
    }
   ],
   "source": [
    "# This Python 3 environment comes with many helpful analytics libraries installed\n",
    "# It is defined by the kaggle/python Docker image: https://github.com/kaggle/docker-python\n",
    "# For example, here's several helpful packages to load\n",
    "\n",
    "import lightgbm as lgb\n",
    "import optuna\n",
    "import os\n",
    "import matplotlib.pyplot as plt\n",
    "import numpy as np # linear algebra\n",
    "import pandas as pd # data processing, CSV file I/O (e.g. pd.read_csv)\n",
    "import seaborn as sns\n",
    "\n",
    "\n",
    "\n",
    "# Input data files are available in the read-only \"../input/\" directory\n",
    "# For example, running this (by clicking run or pressing Shift+Enter) will list all files under the input directory\n",
    "\n",
    "from fast_ml.feature_selection import get_constant_features\n",
    "from fast_ml.feature_selection import get_correlated_pairs\n",
    "from gensim.models import Word2Vec\n",
    "from random import shuffle\n",
    "from sklearn.metrics import classification_report\n",
    "from sklearn.metrics import roc_auc_score,precision_score, confusion_matrix, accuracy_score, roc_curve, f1_score # Several useful metrics\n",
    "from sklearn.model_selection import train_test_split\n",
    "from sklearn.model_selection import RepeatedKFold\n",
    "from tabulate import tabulate\n",
    "from verstack import NaNImputer\n",
    "\n",
    "# set the random seed\n",
    "random_seed = 1234\n",
    "\n",
    "# target variable name\n",
    "TARGET = 'Survived'\n",
    "\n",
    "for dirname, _, filenames in os.walk('/kaggle/input'):\n",
    "    for filename in filenames:\n",
    "        print(os.path.join(dirname, filename))\n",
    "\n",
    "# You can write up to 20GB to the current directory (/kaggle/working/) that gets preserved as output when you create a version using \"Save & Run All\" \n",
    "# You can also write temporary files to /kaggle/temp/, but they won't be saved outside of the current session"
   ]
  },
  {
   "cell_type": "code",
   "execution_count": 5,
   "id": "7fbe5d02",
   "metadata": {
    "execution": {
     "iopub.execute_input": "2022-12-28T14:20:10.306499Z",
     "iopub.status.busy": "2022-12-28T14:20:10.305612Z",
     "iopub.status.idle": "2022-12-28T14:20:10.330235Z",
     "shell.execute_reply": "2022-12-28T14:20:10.329119Z"
    },
    "papermill": {
     "duration": 0.095863,
     "end_time": "2022-12-28T14:20:10.332993",
     "exception": false,
     "start_time": "2022-12-28T14:20:10.237130",
     "status": "completed"
    },
    "tags": []
   },
   "outputs": [],
   "source": [
    "def apply_w2v(sentences, model, num_features):\n",
    "    \"\"\"\"\"\"\n",
    "    def _average_word_vectors(words, model, vocabulary, num_features):\n",
    "        feature_vector = np.zeros((num_features,), dtype=\"float64\")\n",
    "        n_words = 0.\n",
    "        for word in words:\n",
    "            if word in vocabulary: \n",
    "                n_words = n_words + 1.\n",
    "                feature_vector = np.add(feature_vector, model.wv[word])\n",
    "\n",
    "        if n_words:\n",
    "            feature_vector = np.divide(feature_vector, n_words)\n",
    "        return feature_vector\n",
    "    \n",
    "    vocab = set(model.wv.index_to_key)\n",
    "    feats = [_average_word_vectors(s, model, vocab, num_features) for s in sentences]\n",
    "    \n",
    "    return np.array(feats)\n",
    "\n",
    "\n",
    "def gen_cat2vec_sentences(df):\n",
    "    \"\"\"\"\"\"\n",
    "    X_w2v = df.copy(deep=True)\n",
    "    names = list(X_w2v.columns.values)\n",
    "    for c in names:\n",
    "        X_w2v[c] = X_w2v[c].fillna('unknow').astype('category')\n",
    "        X_w2v[c].cat.categories = [\"%s %s\" % (c,g) for g in X_w2v[c].cat.categories]\n",
    "    X_w2v = X_w2v.values.tolist()\n",
    "    \n",
    "    return X_w2v\n",
    "\n",
    "\n",
    "def fit_cat2vec_model(df, n_cat2vec_features, n_cat2vec_window):\n",
    "    \"\"\"\"\"\"\n",
    "    X_w2v = gen_cat2vec_sentences(df.sample(frac=0.6))\n",
    "    for i in X_w2v:\n",
    "        shuffle(i)    \n",
    "    model = Word2Vec(X_w2v, vector_size=n_cat2vec_features, window=n_cat2vec_window)\n",
    "    \n",
    "    return model\n",
    "\n",
    "\n",
    "def na_feats_report(df, verbose=True):\n",
    "\n",
    "    cols = df.columns.tolist()\n",
    "    nas_list = []\n",
    "    nas_perc_list = []\n",
    "\n",
    "    # missing features\n",
    "    for col in cols:\n",
    "        nas = df[col].isna().sum()\n",
    "        nas_list.append(nas)\n",
    "        nas_perc = nas / df.shape[0]\n",
    "        nas_perc_list.append(nas_perc)\n",
    "        if verbose:\n",
    "            print(col, '-', nas, '/', np.round(nas_perc, 3))\n",
    "\n",
    "    nas_df = pd.DataFrame([cols, nas_list, nas_perc_list]).T\n",
    "    nas_df.columns = ['feature', 'nas', 'nas_perc']\n",
    "    \n",
    "    return nas_df\n",
    "\n",
    "\n",
    "def iqr_range_detection(df, col):\n",
    "    quantiles = df[col].quantile([.25, .75]).values\n",
    "    Q1 = quantiles[0]\n",
    "    Q3 = quantiles[1]\n",
    "    IQR = Q3 - Q1\n",
    "    \n",
    "    lower_limit = Q3 - (1.5 * IQR)\n",
    "    upper_limit = Q3 + (1.5 * IQR)\n",
    "    \n",
    "    return lower_limit, upper_limit\n",
    "\n",
    "\n",
    "def iqr_range_clip(df, cols):\n",
    "    clipped_cols = []\n",
    "    \n",
    "    for col in cols:\n",
    "        if df[col].nunique() > 10:\n",
    "            try:\n",
    "                lower_limit, upper_limit = iqr_range_detection(df, col)\n",
    "                if (lower_limit != upper_limit\n",
    "                    and (df.loc[(df[col] > upper_limit) | (df[col] < lower_limit)].shape[0] > 0)):\n",
    "                    print(f'{col} has {df[col].nunique()} unique values: clipping values outside [{lower_limit}, {upper_limit}]')\n",
    "                    df[f'{col}'] = df[col].clip(lower=lower_limit, upper=upper_limit)\n",
    "            except Exception as e:\n",
    "                print(f'Exception raised by {col}: {e}')"
   ]
  },
  {
   "cell_type": "code",
   "execution_count": 6,
   "id": "b04b4aa8",
   "metadata": {
    "_cell_guid": "71a9dc3d-7e9a-4a0f-bfd1-c4a075c64ff8",
    "_uuid": "b2279e07-6c12-4891-b1c1-e9cde91e1098",
    "collapsed": false,
    "execution": {
     "iopub.execute_input": "2022-12-28T14:20:10.481055Z",
     "iopub.status.busy": "2022-12-28T14:20:10.480560Z",
     "iopub.status.idle": "2022-12-28T14:20:10.530700Z",
     "shell.execute_reply": "2022-12-28T14:20:10.528974Z"
    },
    "jupyter": {
     "outputs_hidden": false
    },
    "papermill": {
     "duration": 0.130004,
     "end_time": "2022-12-28T14:20:10.533810",
     "exception": false,
     "start_time": "2022-12-28T14:20:10.403806",
     "status": "completed"
    },
    "tags": []
   },
   "outputs": [],
   "source": [
    "# get the data sources and set the indexes according using the passanger ids\n",
    "df = pd.read_csv('/kaggle/input/titanic/train.csv')\n",
    "df.set_index('PassengerId', inplace=True)\n",
    "test_df = pd.read_csv('/kaggle/input/titanic/test.csv')\n",
    "test_df.set_index('PassengerId', inplace=True)\n",
    "\n",
    "# split the initial train dataframe into train and evaluation set\n",
    "train_df, valid_df = train_test_split(df, test_size=0.3, random_state=random_seed)"
   ]
  },
  {
   "cell_type": "code",
   "execution_count": 7,
   "id": "0ac1d24b",
   "metadata": {
    "_cell_guid": "8ff20c6a-1f25-470a-8663-a85bbdd982af",
    "_uuid": "b07ddfd5-040e-4b22-b222-a28507a4aece",
    "collapsed": false,
    "execution": {
     "iopub.execute_input": "2022-12-28T14:20:10.672147Z",
     "iopub.status.busy": "2022-12-28T14:20:10.671725Z",
     "iopub.status.idle": "2022-12-28T14:20:10.696615Z",
     "shell.execute_reply": "2022-12-28T14:20:10.695287Z"
    },
    "jupyter": {
     "outputs_hidden": false
    },
    "papermill": {
     "duration": 0.099209,
     "end_time": "2022-12-28T14:20:10.699928",
     "exception": false,
     "start_time": "2022-12-28T14:20:10.600719",
     "status": "completed"
    },
    "tags": []
   },
   "outputs": [],
   "source": [
    "# check if there are any duplicated passengers\n",
    "assert len([train_idx\n",
    "            for train_idx in df.index.tolist() \n",
    "            if train_idx in test_df.index.tolist()]) == 0"
   ]
  },
  {
   "cell_type": "code",
   "execution_count": 8,
   "id": "b983fb8c",
   "metadata": {
    "execution": {
     "iopub.execute_input": "2022-12-28T14:20:10.832593Z",
     "iopub.status.busy": "2022-12-28T14:20:10.832160Z",
     "iopub.status.idle": "2022-12-28T14:20:10.860659Z",
     "shell.execute_reply": "2022-12-28T14:20:10.859597Z"
    },
    "papermill": {
     "duration": 0.098258,
     "end_time": "2022-12-28T14:20:10.863421",
     "exception": false,
     "start_time": "2022-12-28T14:20:10.765163",
     "status": "completed"
    },
    "tags": []
   },
   "outputs": [],
   "source": [
    "def preprocess(df, train=True):\n",
    "\n",
    "    # initial features to drop after being transformed\n",
    "    to_drop = []\n",
    "\n",
    "    # Categorical variable treatment\n",
    "    # decompose the name\n",
    "    title_pattern = '(Mr\\.|Mrs\\.|Miss\\.|Col\\.|Capt\\.|Don\\.|Master\\.|Rev\\.|Jonkheer\\.|Major\\.|Dr\\.|Mlle\\.|Mme\\.|Dona\\.|Miss\\.)'\n",
    "    df['Title'] = df['Name'].str.extract(title_pattern)\n",
    "    # regex to extract the surname from name \n",
    "    df['Surname'] = df['Name'].str.extract(\"(^\\w+\\s*\\'*\\-*\\w+,|^\\w+\\s*y\\s*\\w+,)\")\n",
    "    # regex to extract the spouse name (it's surrounded by parenthesis)\n",
    "    df['SpouseName'] = df['Name'].str.extract('(\\(\\\"*\\w*\\s*\\\"*\\w*\\.*\\\"*\\s*\\w*\\s*\\w*\\s*\\w*\\s*\\\"*\\))')\n",
    "    # remove the extracted surname, title and spouse values from the initial name column\n",
    "    df['NameOnly'] = df.apply(lambda x: (str(x['Name'])\n",
    "                                         .replace(str(x['Surname']), '')\n",
    "                                         .replace(str(x['Title']), '')\n",
    "                                         .replace(str(x['SpouseName']), '')).strip(),\n",
    "                              axis=1)\n",
    "    df['Surname'] = df['Surname'].str.replace(',', '', regex=False)\n",
    "    df['SpouseName'] = df['SpouseName'].str.replace('(', '')\n",
    "    df['SpouseName'] = df['SpouseName'].str.replace(')', '')\n",
    "    df['SpouseName'] = df['SpouseName'].str.strip()\n",
    "    df['SpouseSurname'] = df['SpouseName'].str.extract('(\\w+$)')\n",
    "    df['SpouseName'] = df.apply(lambda x: (str(x['SpouseName'])\n",
    "                                           .replace(str(x['SpouseSurname']), '')).strip(),\n",
    "                                axis=1)\n",
    "    df['SpouseSurname'].fillna('NA', inplace=True)\n",
    "    df.loc[df['SpouseSurname'] == 'NA', 'SpouseName'] = 'NA'\n",
    "\n",
    "    # add the initial feature to the TO DROP list\n",
    "    to_drop.append('Name')\n",
    "\n",
    "    # ticket and cabin information\n",
    "    df['Deck'] = df['Cabin'].str.extract('(\\w)')\n",
    "    df['Cabin'] = df['Cabin'].str.replace(r'[A-Z]', '', regex=True)\n",
    "    df['TicketNumber'] = df['Ticket'].str.extract('([0-9]+$)')\n",
    "    df['TicketNumber'] = df['TicketNumber'].str.strip()\n",
    "    # extract the ticket code information\n",
    "    df['TicketCode'] = df.apply(lambda x: x['Ticket'].replace(str(x['TicketNumber']), '').strip(), axis=1)\n",
    "    df['TicketCode'] = df['TicketCode'].str.replace('.', '', regex=False)\n",
    "    df['TicketCode'] = df['TicketCode'].str.upper()\n",
    "    df['TicketCode'] = df['TicketCode'].str.replace('\\s', '', regex=True)\n",
    "    df['TicketCode'] = df['TicketCode'].str.replace('A/5', 'A5', regex=False)\n",
    "    df['TicketCode'] = df['TicketCode'].str.replace('A/4', 'A4', regex=False)\n",
    "\n",
    "    to_drop.append('Ticket')\n",
    "\n",
    "    # impute missing values \n",
    "    # Arbitrary caegory imputation: Let's set the missing values of these features to UNKNOWN\n",
    "    df['Cabin'].fillna('UNKNOWN', inplace=True)\n",
    "    df['Deck'].fillna('UNKNOWN', inplace=True)\n",
    "    df['TicketNumber'].fillna('UNKNOWN', inplace=True)\n",
    "\n",
    "    imputer = NaNImputer()\n",
    "    imputed_df = imputer.impute(df)\n",
    "\n",
    "    na_feats_report(imputed_df)\n",
    "\n",
    "    # divide features into numerical and categorical\n",
    "    cat_cols = imputed_df.select_dtypes(include=['O']).columns.tolist()\n",
    "    num_cols = imputed_df.select_dtypes(exclude=['O']).columns.tolist()\n",
    "\n",
    "    n_cat2vec_features = len(cat_cols) # define the cat2vecs dimentions\n",
    "    n_cat2vec_window = len(cat_cols) * 2 # define the w2v window size\n",
    "\n",
    "    if train:\n",
    "        c2v_model = fit_cat2vec_model(imputed_df.loc[:, cat_cols], n_cat2vec_features, n_cat2vec_window)\n",
    "        c2v_model.save('models/c2v_model.w2v')\n",
    "    else:\n",
    "        c2v_model = Word2Vec.load('models/c2v_model.w2v')\n",
    "\n",
    "    # training\n",
    "    tr_c2v_matrix = apply_w2v(gen_cat2vec_sentences(imputed_df.loc[:, cat_cols]),\n",
    "                              c2v_model, n_cat2vec_features)\n",
    "\n",
    "    # add the cat2vec matrix to the corresponding columns \n",
    "    imputed_df.loc[:, cat_cols] = tr_c2v_matrix\n",
    "    \n",
    "    # remove constant features\n",
    "    constant_feats = get_constant_features(imputed_df)\n",
    "    print(tabulate(constant_feats, headers='keys', tablefmt='psql'))\n",
    "\n",
    "    to_drop += constant_feats['Var'].values.tolist()\n",
    "    \n",
    "    # remove correlated pairs     \n",
    "    temp_to_drop = [1]\n",
    "    to_drop = []\n",
    "    i = 1\n",
    "\n",
    "    while len(temp_to_drop):\n",
    "        print(f'running round number {i}')\n",
    "        corr_pairs = get_correlated_pairs(\n",
    "            imputed_df.drop(columns=to_drop, axis=1)\n",
    "            .select_dtypes(include=['number'])\n",
    "        )\n",
    "        print(tabulate(corr_pairs, headers='keys', tablefmt='psql'))\n",
    "        temp_to_drop = corr_pairs['feature1'].unique().tolist()\n",
    "\n",
    "        temp_to_drop = [col for col in temp_to_drop if TARGET not in col]\n",
    "\n",
    "        print()\n",
    "        print(f'features to drop: {temp_to_drop}')\n",
    "        # make sure not to remove the TARGET\n",
    "        temp_to_drop = list(set(temp_to_drop) - set(TARGET))\n",
    "        to_drop += temp_to_drop\n",
    "\n",
    "        i += 1\n",
    "    \n",
    "    imputed_df['Age'] = np.round(imputed_df['Age'], 0).astype('int32')\n",
    "    iqr_range_clip(imputed_df, num_cols)\n",
    "\n",
    "    if train:\n",
    "        imputed_df.drop(columns=to_drop, axis=1, inplace=True)\n",
    "    \n",
    "    return imputed_df, to_drop\n",
    "    "
   ]
  },
  {
   "cell_type": "code",
   "execution_count": 9,
   "id": "b96db16e",
   "metadata": {
    "execution": {
     "iopub.execute_input": "2022-12-28T14:20:11.002583Z",
     "iopub.status.busy": "2022-12-28T14:20:11.002042Z",
     "iopub.status.idle": "2022-12-28T14:20:12.196464Z",
     "shell.execute_reply": "2022-12-28T14:20:12.194716Z"
    },
    "papermill": {
     "duration": 1.27064,
     "end_time": "2022-12-28T14:20:12.199961",
     "exception": false,
     "start_time": "2022-12-28T14:20:10.929321",
     "status": "completed"
    },
    "scrolled": true,
    "tags": []
   },
   "outputs": [
    {
     "name": "stdout",
     "output_type": "stream",
     "text": [
      "\n",
      " * Initiating NaNImputer.impute\n",
      "     . Dataset dimensions:\n",
      "     .. rows:         623\n",
      "     .. columns:      19\n",
      "     .. mb in memory: 0.1\n",
      "     .. NaN cols num: 2\n",
      "\n",
      "   - Drop hopeless NaN cols\n",
      "\n",
      "   - Processing whole data for imputation\n",
      "     . Processed 10 cols; 4 to go\n",
      "\n",
      "   - Imputing single core 2 cols\n",
      "     . Imputed (regression) - 122      NaN in Age\n",
      "     . Imputed (multiclass) - 1        NaN in Embarked\n",
      "\n",
      "   - Missing values after imputation: 0\n",
      "\n",
      "Time elapsed for impute execution: 0.91928 seconds\n",
      "Survived - 0 / 0.0\n",
      "Pclass - 0 / 0.0\n",
      "Name - 0 / 0.0\n",
      "Sex - 0 / 0.0\n",
      "Age - 0 / 0.0\n",
      "SibSp - 0 / 0.0\n",
      "Parch - 0 / 0.0\n",
      "Ticket - 0 / 0.0\n",
      "Fare - 0 / 0.0\n",
      "Cabin - 0 / 0.0\n",
      "Embarked - 0 / 0.0\n",
      "Title - 0 / 0.0\n",
      "Surname - 0 / 0.0\n",
      "SpouseName - 0 / 0.0\n",
      "NameOnly - 0 / 0.0\n",
      "SpouseSurname - 0 / 0.0\n",
      "Deck - 0 / 0.0\n",
      "TicketNumber - 0 / 0.0\n",
      "TicketCode - 0 / 0.0\n",
      "+--------+-------+---------+--------+\n",
      "| Desc   | Var   | Value   | Perc   |\n",
      "|--------+-------+---------+--------|\n",
      "+--------+-------+---------+--------+\n",
      "running round number 1\n",
      "+--------------+------------+------------+--------+------------+\n",
      "| corr_group   | feature1   | feature2   | corr   | abs_corr   |\n",
      "|--------------+------------+------------+--------+------------|\n",
      "+--------------+------------+------------+--------+------------+\n",
      "\n",
      "features to drop: []\n",
      "Age has 70 unique values: clipping values outside [12.5, 63.5]\n",
      "Fare has 210 unique values: clipping values outside [-3.6343999999999994, 65.6344]\n"
     ]
    }
   ],
   "source": [
    "train_imputed_df, to_drop_train = preprocess(train_df, train=True)"
   ]
  },
  {
   "cell_type": "code",
   "execution_count": 10,
   "id": "39e76e9a",
   "metadata": {
    "execution": {
     "iopub.execute_input": "2022-12-28T14:20:12.336689Z",
     "iopub.status.busy": "2022-12-28T14:20:12.336228Z",
     "iopub.status.idle": "2022-12-28T14:20:13.596339Z",
     "shell.execute_reply": "2022-12-28T14:20:13.594825Z"
    },
    "papermill": {
     "duration": 1.332862,
     "end_time": "2022-12-28T14:20:13.599130",
     "exception": false,
     "start_time": "2022-12-28T14:20:12.266268",
     "status": "completed"
    },
    "scrolled": true,
    "tags": []
   },
   "outputs": [
    {
     "name": "stdout",
     "output_type": "stream",
     "text": [
      "\n",
      " * Initiating NaNImputer.impute\n",
      "     . Dataset dimensions:\n",
      "     .. rows:         268\n",
      "     .. columns:      19\n",
      "     .. mb in memory: 0.04\n",
      "     .. NaN cols num: 4\n",
      "\n",
      "   - Drop hopeless NaN cols\n",
      "     . Missing values in Surname replaced by \"Missing_data\" string\n",
      "\n",
      "   - Processing whole data for imputation\n",
      "     . Processed 10 cols; 4 to go\n",
      "\n",
      "   - Imputing single core 3 cols\n",
      "     . Imputed (regression) - 55       NaN in Age\n",
      "     . Imputed (multiclass) - 1        NaN in Embarked\n",
      "     . Imputed (multiclass) - 4        NaN in Title\n",
      "\n",
      "   - Missing values after imputation: 0\n",
      "\n",
      "Time elapsed for impute execution: 1.12412 seconds\n",
      "Survived - 0 / 0.0\n",
      "Pclass - 0 / 0.0\n",
      "Name - 0 / 0.0\n",
      "Sex - 0 / 0.0\n",
      "Age - 0 / 0.0\n",
      "SibSp - 0 / 0.0\n",
      "Parch - 0 / 0.0\n",
      "Ticket - 0 / 0.0\n",
      "Fare - 0 / 0.0\n",
      "Cabin - 0 / 0.0\n",
      "Embarked - 0 / 0.0\n",
      "Title - 0 / 0.0\n",
      "Surname - 0 / 0.0\n",
      "SpouseName - 0 / 0.0\n",
      "NameOnly - 0 / 0.0\n",
      "SpouseSurname - 0 / 0.0\n",
      "Deck - 0 / 0.0\n",
      "TicketNumber - 0 / 0.0\n",
      "TicketCode - 0 / 0.0\n",
      "+--------+-------+---------+--------+\n",
      "| Desc   | Var   | Value   | Perc   |\n",
      "|--------+-------+---------+--------|\n",
      "+--------+-------+---------+--------+\n",
      "running round number 1\n",
      "+--------------+------------+------------+--------+------------+\n",
      "| corr_group   | feature1   | feature2   | corr   | abs_corr   |\n",
      "|--------------+------------+------------+--------+------------|\n",
      "+--------------+------------+------------+--------+------------+\n",
      "\n",
      "features to drop: []\n",
      "Age has 59 unique values: clipping values outside [15.0, 57.0]\n",
      "Fare has 135 unique values: clipping values outside [-3.6859499999999983, 65.93594999999999]\n"
     ]
    }
   ],
   "source": [
    "valid_imputed_df, to_drop_valid = preprocess(valid_df, train=False)\n",
    "valid_imputed_df.drop(columns=to_drop_train, axis=1, inplace=True)"
   ]
  },
  {
   "cell_type": "code",
   "execution_count": 11,
   "id": "6e51f657",
   "metadata": {
    "execution": {
     "iopub.execute_input": "2022-12-28T14:20:13.731181Z",
     "iopub.status.busy": "2022-12-28T14:20:13.729655Z",
     "iopub.status.idle": "2022-12-28T14:20:14.998321Z",
     "shell.execute_reply": "2022-12-28T14:20:14.996861Z"
    },
    "papermill": {
     "duration": 1.337599,
     "end_time": "2022-12-28T14:20:15.001363",
     "exception": false,
     "start_time": "2022-12-28T14:20:13.663764",
     "status": "completed"
    },
    "tags": []
   },
   "outputs": [
    {
     "name": "stdout",
     "output_type": "stream",
     "text": [
      "\n",
      " * Initiating NaNImputer.impute\n",
      "     . Dataset dimensions:\n",
      "     .. rows:         418\n",
      "     .. columns:      18\n",
      "     .. mb in memory: 0.06\n",
      "     .. NaN cols num: 3\n",
      "\n",
      "   - Drop hopeless NaN cols\n",
      "\n",
      "   - Processing whole data for imputation\n",
      "     . Processed 10 cols; 5 to go\n",
      "\n",
      "   - Imputing single core 3 cols\n",
      "     . Imputed (regression) - 86       NaN in Age\n",
      "     . Imputed (regression) - 1        NaN in Fare\n",
      "     . Imputed (multiclass) - 1        NaN in Title\n",
      "\n",
      "   - Missing values after imputation: 0\n",
      "\n",
      "Time elapsed for impute execution: 1.11896 seconds\n",
      "Pclass - 0 / 0.0\n",
      "Name - 0 / 0.0\n",
      "Sex - 0 / 0.0\n",
      "Age - 0 / 0.0\n",
      "SibSp - 0 / 0.0\n",
      "Parch - 0 / 0.0\n",
      "Ticket - 0 / 0.0\n",
      "Fare - 0 / 0.0\n",
      "Cabin - 0 / 0.0\n",
      "Embarked - 0 / 0.0\n",
      "Title - 0 / 0.0\n",
      "Surname - 0 / 0.0\n",
      "SpouseName - 0 / 0.0\n",
      "NameOnly - 0 / 0.0\n",
      "SpouseSurname - 0 / 0.0\n",
      "Deck - 0 / 0.0\n",
      "TicketNumber - 0 / 0.0\n",
      "TicketCode - 0 / 0.0\n",
      "+--------+-------+---------+--------+\n",
      "| Desc   | Var   | Value   | Perc   |\n",
      "|--------+-------+---------+--------|\n",
      "+--------+-------+---------+--------+\n",
      "running round number 1\n",
      "+--------------+------------+------------+--------+------------+\n",
      "| corr_group   | feature1   | feature2   | corr   | abs_corr   |\n",
      "|--------------+------------+------------+--------+------------|\n",
      "+--------------+------------+------------+--------+------------+\n",
      "\n",
      "features to drop: []\n",
      "Age has 64 unique values: clipping values outside [15.0, 57.0]\n",
      "Fare has 170 unique values: clipping values outside [-3.8922374999999967, 66.8359875]\n"
     ]
    }
   ],
   "source": [
    "test_imputed_df, to_drop_test = preprocess(test_df, train=False)\n",
    "test_imputed_df.drop(columns=to_drop_train, axis=1, inplace=True)"
   ]
  },
  {
   "cell_type": "code",
   "execution_count": 12,
   "id": "a74028ce",
   "metadata": {
    "execution": {
     "iopub.execute_input": "2022-12-28T14:20:15.136193Z",
     "iopub.status.busy": "2022-12-28T14:20:15.135725Z",
     "iopub.status.idle": "2022-12-28T14:20:15.147767Z",
     "shell.execute_reply": "2022-12-28T14:20:15.146295Z"
    },
    "papermill": {
     "duration": 0.082812,
     "end_time": "2022-12-28T14:20:15.150909",
     "exception": false,
     "start_time": "2022-12-28T14:20:15.068097",
     "status": "completed"
    },
    "tags": []
   },
   "outputs": [],
   "source": [
    "X_train = train_imputed_df.drop(columns=[TARGET], axis=1)\n",
    "y_train = train_imputed_df[[TARGET]]\n",
    "\n",
    "X_valid = valid_imputed_df.drop(columns=[TARGET], axis=1)\n",
    "y_valid = valid_imputed_df[[TARGET]]\n",
    "\n",
    "X_test = test_imputed_df.copy(deep=True)"
   ]
  },
  {
   "cell_type": "code",
   "execution_count": 13,
   "id": "0e2291e8",
   "metadata": {
    "execution": {
     "iopub.execute_input": "2022-12-28T14:20:15.282234Z",
     "iopub.status.busy": "2022-12-28T14:20:15.281519Z",
     "iopub.status.idle": "2022-12-28T14:20:15.335747Z",
     "shell.execute_reply": "2022-12-28T14:20:15.334495Z"
    },
    "papermill": {
     "duration": 0.12346,
     "end_time": "2022-12-28T14:20:15.338810",
     "exception": false,
     "start_time": "2022-12-28T14:20:15.215350",
     "status": "completed"
    },
    "scrolled": true,
    "tags": []
   },
   "outputs": [
    {
     "name": "stdout",
     "output_type": "stream",
     "text": [
      "Starting training...\n",
      "[LightGBM] [Info] Number of positive: 240, number of negative: 383\n",
      "[LightGBM] [Warning] Auto-choosing col-wise multi-threading, the overhead of testing was 0.000302 seconds.\n",
      "You can set `force_col_wise=true` to remove the overhead.\n",
      "[LightGBM] [Info] Total Bins 984\n",
      "[LightGBM] [Info] Number of data points in the train set: 623, number of used features: 18\n",
      "[LightGBM] [Info] [binary:BoostFromScore]: pavg=0.385233 -> initscore=-0.467396\n",
      "[LightGBM] [Info] Start training from score -0.467396\n",
      "[LightGBM] [Warning] No further splits with positive gain, best gain: -inf\n",
      "Training until validation scores don't improve for 5 rounds\n",
      "[LightGBM] [Warning] No further splits with positive gain, best gain: -inf\n",
      "[LightGBM] [Warning] No further splits with positive gain, best gain: -inf\n",
      "[LightGBM] [Warning] No further splits with positive gain, best gain: -inf\n",
      "[LightGBM] [Warning] No further splits with positive gain, best gain: -inf\n",
      "[LightGBM] [Warning] No further splits with positive gain, best gain: -inf\n",
      "[LightGBM] [Warning] No further splits with positive gain, best gain: -inf\n",
      "[LightGBM] [Warning] No further splits with positive gain, best gain: -inf\n",
      "Early stopping, best iteration is:\n",
      "[3]\tvalid_0's auc: 0.868444\n",
      "Saving model...\n",
      "Starting predicting...\n"
     ]
    }
   ],
   "source": [
    "# create dataset for lightgbm\n",
    "dtrain = lgb.Dataset(X_train, y_train)\n",
    "dvalid = lgb.Dataset(X_valid, y_valid)\n",
    "\n",
    "# specify your configurations as a dict\n",
    "\n",
    "params = {\n",
    "    'boosting_type': 'gbdt',\n",
    "    'objective': 'binary',\n",
    "    'metric': 'auc',\n",
    "    'feature_pre_filter': False,\n",
    "    \n",
    "    \n",
    "    'lambda_l1': 2.0613308284770256e-08, \n",
    "    'lambda_l2': 1.2501186755034501e-06,\n",
    "    'num_leaves': 124,\n",
    "    'feature_fraction': 0.8671073372934706,\n",
    "    'bagging_fraction': 0.9418378329425231,\n",
    "    'bagging_freq': 6,\n",
    "    'min_child_samples': 17\n",
    "    \n",
    "}\n",
    "\n",
    "print('Starting training...')\n",
    "# train\n",
    "clf = lgb.train(params,\n",
    "                dtrain,\n",
    "                num_boost_round=20,\n",
    "                valid_sets=dvalid,\n",
    "                callbacks=[lgb.early_stopping(stopping_rounds=5)])\n",
    "\n",
    "print('Saving model...')\n",
    "# save model to file\n",
    "clf.save_model('model.txt')\n",
    "\n",
    "print('Starting predicting...')\n",
    "# predict\n",
    "y_train_pred = clf.predict(X_train, num_iteration=clf.best_iteration)\n",
    "y_valid_pred = clf.predict(X_valid, num_iteration=clf.best_iteration)\n",
    "y_test_pred = clf.predict(X_test, num_iteration=clf.best_iteration)\n",
    "\n",
    "# compute the predicted labels\n",
    "# train set\n",
    "y_train_pred_class = y_train_pred > 0.5\n",
    "y_train_pred_class = y_train_pred_class.astype(int)\n",
    "# validation set\n",
    "y_valid_pred_class = y_valid_pred > 0.5\n",
    "y_valid_pred_class = y_valid_pred_class.astype(int)\n",
    "# test set\n",
    "y_test_pred_class = y_test_pred > 0.5\n",
    "y_test_pred_class = y_test_pred_class.astype(int)"
   ]
  },
  {
   "cell_type": "code",
   "execution_count": 14,
   "id": "16ca8908",
   "metadata": {
    "execution": {
     "iopub.execute_input": "2022-12-28T14:20:15.470730Z",
     "iopub.status.busy": "2022-12-28T14:20:15.469572Z",
     "iopub.status.idle": "2022-12-28T14:20:15.481531Z",
     "shell.execute_reply": "2022-12-28T14:20:15.480497Z"
    },
    "papermill": {
     "duration": 0.080573,
     "end_time": "2022-12-28T14:20:15.484537",
     "exception": false,
     "start_time": "2022-12-28T14:20:15.403964",
     "status": "completed"
    },
    "tags": []
   },
   "outputs": [],
   "source": [
    "from sklearn.ensemble import RandomForestClassifier\n",
    "from sklearn.ensemble import StackingClassifier\n",
    "from sklearn.svm import SVC\n",
    "from sklearn.neighbors import KNeighborsClassifier\n",
    "from sklearn.linear_model import LogisticRegressionCV\n",
    "from lightgbm import LGBMClassifier\n",
    "\n",
    "base_models = [\n",
    "#     ('lightGBM', clf),\n",
    "               ('lightGBM', LGBMClassifier(**{\n",
    "                   'boosting_type': 'gbdt',\n",
    "                   'objective': 'binary',\n",
    "                   'metric': 'auc',\n",
    "                   'feature_pre_filter': False,\n",
    "\n",
    "\n",
    "                   'lambda_l1': 2.0613308284770256e-08, \n",
    "                   'lambda_l2': 1.2501186755034501e-06,\n",
    "                   'num_leaves': 124,\n",
    "                   'feature_fraction': 0.8671073372934706,\n",
    "                   'bagging_fraction': 0.9418378329425231,\n",
    "                   'bagging_freq': 6,\n",
    "                   'min_child_samples': 17\n",
    "               })),\n",
    "               ('random_forest', RandomForestClassifier(n_estimators=50)),\n",
    "               ('svm', SVC()),\n",
    "               ('knn', KNeighborsClassifier(n_neighbors=11))]\n",
    "meta_model = LogisticRegressionCV()\n",
    "stacking_clf = StackingClassifier(estimators=base_models, \n",
    "                                    final_estimator=meta_model, \n",
    "                                    passthrough=True, \n",
    "                                    cv=5,\n",
    "                                    verbose=2)\n"
   ]
  },
  {
   "cell_type": "code",
   "execution_count": 15,
   "id": "14600bd1",
   "metadata": {
    "execution": {
     "iopub.execute_input": "2022-12-28T14:20:15.620589Z",
     "iopub.status.busy": "2022-12-28T14:20:15.619247Z",
     "iopub.status.idle": "2022-12-28T14:20:21.039848Z",
     "shell.execute_reply": "2022-12-28T14:20:21.038212Z"
    },
    "papermill": {
     "duration": 5.494032,
     "end_time": "2022-12-28T14:20:21.045113",
     "exception": false,
     "start_time": "2022-12-28T14:20:15.551081",
     "status": "completed"
    },
    "scrolled": true,
    "tags": []
   },
   "outputs": [
    {
     "name": "stdout",
     "output_type": "stream",
     "text": [
      "[LightGBM] [Warning] lambda_l1 is set=2.0613308284770256e-08, reg_alpha=0.0 will be ignored. Current value: lambda_l1=2.0613308284770256e-08\n",
      "[LightGBM] [Warning] bagging_fraction is set=0.9418378329425231, subsample=1.0 will be ignored. Current value: bagging_fraction=0.9418378329425231\n",
      "[LightGBM] [Warning] lambda_l2 is set=1.2501186755034501e-06, reg_lambda=0.0 will be ignored. Current value: lambda_l2=1.2501186755034501e-06\n",
      "[LightGBM] [Warning] feature_fraction is set=0.8671073372934706, colsample_bytree=1.0 will be ignored. Current value: feature_fraction=0.8671073372934706\n",
      "[LightGBM] [Warning] bagging_freq is set=6, subsample_freq=0 will be ignored. Current value: bagging_freq=6\n"
     ]
    },
    {
     "name": "stderr",
     "output_type": "stream",
     "text": [
      "[Parallel(n_jobs=1)]: Using backend SequentialBackend with 1 concurrent workers.\n",
      "[Parallel(n_jobs=1)]: Done   1 out of   1 | elapsed:    0.1s remaining:    0.0s\n"
     ]
    },
    {
     "name": "stdout",
     "output_type": "stream",
     "text": [
      "[LightGBM] [Warning] lambda_l1 is set=2.0613308284770256e-08, reg_alpha=0.0 will be ignored. Current value: lambda_l1=2.0613308284770256e-08\n",
      "[LightGBM] [Warning] bagging_fraction is set=0.9418378329425231, subsample=1.0 will be ignored. Current value: bagging_fraction=0.9418378329425231\n",
      "[LightGBM] [Warning] lambda_l2 is set=1.2501186755034501e-06, reg_lambda=0.0 will be ignored. Current value: lambda_l2=1.2501186755034501e-06\n",
      "[LightGBM] [Warning] feature_fraction is set=0.8671073372934706, colsample_bytree=1.0 will be ignored. Current value: feature_fraction=0.8671073372934706\n",
      "[LightGBM] [Warning] bagging_freq is set=6, subsample_freq=0 will be ignored. Current value: bagging_freq=6\n",
      "[LightGBM] [Warning] lambda_l1 is set=2.0613308284770256e-08, reg_alpha=0.0 will be ignored. Current value: lambda_l1=2.0613308284770256e-08\n",
      "[LightGBM] [Warning] bagging_fraction is set=0.9418378329425231, subsample=1.0 will be ignored. Current value: bagging_fraction=0.9418378329425231\n",
      "[LightGBM] [Warning] lambda_l2 is set=1.2501186755034501e-06, reg_lambda=0.0 will be ignored. Current value: lambda_l2=1.2501186755034501e-06\n",
      "[LightGBM] [Warning] feature_fraction is set=0.8671073372934706, colsample_bytree=1.0 will be ignored. Current value: feature_fraction=0.8671073372934706\n",
      "[LightGBM] [Warning] bagging_freq is set=6, subsample_freq=0 will be ignored. Current value: bagging_freq=6\n",
      "[LightGBM] [Warning] lambda_l1 is set=2.0613308284770256e-08, reg_alpha=0.0 will be ignored. Current value: lambda_l1=2.0613308284770256e-08\n",
      "[LightGBM] [Warning] bagging_fraction is set=0.9418378329425231, subsample=1.0 will be ignored. Current value: bagging_fraction=0.9418378329425231\n",
      "[LightGBM] [Warning] lambda_l2 is set=1.2501186755034501e-06, reg_lambda=0.0 will be ignored. Current value: lambda_l2=1.2501186755034501e-06\n",
      "[LightGBM] [Warning] feature_fraction is set=0.8671073372934706, colsample_bytree=1.0 will be ignored. Current value: feature_fraction=0.8671073372934706\n",
      "[LightGBM] [Warning] bagging_freq is set=6, subsample_freq=0 will be ignored. Current value: bagging_freq=6\n",
      "[LightGBM] [Warning] lambda_l1 is set=2.0613308284770256e-08, reg_alpha=0.0 will be ignored. Current value: lambda_l1=2.0613308284770256e-08\n",
      "[LightGBM] [Warning] bagging_fraction is set=0.9418378329425231, subsample=1.0 will be ignored. Current value: bagging_fraction=0.9418378329425231\n",
      "[LightGBM] [Warning] lambda_l2 is set=1.2501186755034501e-06, reg_lambda=0.0 will be ignored. Current value: lambda_l2=1.2501186755034501e-06\n",
      "[LightGBM] [Warning] feature_fraction is set=0.8671073372934706, colsample_bytree=1.0 will be ignored. Current value: feature_fraction=0.8671073372934706\n",
      "[LightGBM] [Warning] bagging_freq is set=6, subsample_freq=0 will be ignored. Current value: bagging_freq=6\n"
     ]
    },
    {
     "name": "stderr",
     "output_type": "stream",
     "text": [
      "[Parallel(n_jobs=1)]: Done   5 out of   5 | elapsed:    0.5s finished\n",
      "[Parallel(n_jobs=1)]: Using backend SequentialBackend with 1 concurrent workers.\n",
      "[Parallel(n_jobs=1)]: Done   1 out of   1 | elapsed:    0.1s remaining:    0.0s\n",
      "[Parallel(n_jobs=1)]: Done   5 out of   5 | elapsed:    0.6s finished\n",
      "[Parallel(n_jobs=1)]: Using backend SequentialBackend with 1 concurrent workers.\n",
      "[Parallel(n_jobs=1)]: Done   1 out of   1 | elapsed:    0.0s remaining:    0.0s\n",
      "[Parallel(n_jobs=1)]: Done   5 out of   5 | elapsed:    0.1s finished\n",
      "[Parallel(n_jobs=1)]: Using backend SequentialBackend with 1 concurrent workers.\n",
      "[Parallel(n_jobs=1)]: Done   1 out of   1 | elapsed:    0.0s remaining:    0.0s\n",
      "[Parallel(n_jobs=1)]: Done   5 out of   5 | elapsed:    0.1s finished\n"
     ]
    },
    {
     "data": {
      "text/plain": [
       "StackingClassifier(cv=5,\n",
       "                   estimators=[('lightGBM',\n",
       "                                LGBMClassifier(bagging_fraction=0.9418378329425231,\n",
       "                                               bagging_freq=6,\n",
       "                                               feature_fraction=0.8671073372934706,\n",
       "                                               feature_pre_filter=False,\n",
       "                                               lambda_l1=2.0613308284770256e-08,\n",
       "                                               lambda_l2=1.2501186755034501e-06,\n",
       "                                               metric='auc',\n",
       "                                               min_child_samples=17,\n",
       "                                               num_leaves=124,\n",
       "                                               objective='binary')),\n",
       "                               ('random_forest',\n",
       "                                RandomForestClassifier(n_estimators=50)),\n",
       "                               ('svm', SVC()),\n",
       "                               ('knn', KNeighborsClassifier(n_neighbors=11))],\n",
       "                   final_estimator=LogisticRegressionCV(), passthrough=True,\n",
       "                   verbose=2)"
      ]
     },
     "execution_count": 15,
     "metadata": {},
     "output_type": "execute_result"
    }
   ],
   "source": [
    "stacking_clf.fit(X_train, y_train)"
   ]
  },
  {
   "cell_type": "code",
   "execution_count": 16,
   "id": "56d5d7fc",
   "metadata": {
    "execution": {
     "iopub.execute_input": "2022-12-28T14:20:21.267587Z",
     "iopub.status.busy": "2022-12-28T14:20:21.267169Z",
     "iopub.status.idle": "2022-12-28T14:20:21.347128Z",
     "shell.execute_reply": "2022-12-28T14:20:21.345642Z"
    },
    "papermill": {
     "duration": 0.194838,
     "end_time": "2022-12-28T14:20:21.351645",
     "exception": false,
     "start_time": "2022-12-28T14:20:21.156807",
     "status": "completed"
    },
    "tags": []
   },
   "outputs": [],
   "source": [
    "y_test_pred = stacking_clf.predict(X_test)\n",
    "# test set\n",
    "y_test_pred_class = y_test_pred > 0.5\n",
    "y_test_pred_class = y_test_pred_class.astype(int)"
   ]
  },
  {
   "cell_type": "code",
   "execution_count": 17,
   "id": "b1e540bf",
   "metadata": {
    "execution": {
     "iopub.execute_input": "2022-12-28T14:20:21.571133Z",
     "iopub.status.busy": "2022-12-28T14:20:21.570674Z",
     "iopub.status.idle": "2022-12-28T14:20:21.584611Z",
     "shell.execute_reply": "2022-12-28T14:20:21.583620Z"
    },
    "papermill": {
     "duration": 0.10113,
     "end_time": "2022-12-28T14:20:21.587256",
     "exception": false,
     "start_time": "2022-12-28T14:20:21.486126",
     "status": "completed"
    },
    "tags": []
   },
   "outputs": [],
   "source": [
    "scoring_df = X_test.copy(deep=True)\n",
    "scoring_df['Survived'] = y_test_pred_class\n",
    "scoring_df.reset_index(inplace=True)\n",
    "scoring_df = scoring_df[['PassengerId', 'Survived']]\n",
    "\n",
    "scoring_df.to_csv('output/scoring.csv', index=False)"
   ]
  },
  {
   "cell_type": "code",
   "execution_count": 18,
   "id": "beef403e",
   "metadata": {
    "execution": {
     "iopub.execute_input": "2022-12-28T14:20:21.723124Z",
     "iopub.status.busy": "2022-12-28T14:20:21.722393Z",
     "iopub.status.idle": "2022-12-28T14:20:21.729000Z",
     "shell.execute_reply": "2022-12-28T14:20:21.727868Z"
    },
    "papermill": {
     "duration": 0.075672,
     "end_time": "2022-12-28T14:20:21.731980",
     "exception": false,
     "start_time": "2022-12-28T14:20:21.656308",
     "status": "completed"
    },
    "tags": []
   },
   "outputs": [],
   "source": [
    "rkf = RepeatedKFold(n_splits=5, n_repeats=10, random_state=random_seed)\n",
    "tmp_best_params = {\n",
    "    \"objective\": \"binary\",\n",
    "    \"metric\": \"binary_error\",\n",
    "    \"verbosity\": -1,\n",
    "    \"boosting_type\": \"gbdt\",                \n",
    "    \"seed\": random_seed,\n",
    "    'feature_pre_filter': False,\n",
    "    \n",
    "    \n",
    "    'lambda_l1': 0.012277548072934017,\n",
    "    'lambda_l2': 0.12761375962313365,\n",
    "    'num_leaves': 191,\n",
    "    'feature_fraction': 0.612083319277447,\n",
    "    'bagging_fraction': 0.6956054006849886,\n",
    "    'bagging_freq': 0,\n",
    "    'min_child_samples': 19\n",
    "}\n",
    "\n",
    "best_score = 0.0"
   ]
  },
  {
   "cell_type": "code",
   "execution_count": 19,
   "id": "466f473c",
   "metadata": {
    "execution": {
     "iopub.execute_input": "2022-12-28T14:20:21.863447Z",
     "iopub.status.busy": "2022-12-28T14:20:21.862974Z",
     "iopub.status.idle": "2022-12-28T14:22:37.128335Z",
     "shell.execute_reply": "2022-12-28T14:22:37.126484Z"
    },
    "papermill": {
     "duration": 135.335717,
     "end_time": "2022-12-28T14:22:37.131766",
     "exception": false,
     "start_time": "2022-12-28T14:20:21.796049",
     "status": "completed"
    },
    "scrolled": true,
    "tags": []
   },
   "outputs": [],
   "source": [
    "# Declare how we evaluate how good a set of hyperparameters are, i.e.\n",
    "# declare an objective function.\n",
    "def objective(trial):\n",
    "    # Specify a search space using distributions across plausible values of hyperparameters.\n",
    "    param = {\n",
    "        \"objective\": \"binary\",\n",
    "        \"metric\": \"binary_error\",\n",
    "        \"verbosity\": -1,\n",
    "        \"boosting_type\": \"gbdt\",                \n",
    "        \"seed\": random_seed,\n",
    "        'feature_pre_filter': False,\n",
    "        \n",
    "        'lambda_l1': trial.suggest_loguniform('lambda_l1', 1e-8, 10.0),\n",
    "        'lambda_l2': trial.suggest_loguniform('lambda_l2', 1e-8, 10.0),\n",
    "        'num_leaves': trial.suggest_int('num_leaves', 2, 512),\n",
    "        'feature_fraction': trial.suggest_uniform('feature_fraction', 0.1, 1.0),\n",
    "        'bagging_fraction': trial.suggest_uniform('bagging_fraction', 0.1, 1.0),\n",
    "        'bagging_freq': trial.suggest_int('bagging_freq', 0, 15),\n",
    "        'min_child_samples': trial.suggest_int('min_child_samples', 1, 100),\n",
    "    }\n",
    "    \n",
    "    # Run LightGBM for the hyperparameter values\n",
    "    lgbcv = lgb.cv(param,\n",
    "                   dtrain,\n",
    "#                    categorical_feature=ids_of_categorical,\n",
    "                   folds=rkf,\n",
    "                   verbose_eval=False,                   \n",
    "                   early_stopping_rounds=250,                   \n",
    "                   num_boost_round=10000,                    \n",
    "                   callbacks=[lgb.reset_parameter(learning_rate = [0.005]*200 + [0.001]*9800) ]\n",
    "                  )\n",
    "    \n",
    "    cv_score = lgbcv['binary_error-mean'][-1] + lgbcv['binary_error-stdv'][-1]\n",
    "    if cv_score < best_score:\n",
    "        training_rounds = len( list(lgbcv.values())[0] )\n",
    "    \n",
    "    # Return metric of interest\n",
    "    return cv_score\n",
    "\n",
    "# Suppress information only outputs - otherwise optuna is \n",
    "# quite verbose, which can be nice, but takes up a lot of space\n",
    "optuna.logging.set_verbosity(optuna.logging.WARNING) \n",
    "\n",
    "# We search for another 4 hours (3600 s are an hours, so timeout=14400).\n",
    "# We could instead do e.g. n_trials=1000, to try 1000 hyperparameters chosen \n",
    "# by optuna or set neither timeout or n_trials so that we keep going until \n",
    "# the user interrupts (\"Cancel run\").\n",
    "study = optuna.create_study(direction='minimize')  \n",
    "study.enqueue_trial(tmp_best_params)\n",
    "study.optimize(objective, n_trials=10, timeout=14400) "
   ]
  },
  {
   "cell_type": "code",
   "execution_count": 20,
   "id": "98184247",
   "metadata": {
    "execution": {
     "iopub.execute_input": "2022-12-28T14:22:37.264527Z",
     "iopub.status.busy": "2022-12-28T14:22:37.264062Z",
     "iopub.status.idle": "2022-12-28T14:22:37.555371Z",
     "shell.execute_reply": "2022-12-28T14:22:37.554441Z"
    },
    "papermill": {
     "duration": 0.361645,
     "end_time": "2022-12-28T14:22:37.558070",
     "exception": false,
     "start_time": "2022-12-28T14:22:37.196425",
     "status": "completed"
    },
    "tags": []
   },
   "outputs": [
    {
     "data": {
      "text/html": [
       "        <script type=\"text/javascript\">\n",
       "        window.PlotlyConfig = {MathJaxConfig: 'local'};\n",
       "        if (window.MathJax && window.MathJax.Hub && window.MathJax.Hub.Config) {window.MathJax.Hub.Config({SVG: {font: \"STIX-Web\"}});}\n",
       "        if (typeof require !== 'undefined') {\n",
       "        require.undef(\"plotly\");\n",
       "        requirejs.config({\n",
       "            paths: {\n",
       "                'plotly': ['https://cdn.plot.ly/plotly-2.14.0.min']\n",
       "            }\n",
       "        });\n",
       "        require(['plotly'], function(Plotly) {\n",
       "            window._Plotly = Plotly;\n",
       "        });\n",
       "        }\n",
       "        </script>\n",
       "        "
      ]
     },
     "metadata": {},
     "output_type": "display_data"
    },
    {
     "data": {
      "text/html": [
       "<div>                            <div id=\"4c8271e3-198e-4a18-a342-cebcdb2e6271\" class=\"plotly-graph-div\" style=\"height:525px; width:100%;\"></div>            <script type=\"text/javascript\">                require([\"plotly\"], function(Plotly) {                    window.PLOTLYENV=window.PLOTLYENV || {};                                    if (document.getElementById(\"4c8271e3-198e-4a18-a342-cebcdb2e6271\")) {                    Plotly.newPlot(                        \"4c8271e3-198e-4a18-a342-cebcdb2e6271\",                        [{\"mode\":\"markers\",\"name\":\"Objective Value\",\"x\":[0,1,2,3,4,5,6,7,8,9],\"y\":[0.2179790030999878,0.2786762773196948,0.22848126352040232,0.42898802421941057,0.22389291790283317,0.2575249134221547,0.27030946050446725,0.24007461280164688,0.42898802421941057,0.42898802421941057],\"type\":\"scatter\"},{\"name\":\"Best Value\",\"x\":[0,1,2,3,4,5,6,7,8,9],\"y\":[0.2179790030999878,0.2179790030999878,0.2179790030999878,0.2179790030999878,0.2179790030999878,0.2179790030999878,0.2179790030999878,0.2179790030999878,0.2179790030999878,0.2179790030999878],\"type\":\"scatter\"}],                        {\"title\":{\"text\":\"Optimization History Plot\"},\"xaxis\":{\"title\":{\"text\":\"Trial\"}},\"yaxis\":{\"title\":{\"text\":\"Objective Value\"}},\"template\":{\"data\":{\"histogram2dcontour\":[{\"type\":\"histogram2dcontour\",\"colorbar\":{\"outlinewidth\":0,\"ticks\":\"\"},\"colorscale\":[[0.0,\"#0d0887\"],[0.1111111111111111,\"#46039f\"],[0.2222222222222222,\"#7201a8\"],[0.3333333333333333,\"#9c179e\"],[0.4444444444444444,\"#bd3786\"],[0.5555555555555556,\"#d8576b\"],[0.6666666666666666,\"#ed7953\"],[0.7777777777777778,\"#fb9f3a\"],[0.8888888888888888,\"#fdca26\"],[1.0,\"#f0f921\"]]}],\"choropleth\":[{\"type\":\"choropleth\",\"colorbar\":{\"outlinewidth\":0,\"ticks\":\"\"}}],\"histogram2d\":[{\"type\":\"histogram2d\",\"colorbar\":{\"outlinewidth\":0,\"ticks\":\"\"},\"colorscale\":[[0.0,\"#0d0887\"],[0.1111111111111111,\"#46039f\"],[0.2222222222222222,\"#7201a8\"],[0.3333333333333333,\"#9c179e\"],[0.4444444444444444,\"#bd3786\"],[0.5555555555555556,\"#d8576b\"],[0.6666666666666666,\"#ed7953\"],[0.7777777777777778,\"#fb9f3a\"],[0.8888888888888888,\"#fdca26\"],[1.0,\"#f0f921\"]]}],\"heatmap\":[{\"type\":\"heatmap\",\"colorbar\":{\"outlinewidth\":0,\"ticks\":\"\"},\"colorscale\":[[0.0,\"#0d0887\"],[0.1111111111111111,\"#46039f\"],[0.2222222222222222,\"#7201a8\"],[0.3333333333333333,\"#9c179e\"],[0.4444444444444444,\"#bd3786\"],[0.5555555555555556,\"#d8576b\"],[0.6666666666666666,\"#ed7953\"],[0.7777777777777778,\"#fb9f3a\"],[0.8888888888888888,\"#fdca26\"],[1.0,\"#f0f921\"]]}],\"heatmapgl\":[{\"type\":\"heatmapgl\",\"colorbar\":{\"outlinewidth\":0,\"ticks\":\"\"},\"colorscale\":[[0.0,\"#0d0887\"],[0.1111111111111111,\"#46039f\"],[0.2222222222222222,\"#7201a8\"],[0.3333333333333333,\"#9c179e\"],[0.4444444444444444,\"#bd3786\"],[0.5555555555555556,\"#d8576b\"],[0.6666666666666666,\"#ed7953\"],[0.7777777777777778,\"#fb9f3a\"],[0.8888888888888888,\"#fdca26\"],[1.0,\"#f0f921\"]]}],\"contourcarpet\":[{\"type\":\"contourcarpet\",\"colorbar\":{\"outlinewidth\":0,\"ticks\":\"\"}}],\"contour\":[{\"type\":\"contour\",\"colorbar\":{\"outlinewidth\":0,\"ticks\":\"\"},\"colorscale\":[[0.0,\"#0d0887\"],[0.1111111111111111,\"#46039f\"],[0.2222222222222222,\"#7201a8\"],[0.3333333333333333,\"#9c179e\"],[0.4444444444444444,\"#bd3786\"],[0.5555555555555556,\"#d8576b\"],[0.6666666666666666,\"#ed7953\"],[0.7777777777777778,\"#fb9f3a\"],[0.8888888888888888,\"#fdca26\"],[1.0,\"#f0f921\"]]}],\"surface\":[{\"type\":\"surface\",\"colorbar\":{\"outlinewidth\":0,\"ticks\":\"\"},\"colorscale\":[[0.0,\"#0d0887\"],[0.1111111111111111,\"#46039f\"],[0.2222222222222222,\"#7201a8\"],[0.3333333333333333,\"#9c179e\"],[0.4444444444444444,\"#bd3786\"],[0.5555555555555556,\"#d8576b\"],[0.6666666666666666,\"#ed7953\"],[0.7777777777777778,\"#fb9f3a\"],[0.8888888888888888,\"#fdca26\"],[1.0,\"#f0f921\"]]}],\"mesh3d\":[{\"type\":\"mesh3d\",\"colorbar\":{\"outlinewidth\":0,\"ticks\":\"\"}}],\"scatter\":[{\"fillpattern\":{\"fillmode\":\"overlay\",\"size\":10,\"solidity\":0.2},\"type\":\"scatter\"}],\"parcoords\":[{\"type\":\"parcoords\",\"line\":{\"colorbar\":{\"outlinewidth\":0,\"ticks\":\"\"}}}],\"scatterpolargl\":[{\"type\":\"scatterpolargl\",\"marker\":{\"colorbar\":{\"outlinewidth\":0,\"ticks\":\"\"}}}],\"bar\":[{\"error_x\":{\"color\":\"#2a3f5f\"},\"error_y\":{\"color\":\"#2a3f5f\"},\"marker\":{\"line\":{\"color\":\"#E5ECF6\",\"width\":0.5},\"pattern\":{\"fillmode\":\"overlay\",\"size\":10,\"solidity\":0.2}},\"type\":\"bar\"}],\"scattergeo\":[{\"type\":\"scattergeo\",\"marker\":{\"colorbar\":{\"outlinewidth\":0,\"ticks\":\"\"}}}],\"scatterpolar\":[{\"type\":\"scatterpolar\",\"marker\":{\"colorbar\":{\"outlinewidth\":0,\"ticks\":\"\"}}}],\"histogram\":[{\"marker\":{\"pattern\":{\"fillmode\":\"overlay\",\"size\":10,\"solidity\":0.2}},\"type\":\"histogram\"}],\"scattergl\":[{\"type\":\"scattergl\",\"marker\":{\"colorbar\":{\"outlinewidth\":0,\"ticks\":\"\"}}}],\"scatter3d\":[{\"type\":\"scatter3d\",\"line\":{\"colorbar\":{\"outlinewidth\":0,\"ticks\":\"\"}},\"marker\":{\"colorbar\":{\"outlinewidth\":0,\"ticks\":\"\"}}}],\"scattermapbox\":[{\"type\":\"scattermapbox\",\"marker\":{\"colorbar\":{\"outlinewidth\":0,\"ticks\":\"\"}}}],\"scatterternary\":[{\"type\":\"scatterternary\",\"marker\":{\"colorbar\":{\"outlinewidth\":0,\"ticks\":\"\"}}}],\"scattercarpet\":[{\"type\":\"scattercarpet\",\"marker\":{\"colorbar\":{\"outlinewidth\":0,\"ticks\":\"\"}}}],\"carpet\":[{\"aaxis\":{\"endlinecolor\":\"#2a3f5f\",\"gridcolor\":\"white\",\"linecolor\":\"white\",\"minorgridcolor\":\"white\",\"startlinecolor\":\"#2a3f5f\"},\"baxis\":{\"endlinecolor\":\"#2a3f5f\",\"gridcolor\":\"white\",\"linecolor\":\"white\",\"minorgridcolor\":\"white\",\"startlinecolor\":\"#2a3f5f\"},\"type\":\"carpet\"}],\"table\":[{\"cells\":{\"fill\":{\"color\":\"#EBF0F8\"},\"line\":{\"color\":\"white\"}},\"header\":{\"fill\":{\"color\":\"#C8D4E3\"},\"line\":{\"color\":\"white\"}},\"type\":\"table\"}],\"barpolar\":[{\"marker\":{\"line\":{\"color\":\"#E5ECF6\",\"width\":0.5},\"pattern\":{\"fillmode\":\"overlay\",\"size\":10,\"solidity\":0.2}},\"type\":\"barpolar\"}],\"pie\":[{\"automargin\":true,\"type\":\"pie\"}]},\"layout\":{\"autotypenumbers\":\"strict\",\"colorway\":[\"#636efa\",\"#EF553B\",\"#00cc96\",\"#ab63fa\",\"#FFA15A\",\"#19d3f3\",\"#FF6692\",\"#B6E880\",\"#FF97FF\",\"#FECB52\"],\"font\":{\"color\":\"#2a3f5f\"},\"hovermode\":\"closest\",\"hoverlabel\":{\"align\":\"left\"},\"paper_bgcolor\":\"white\",\"plot_bgcolor\":\"#E5ECF6\",\"polar\":{\"bgcolor\":\"#E5ECF6\",\"angularaxis\":{\"gridcolor\":\"white\",\"linecolor\":\"white\",\"ticks\":\"\"},\"radialaxis\":{\"gridcolor\":\"white\",\"linecolor\":\"white\",\"ticks\":\"\"}},\"ternary\":{\"bgcolor\":\"#E5ECF6\",\"aaxis\":{\"gridcolor\":\"white\",\"linecolor\":\"white\",\"ticks\":\"\"},\"baxis\":{\"gridcolor\":\"white\",\"linecolor\":\"white\",\"ticks\":\"\"},\"caxis\":{\"gridcolor\":\"white\",\"linecolor\":\"white\",\"ticks\":\"\"}},\"coloraxis\":{\"colorbar\":{\"outlinewidth\":0,\"ticks\":\"\"}},\"colorscale\":{\"sequential\":[[0.0,\"#0d0887\"],[0.1111111111111111,\"#46039f\"],[0.2222222222222222,\"#7201a8\"],[0.3333333333333333,\"#9c179e\"],[0.4444444444444444,\"#bd3786\"],[0.5555555555555556,\"#d8576b\"],[0.6666666666666666,\"#ed7953\"],[0.7777777777777778,\"#fb9f3a\"],[0.8888888888888888,\"#fdca26\"],[1.0,\"#f0f921\"]],\"sequentialminus\":[[0.0,\"#0d0887\"],[0.1111111111111111,\"#46039f\"],[0.2222222222222222,\"#7201a8\"],[0.3333333333333333,\"#9c179e\"],[0.4444444444444444,\"#bd3786\"],[0.5555555555555556,\"#d8576b\"],[0.6666666666666666,\"#ed7953\"],[0.7777777777777778,\"#fb9f3a\"],[0.8888888888888888,\"#fdca26\"],[1.0,\"#f0f921\"]],\"diverging\":[[0,\"#8e0152\"],[0.1,\"#c51b7d\"],[0.2,\"#de77ae\"],[0.3,\"#f1b6da\"],[0.4,\"#fde0ef\"],[0.5,\"#f7f7f7\"],[0.6,\"#e6f5d0\"],[0.7,\"#b8e186\"],[0.8,\"#7fbc41\"],[0.9,\"#4d9221\"],[1,\"#276419\"]]},\"xaxis\":{\"gridcolor\":\"white\",\"linecolor\":\"white\",\"ticks\":\"\",\"title\":{\"standoff\":15},\"zerolinecolor\":\"white\",\"automargin\":true,\"zerolinewidth\":2},\"yaxis\":{\"gridcolor\":\"white\",\"linecolor\":\"white\",\"ticks\":\"\",\"title\":{\"standoff\":15},\"zerolinecolor\":\"white\",\"automargin\":true,\"zerolinewidth\":2},\"scene\":{\"xaxis\":{\"backgroundcolor\":\"#E5ECF6\",\"gridcolor\":\"white\",\"linecolor\":\"white\",\"showbackground\":true,\"ticks\":\"\",\"zerolinecolor\":\"white\",\"gridwidth\":2},\"yaxis\":{\"backgroundcolor\":\"#E5ECF6\",\"gridcolor\":\"white\",\"linecolor\":\"white\",\"showbackground\":true,\"ticks\":\"\",\"zerolinecolor\":\"white\",\"gridwidth\":2},\"zaxis\":{\"backgroundcolor\":\"#E5ECF6\",\"gridcolor\":\"white\",\"linecolor\":\"white\",\"showbackground\":true,\"ticks\":\"\",\"zerolinecolor\":\"white\",\"gridwidth\":2}},\"shapedefaults\":{\"line\":{\"color\":\"#2a3f5f\"}},\"annotationdefaults\":{\"arrowcolor\":\"#2a3f5f\",\"arrowhead\":0,\"arrowwidth\":1},\"geo\":{\"bgcolor\":\"white\",\"landcolor\":\"#E5ECF6\",\"subunitcolor\":\"white\",\"showland\":true,\"showlakes\":true,\"lakecolor\":\"white\"},\"title\":{\"x\":0.05},\"mapbox\":{\"style\":\"light\"}}}},                        {\"responsive\": true}                    ).then(function(){\n",
       "                            \n",
       "var gd = document.getElementById('4c8271e3-198e-4a18-a342-cebcdb2e6271');\n",
       "var x = new MutationObserver(function (mutations, observer) {{\n",
       "        var display = window.getComputedStyle(gd).display;\n",
       "        if (!display || display === 'none') {{\n",
       "            console.log([gd, 'removed!']);\n",
       "            Plotly.purge(gd);\n",
       "            observer.disconnect();\n",
       "        }}\n",
       "}});\n",
       "\n",
       "// Listen for the removal of the full notebook cells\n",
       "var notebookContainer = gd.closest('#notebook-container');\n",
       "if (notebookContainer) {{\n",
       "    x.observe(notebookContainer, {childList: true});\n",
       "}}\n",
       "\n",
       "// Listen for the clearing of the current output cell\n",
       "var outputEl = gd.closest('.output');\n",
       "if (outputEl) {{\n",
       "    x.observe(outputEl, {childList: true});\n",
       "}}\n",
       "\n",
       "                        })                };                });            </script>        </div>"
      ]
     },
     "metadata": {},
     "output_type": "display_data"
    }
   ],
   "source": [
    "optuna.visualization.plot_optimization_history(study)"
   ]
  },
  {
   "cell_type": "code",
   "execution_count": 21,
   "id": "c04708ea",
   "metadata": {
    "execution": {
     "iopub.execute_input": "2022-12-28T14:22:37.698448Z",
     "iopub.status.busy": "2022-12-28T14:22:37.697333Z",
     "iopub.status.idle": "2022-12-28T14:22:38.019061Z",
     "shell.execute_reply": "2022-12-28T14:22:38.017666Z"
    },
    "papermill": {
     "duration": 0.395276,
     "end_time": "2022-12-28T14:22:38.021626",
     "exception": false,
     "start_time": "2022-12-28T14:22:37.626350",
     "status": "completed"
    },
    "tags": []
   },
   "outputs": [
    {
     "data": {
      "text/html": [
       "<div>                            <div id=\"110f94de-00cc-4fce-ae59-eea3df02ad55\" class=\"plotly-graph-div\" style=\"height:525px; width:100%;\"></div>            <script type=\"text/javascript\">                require([\"plotly\"], function(Plotly) {                    window.PLOTLYENV=window.PLOTLYENV || {};                                    if (document.getElementById(\"110f94de-00cc-4fce-ae59-eea3df02ad55\")) {                    Plotly.newPlot(                        \"110f94de-00cc-4fce-ae59-eea3df02ad55\",                        [{\"cliponaxis\":false,\"hovertemplate\":[\"lambda_l1 (FloatDistribution): 0.01573113442135652<extra></extra>\",\"bagging_freq (IntDistribution): 0.030659912576238256<extra></extra>\",\"feature_fraction (FloatDistribution): 0.048840681241821456<extra></extra>\",\"lambda_l2 (FloatDistribution): 0.06269686662052243<extra></extra>\",\"num_leaves (IntDistribution): 0.0659035677024052<extra></extra>\",\"min_child_samples (IntDistribution): 0.16259250860395674<extra></extra>\",\"bagging_fraction (FloatDistribution): 0.6135753288336994<extra></extra>\"],\"marker\":{\"color\":\"rgb(66,146,198)\"},\"orientation\":\"h\",\"text\":[\"0.02\",\"0.03\",\"0.05\",\"0.06\",\"0.07\",\"0.16\",\"0.61\"],\"textposition\":\"outside\",\"x\":[0.01573113442135652,0.030659912576238256,0.048840681241821456,0.06269686662052243,0.0659035677024052,0.16259250860395674,0.6135753288336994],\"y\":[\"lambda_l1\",\"bagging_freq\",\"feature_fraction\",\"lambda_l2\",\"num_leaves\",\"min_child_samples\",\"bagging_fraction\"],\"type\":\"bar\"}],                        {\"showlegend\":false,\"title\":{\"text\":\"Hyperparameter Importances\"},\"xaxis\":{\"title\":{\"text\":\"Importance for Objective Value\"}},\"yaxis\":{\"title\":{\"text\":\"Hyperparameter\"}},\"template\":{\"data\":{\"histogram2dcontour\":[{\"type\":\"histogram2dcontour\",\"colorbar\":{\"outlinewidth\":0,\"ticks\":\"\"},\"colorscale\":[[0.0,\"#0d0887\"],[0.1111111111111111,\"#46039f\"],[0.2222222222222222,\"#7201a8\"],[0.3333333333333333,\"#9c179e\"],[0.4444444444444444,\"#bd3786\"],[0.5555555555555556,\"#d8576b\"],[0.6666666666666666,\"#ed7953\"],[0.7777777777777778,\"#fb9f3a\"],[0.8888888888888888,\"#fdca26\"],[1.0,\"#f0f921\"]]}],\"choropleth\":[{\"type\":\"choropleth\",\"colorbar\":{\"outlinewidth\":0,\"ticks\":\"\"}}],\"histogram2d\":[{\"type\":\"histogram2d\",\"colorbar\":{\"outlinewidth\":0,\"ticks\":\"\"},\"colorscale\":[[0.0,\"#0d0887\"],[0.1111111111111111,\"#46039f\"],[0.2222222222222222,\"#7201a8\"],[0.3333333333333333,\"#9c179e\"],[0.4444444444444444,\"#bd3786\"],[0.5555555555555556,\"#d8576b\"],[0.6666666666666666,\"#ed7953\"],[0.7777777777777778,\"#fb9f3a\"],[0.8888888888888888,\"#fdca26\"],[1.0,\"#f0f921\"]]}],\"heatmap\":[{\"type\":\"heatmap\",\"colorbar\":{\"outlinewidth\":0,\"ticks\":\"\"},\"colorscale\":[[0.0,\"#0d0887\"],[0.1111111111111111,\"#46039f\"],[0.2222222222222222,\"#7201a8\"],[0.3333333333333333,\"#9c179e\"],[0.4444444444444444,\"#bd3786\"],[0.5555555555555556,\"#d8576b\"],[0.6666666666666666,\"#ed7953\"],[0.7777777777777778,\"#fb9f3a\"],[0.8888888888888888,\"#fdca26\"],[1.0,\"#f0f921\"]]}],\"heatmapgl\":[{\"type\":\"heatmapgl\",\"colorbar\":{\"outlinewidth\":0,\"ticks\":\"\"},\"colorscale\":[[0.0,\"#0d0887\"],[0.1111111111111111,\"#46039f\"],[0.2222222222222222,\"#7201a8\"],[0.3333333333333333,\"#9c179e\"],[0.4444444444444444,\"#bd3786\"],[0.5555555555555556,\"#d8576b\"],[0.6666666666666666,\"#ed7953\"],[0.7777777777777778,\"#fb9f3a\"],[0.8888888888888888,\"#fdca26\"],[1.0,\"#f0f921\"]]}],\"contourcarpet\":[{\"type\":\"contourcarpet\",\"colorbar\":{\"outlinewidth\":0,\"ticks\":\"\"}}],\"contour\":[{\"type\":\"contour\",\"colorbar\":{\"outlinewidth\":0,\"ticks\":\"\"},\"colorscale\":[[0.0,\"#0d0887\"],[0.1111111111111111,\"#46039f\"],[0.2222222222222222,\"#7201a8\"],[0.3333333333333333,\"#9c179e\"],[0.4444444444444444,\"#bd3786\"],[0.5555555555555556,\"#d8576b\"],[0.6666666666666666,\"#ed7953\"],[0.7777777777777778,\"#fb9f3a\"],[0.8888888888888888,\"#fdca26\"],[1.0,\"#f0f921\"]]}],\"surface\":[{\"type\":\"surface\",\"colorbar\":{\"outlinewidth\":0,\"ticks\":\"\"},\"colorscale\":[[0.0,\"#0d0887\"],[0.1111111111111111,\"#46039f\"],[0.2222222222222222,\"#7201a8\"],[0.3333333333333333,\"#9c179e\"],[0.4444444444444444,\"#bd3786\"],[0.5555555555555556,\"#d8576b\"],[0.6666666666666666,\"#ed7953\"],[0.7777777777777778,\"#fb9f3a\"],[0.8888888888888888,\"#fdca26\"],[1.0,\"#f0f921\"]]}],\"mesh3d\":[{\"type\":\"mesh3d\",\"colorbar\":{\"outlinewidth\":0,\"ticks\":\"\"}}],\"scatter\":[{\"fillpattern\":{\"fillmode\":\"overlay\",\"size\":10,\"solidity\":0.2},\"type\":\"scatter\"}],\"parcoords\":[{\"type\":\"parcoords\",\"line\":{\"colorbar\":{\"outlinewidth\":0,\"ticks\":\"\"}}}],\"scatterpolargl\":[{\"type\":\"scatterpolargl\",\"marker\":{\"colorbar\":{\"outlinewidth\":0,\"ticks\":\"\"}}}],\"bar\":[{\"error_x\":{\"color\":\"#2a3f5f\"},\"error_y\":{\"color\":\"#2a3f5f\"},\"marker\":{\"line\":{\"color\":\"#E5ECF6\",\"width\":0.5},\"pattern\":{\"fillmode\":\"overlay\",\"size\":10,\"solidity\":0.2}},\"type\":\"bar\"}],\"scattergeo\":[{\"type\":\"scattergeo\",\"marker\":{\"colorbar\":{\"outlinewidth\":0,\"ticks\":\"\"}}}],\"scatterpolar\":[{\"type\":\"scatterpolar\",\"marker\":{\"colorbar\":{\"outlinewidth\":0,\"ticks\":\"\"}}}],\"histogram\":[{\"marker\":{\"pattern\":{\"fillmode\":\"overlay\",\"size\":10,\"solidity\":0.2}},\"type\":\"histogram\"}],\"scattergl\":[{\"type\":\"scattergl\",\"marker\":{\"colorbar\":{\"outlinewidth\":0,\"ticks\":\"\"}}}],\"scatter3d\":[{\"type\":\"scatter3d\",\"line\":{\"colorbar\":{\"outlinewidth\":0,\"ticks\":\"\"}},\"marker\":{\"colorbar\":{\"outlinewidth\":0,\"ticks\":\"\"}}}],\"scattermapbox\":[{\"type\":\"scattermapbox\",\"marker\":{\"colorbar\":{\"outlinewidth\":0,\"ticks\":\"\"}}}],\"scatterternary\":[{\"type\":\"scatterternary\",\"marker\":{\"colorbar\":{\"outlinewidth\":0,\"ticks\":\"\"}}}],\"scattercarpet\":[{\"type\":\"scattercarpet\",\"marker\":{\"colorbar\":{\"outlinewidth\":0,\"ticks\":\"\"}}}],\"carpet\":[{\"aaxis\":{\"endlinecolor\":\"#2a3f5f\",\"gridcolor\":\"white\",\"linecolor\":\"white\",\"minorgridcolor\":\"white\",\"startlinecolor\":\"#2a3f5f\"},\"baxis\":{\"endlinecolor\":\"#2a3f5f\",\"gridcolor\":\"white\",\"linecolor\":\"white\",\"minorgridcolor\":\"white\",\"startlinecolor\":\"#2a3f5f\"},\"type\":\"carpet\"}],\"table\":[{\"cells\":{\"fill\":{\"color\":\"#EBF0F8\"},\"line\":{\"color\":\"white\"}},\"header\":{\"fill\":{\"color\":\"#C8D4E3\"},\"line\":{\"color\":\"white\"}},\"type\":\"table\"}],\"barpolar\":[{\"marker\":{\"line\":{\"color\":\"#E5ECF6\",\"width\":0.5},\"pattern\":{\"fillmode\":\"overlay\",\"size\":10,\"solidity\":0.2}},\"type\":\"barpolar\"}],\"pie\":[{\"automargin\":true,\"type\":\"pie\"}]},\"layout\":{\"autotypenumbers\":\"strict\",\"colorway\":[\"#636efa\",\"#EF553B\",\"#00cc96\",\"#ab63fa\",\"#FFA15A\",\"#19d3f3\",\"#FF6692\",\"#B6E880\",\"#FF97FF\",\"#FECB52\"],\"font\":{\"color\":\"#2a3f5f\"},\"hovermode\":\"closest\",\"hoverlabel\":{\"align\":\"left\"},\"paper_bgcolor\":\"white\",\"plot_bgcolor\":\"#E5ECF6\",\"polar\":{\"bgcolor\":\"#E5ECF6\",\"angularaxis\":{\"gridcolor\":\"white\",\"linecolor\":\"white\",\"ticks\":\"\"},\"radialaxis\":{\"gridcolor\":\"white\",\"linecolor\":\"white\",\"ticks\":\"\"}},\"ternary\":{\"bgcolor\":\"#E5ECF6\",\"aaxis\":{\"gridcolor\":\"white\",\"linecolor\":\"white\",\"ticks\":\"\"},\"baxis\":{\"gridcolor\":\"white\",\"linecolor\":\"white\",\"ticks\":\"\"},\"caxis\":{\"gridcolor\":\"white\",\"linecolor\":\"white\",\"ticks\":\"\"}},\"coloraxis\":{\"colorbar\":{\"outlinewidth\":0,\"ticks\":\"\"}},\"colorscale\":{\"sequential\":[[0.0,\"#0d0887\"],[0.1111111111111111,\"#46039f\"],[0.2222222222222222,\"#7201a8\"],[0.3333333333333333,\"#9c179e\"],[0.4444444444444444,\"#bd3786\"],[0.5555555555555556,\"#d8576b\"],[0.6666666666666666,\"#ed7953\"],[0.7777777777777778,\"#fb9f3a\"],[0.8888888888888888,\"#fdca26\"],[1.0,\"#f0f921\"]],\"sequentialminus\":[[0.0,\"#0d0887\"],[0.1111111111111111,\"#46039f\"],[0.2222222222222222,\"#7201a8\"],[0.3333333333333333,\"#9c179e\"],[0.4444444444444444,\"#bd3786\"],[0.5555555555555556,\"#d8576b\"],[0.6666666666666666,\"#ed7953\"],[0.7777777777777778,\"#fb9f3a\"],[0.8888888888888888,\"#fdca26\"],[1.0,\"#f0f921\"]],\"diverging\":[[0,\"#8e0152\"],[0.1,\"#c51b7d\"],[0.2,\"#de77ae\"],[0.3,\"#f1b6da\"],[0.4,\"#fde0ef\"],[0.5,\"#f7f7f7\"],[0.6,\"#e6f5d0\"],[0.7,\"#b8e186\"],[0.8,\"#7fbc41\"],[0.9,\"#4d9221\"],[1,\"#276419\"]]},\"xaxis\":{\"gridcolor\":\"white\",\"linecolor\":\"white\",\"ticks\":\"\",\"title\":{\"standoff\":15},\"zerolinecolor\":\"white\",\"automargin\":true,\"zerolinewidth\":2},\"yaxis\":{\"gridcolor\":\"white\",\"linecolor\":\"white\",\"ticks\":\"\",\"title\":{\"standoff\":15},\"zerolinecolor\":\"white\",\"automargin\":true,\"zerolinewidth\":2},\"scene\":{\"xaxis\":{\"backgroundcolor\":\"#E5ECF6\",\"gridcolor\":\"white\",\"linecolor\":\"white\",\"showbackground\":true,\"ticks\":\"\",\"zerolinecolor\":\"white\",\"gridwidth\":2},\"yaxis\":{\"backgroundcolor\":\"#E5ECF6\",\"gridcolor\":\"white\",\"linecolor\":\"white\",\"showbackground\":true,\"ticks\":\"\",\"zerolinecolor\":\"white\",\"gridwidth\":2},\"zaxis\":{\"backgroundcolor\":\"#E5ECF6\",\"gridcolor\":\"white\",\"linecolor\":\"white\",\"showbackground\":true,\"ticks\":\"\",\"zerolinecolor\":\"white\",\"gridwidth\":2}},\"shapedefaults\":{\"line\":{\"color\":\"#2a3f5f\"}},\"annotationdefaults\":{\"arrowcolor\":\"#2a3f5f\",\"arrowhead\":0,\"arrowwidth\":1},\"geo\":{\"bgcolor\":\"white\",\"landcolor\":\"#E5ECF6\",\"subunitcolor\":\"white\",\"showland\":true,\"showlakes\":true,\"lakecolor\":\"white\"},\"title\":{\"x\":0.05},\"mapbox\":{\"style\":\"light\"}}}},                        {\"responsive\": true}                    ).then(function(){\n",
       "                            \n",
       "var gd = document.getElementById('110f94de-00cc-4fce-ae59-eea3df02ad55');\n",
       "var x = new MutationObserver(function (mutations, observer) {{\n",
       "        var display = window.getComputedStyle(gd).display;\n",
       "        if (!display || display === 'none') {{\n",
       "            console.log([gd, 'removed!']);\n",
       "            Plotly.purge(gd);\n",
       "            observer.disconnect();\n",
       "        }}\n",
       "}});\n",
       "\n",
       "// Listen for the removal of the full notebook cells\n",
       "var notebookContainer = gd.closest('#notebook-container');\n",
       "if (notebookContainer) {{\n",
       "    x.observe(notebookContainer, {childList: true});\n",
       "}}\n",
       "\n",
       "// Listen for the clearing of the current output cell\n",
       "var outputEl = gd.closest('.output');\n",
       "if (outputEl) {{\n",
       "    x.observe(outputEl, {childList: true});\n",
       "}}\n",
       "\n",
       "                        })                };                });            </script>        </div>"
      ]
     },
     "metadata": {},
     "output_type": "display_data"
    }
   ],
   "source": [
    "optuna.visualization.plot_param_importances(study)"
   ]
  },
  {
   "cell_type": "code",
   "execution_count": 22,
   "id": "093e56d1",
   "metadata": {
    "execution": {
     "iopub.execute_input": "2022-12-28T14:22:38.153946Z",
     "iopub.status.busy": "2022-12-28T14:22:38.153512Z",
     "iopub.status.idle": "2022-12-28T14:22:38.159717Z",
     "shell.execute_reply": "2022-12-28T14:22:38.158454Z"
    },
    "papermill": {
     "duration": 0.075652,
     "end_time": "2022-12-28T14:22:38.162337",
     "exception": false,
     "start_time": "2022-12-28T14:22:38.086685",
     "status": "completed"
    },
    "tags": []
   },
   "outputs": [
    {
     "name": "stdout",
     "output_type": "stream",
     "text": [
      "{'lambda_l1': 0.012277548072934017, 'lambda_l2': 0.12761375962313365, 'num_leaves': 191, 'feature_fraction': 0.612083319277447, 'bagging_fraction': 0.6956054006849886, 'bagging_freq': 0, 'min_child_samples': 19}\n"
     ]
    }
   ],
   "source": [
    "print(study.best_params)"
   ]
  },
  {
   "cell_type": "code",
   "execution_count": 23,
   "id": "626d3edc",
   "metadata": {
    "execution": {
     "iopub.execute_input": "2022-12-28T14:22:38.295945Z",
     "iopub.status.busy": "2022-12-28T14:22:38.295012Z",
     "iopub.status.idle": "2022-12-28T14:22:38.302843Z",
     "shell.execute_reply": "2022-12-28T14:22:38.301760Z"
    },
    "papermill": {
     "duration": 0.07809,
     "end_time": "2022-12-28T14:22:38.305455",
     "exception": false,
     "start_time": "2022-12-28T14:22:38.227365",
     "status": "completed"
    },
    "tags": []
   },
   "outputs": [],
   "source": [
    "# Function to plot ROC curve\n",
    "def plot_roc_curve(fpr, tpr):\n",
    "    plt.plot(fpr, tpr, color='orange', label='ROC')\n",
    "    plt.plot([0, 1], [0, 1], color='darkblue', linestyle='--')\n",
    "    plt.xlabel('False Positive Rate')\n",
    "    plt.ylabel('True Positive Rate')\n",
    "    plt.title('Receiver Operating Characteristic (ROC) Curve')\n",
    "    plt.legend()\n",
    "    plt.show()"
   ]
  },
  {
   "cell_type": "code",
   "execution_count": 24,
   "id": "d84b22dd",
   "metadata": {
    "execution": {
     "iopub.execute_input": "2022-12-28T14:22:38.528785Z",
     "iopub.status.busy": "2022-12-28T14:22:38.527598Z",
     "iopub.status.idle": "2022-12-28T14:22:38.819628Z",
     "shell.execute_reply": "2022-12-28T14:22:38.818162Z"
    },
    "papermill": {
     "duration": 0.373414,
     "end_time": "2022-12-28T14:22:38.824032",
     "exception": false,
     "start_time": "2022-12-28T14:22:38.450618",
     "status": "completed"
    },
    "tags": []
   },
   "outputs": [
    {
     "data": {
      "image/png": "[encoded data removed]",
      "text/plain": [
       "<Figure size 432x288 with 1 Axes>"
      ]
     },
     "metadata": {
      "needs_background": "light"
     },
     "output_type": "display_data"
    },
    {
     "name": "stdout",
     "output_type": "stream",
     "text": [
      "0.92\n"
     ]
    }
   ],
   "source": [
    "fpr, tpr, thresholds = roc_curve(y_train, y_train_pred)\n",
    "plot_roc_curve(fpr, tpr)\n",
    "\n",
    "print(np.round(roc_auc_score(y_train, y_train_pred, average=None), 2))"
   ]
  },
  {
   "cell_type": "code",
   "execution_count": 25,
   "id": "496954fd",
   "metadata": {
    "execution": {
     "iopub.execute_input": "2022-12-28T14:22:38.961959Z",
     "iopub.status.busy": "2022-12-28T14:22:38.961465Z",
     "iopub.status.idle": "2022-12-28T14:22:39.200608Z",
     "shell.execute_reply": "2022-12-28T14:22:39.198962Z"
    },
    "papermill": {
     "duration": 0.312987,
     "end_time": "2022-12-28T14:22:39.204772",
     "exception": false,
     "start_time": "2022-12-28T14:22:38.891785",
     "status": "completed"
    },
    "tags": []
   },
   "outputs": [
    {
     "data": {
      "image/png": "[encoded data removed]",
      "text/plain": [
       "<Figure size 432x288 with 1 Axes>"
      ]
     },
     "metadata": {
      "needs_background": "light"
     },
     "output_type": "display_data"
    },
    {
     "name": "stdout",
     "output_type": "stream",
     "text": [
      "0.87\n"
     ]
    }
   ],
   "source": [
    "fpr, tpr, thresholds = roc_curve(y_valid, y_valid_pred)\n",
    "plot_roc_curve(fpr, tpr)\n",
    "\n",
    "print(np.round(roc_auc_score(y_valid, y_valid_pred, average=None), 2))"
   ]
  },
  {
   "cell_type": "code",
   "execution_count": 26,
   "id": "cc06fe79",
   "metadata": {
    "execution": {
     "iopub.execute_input": "2022-12-28T14:22:39.350007Z",
     "iopub.status.busy": "2022-12-28T14:22:39.349576Z",
     "iopub.status.idle": "2022-12-28T14:22:39.361758Z",
     "shell.execute_reply": "2022-12-28T14:22:39.359897Z"
    },
    "papermill": {
     "duration": 0.087233,
     "end_time": "2022-12-28T14:22:39.364495",
     "exception": false,
     "start_time": "2022-12-28T14:22:39.277262",
     "status": "completed"
    },
    "tags": []
   },
   "outputs": [
    {
     "name": "stdout",
     "output_type": "stream",
     "text": [
      "[[163   3]\n",
      " [ 58  44]]\n",
      "Accuracy: 0.77 \n",
      "\n",
      "F1: 0.5906040268456376 \n",
      "\n"
     ]
    }
   ],
   "source": [
    "# Create Confusion Matrix\n",
    "pred_class = y_valid_pred > 0.5\n",
    "pred_class = pred_class.astype(int)\n",
    "cm = confusion_matrix(y_valid, pred_class)\n",
    "print(cm)\n",
    "\n",
    "# Get accuracy\n",
    "accuracy = round(accuracy_score(y_valid,pred_class),4)\n",
    "print(\"Accuracy: {}\".format(np.round(accuracy, 2)),\"\\n\")\n",
    "\n",
    "# Get f1 score (it is required on the Task 1 of this dataset)\n",
    "f1 = f1_score(y_valid,pred_class)\n",
    "print(\"F1: {}\".format(f1),\"\\n\")\n"
   ]
  },
  {
   "cell_type": "code",
   "execution_count": 27,
   "id": "7d41773f",
   "metadata": {
    "execution": {
     "iopub.execute_input": "2022-12-28T14:22:39.509352Z",
     "iopub.status.busy": "2022-12-28T14:22:39.508933Z",
     "iopub.status.idle": "2022-12-28T14:22:39.522307Z",
     "shell.execute_reply": "2022-12-28T14:22:39.520512Z"
    },
    "papermill": {
     "duration": 0.09302,
     "end_time": "2022-12-28T14:22:39.525850",
     "exception": false,
     "start_time": "2022-12-28T14:22:39.432830",
     "status": "completed"
    },
    "tags": []
   },
   "outputs": [
    {
     "name": "stdout",
     "output_type": "stream",
     "text": [
      "[[163   3]\n",
      " [ 58  44]]\n",
      "Accuracy: 0.77 \n",
      "\n",
      "F1: 0.5906040268456376 \n",
      "\n"
     ]
    }
   ],
   "source": [
    "# Create Confusion Matrix\n",
    "pred_class = y_valid_pred > 0.5\n",
    "pred_class = pred_class.astype(int)\n",
    "cm = confusion_matrix(y_valid, pred_class)\n",
    "print(cm)\n",
    "\n",
    "# Get accuracy\n",
    "accuracy = round(accuracy_score(y_valid,pred_class),4)\n",
    "print(\"Accuracy: {}\".format(np.round(accuracy, 2)),\"\\n\")\n",
    "\n",
    "# Get f1 score (it is required on the Task 1 of this dataset)\n",
    "f1 = f1_score(y_valid,pred_class)\n",
    "print(\"F1: {}\".format(f1),\"\\n\")\n"
   ]
  },
  {
   "cell_type": "code",
   "execution_count": 28,
   "id": "c27aa95b",
   "metadata": {
    "execution": {
     "iopub.execute_input": "2022-12-28T14:22:39.677770Z",
     "iopub.status.busy": "2022-12-28T14:22:39.677296Z",
     "iopub.status.idle": "2022-12-28T14:22:40.119658Z",
     "shell.execute_reply": "2022-12-28T14:22:40.117679Z"
    },
    "papermill": {
     "duration": 0.52049,
     "end_time": "2022-12-28T14:22:40.122841",
     "exception": false,
     "start_time": "2022-12-28T14:22:39.602351",
     "status": "completed"
    },
    "tags": []
   },
   "outputs": [
    {
     "data": {
      "image/png": "[encoded data removed]",
      "text/plain": [
       "<Figure size 1440x720 with 1 Axes>"
      ]
     },
     "metadata": {
      "needs_background": "light"
     },
     "output_type": "display_data"
    }
   ],
   "source": [
    "# See the feature importance\n",
    "importance_feature = pd.DataFrame({\n",
    "    'Value': clf.feature_importance(),\n",
    "    'Feature':clf.feature_name()\n",
    "}).sort_values(by=\"Value\", ascending=False)\n",
    "\n",
    "# Create a plot\n",
    "plt.figure(figsize=(20, 10))\n",
    "sns.barplot(x='Value', y='Feature', data=importance_feature);\n",
    "plt.title(\"Importance feature\");\n"
   ]
  },
  {
   "cell_type": "code",
   "execution_count": 29,
   "id": "819d1370",
   "metadata": {
    "_cell_guid": "088270d7-6355-4cbf-8c13-fc4ff51dcd32",
    "_uuid": "fa34b6ca-9251-4f80-bb0c-2855c3127454",
    "collapsed": false,
    "execution": {
     "iopub.execute_input": "2022-12-28T14:22:40.265967Z",
     "iopub.status.busy": "2022-12-28T14:22:40.265540Z",
     "iopub.status.idle": "2022-12-28T14:22:40.270562Z",
     "shell.execute_reply": "2022-12-28T14:22:40.269511Z"
    },
    "jupyter": {
     "outputs_hidden": false
    },
    "papermill": {
     "duration": 0.078267,
     "end_time": "2022-12-28T14:22:40.272630",
     "exception": false,
     "start_time": "2022-12-28T14:22:40.194363",
     "status": "completed"
    },
    "tags": []
   },
   "outputs": [],
   "source": [
    "# # transform categorical features into categories and add their appropiate category label\n",
    "# df['Survived'] = df['Survived'].astype('category')\n",
    "# df['Survived'] = df['Survived'].map({0: 'No', 1: 'Yes'})\n",
    "# df['Pclass'] = df['Pclass'].astype('category')\n",
    "# df['Pclass'] = df['Pclass'].map({1: '1st', 2: '2nd', 3: '3rd'})\n",
    "# df['Embarked'] = df['Embarked'].astype('category')\n",
    "# df['Embarked'] = df['Embarked'].map({'C': 'Cherbourg', 'Q': 'Queenstown', 'S': 'Southampton'})\n",
    "# df['SexCat'] = 1\n",
    "# df.loc[df['Sex'] == 'female', 'SexCat'] = 0\n",
    "# df['SexCat'] = df['SexCat'].map({0: 'Female', 1: 'Male'})\n",
    "# df['SexCat'] = df['SexCat'].astype('category')\n",
    "# df['CabinLetter'] = df['CabinLetter'].astype('category')"
   ]
  },
  {
   "cell_type": "code",
   "execution_count": 30,
   "id": "70c5b660",
   "metadata": {
    "_cell_guid": "a6f933c8-6289-4b05-9276-db86b6c8dd67",
    "_uuid": "dcd844c3-f3f1-4d80-b568-e7eccc6dfab8",
    "collapsed": false,
    "execution": {
     "iopub.execute_input": "2022-12-28T14:22:40.413675Z",
     "iopub.status.busy": "2022-12-28T14:22:40.413188Z",
     "iopub.status.idle": "2022-12-28T14:22:40.418995Z",
     "shell.execute_reply": "2022-12-28T14:22:40.417666Z"
    },
    "jupyter": {
     "outputs_hidden": false
    },
    "papermill": {
     "duration": 0.080921,
     "end_time": "2022-12-28T14:22:40.421506",
     "exception": false,
     "start_time": "2022-12-28T14:22:40.340585",
     "status": "completed"
    },
    "tags": []
   },
   "outputs": [],
   "source": [
    "# feat_des = {\n",
    "#     \"Survived\": \"Survival\",\n",
    "#     \"pclass\": \"Ticket class\",\n",
    "#     \"sex\": \"Sex\",\n",
    "#     \"Age\": \"Age in years\",\n",
    "#     \"sibsp\": \"# of siblings / spouses aboard the Titanic\",\n",
    "#     \"parch\": \"# of parents / children aboard the Titanic\",\n",
    "#     \"ticket\": \"Ticket number\",\n",
    "#     \"fare\": \"Passenger fare\",\n",
    "#     \"cabin\": \"Cabin number\",\n",
    "#     \"embarked\": \"Port of Embarkation\",\n",
    "# }"
   ]
  }
 ],
 "metadata": {
  "kernelspec": {
   "display_name": "Python 3",
   "language": "python",
   "name": "python3"
  },
  "language_info": {
   "codemirror_mode": {
    "name": "ipython",
    "version": 3
   },
   "file_extension": ".py",
   "mimetype": "text/x-python",
   "name": "python",
   "nbconvert_exporter": "python",
   "pygments_lexer": "ipython3",
   "version": "3.7.12"
  },
  "papermill": {
   "default_parameters": {},
   "duration": 309.752591,
   "end_time": "2022-12-28T14:22:44.471503",
   "environment_variables": {},
   "exception": null,
   "input_path": "__notebook__.ipynb",
   "output_path": "__notebook__.ipynb",
   "parameters": {},
   "start_time": "2022-12-28T14:17:34.718912",
   "version": "2.3.4"
  }
 },
 "nbformat": 4,
 "nbformat_minor": 5
}
